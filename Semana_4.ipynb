{
  "nbformat": 4,
  "nbformat_minor": 0,
  "metadata": {
    "colab": {
      "name": "Semana_4.ipynb",
      "provenance": [],
      "private_outputs": true,
      "collapsed_sections": [],
      "authorship_tag": "ABX9TyPrmI/CdVAqZeacrO6FHgMf",
      "include_colab_link": true
    },
    "kernelspec": {
      "name": "python3",
      "display_name": "Python 3"
    }
  },
  "cells": [
    {
      "cell_type": "markdown",
      "metadata": {
        "id": "view-in-github",
        "colab_type": "text"
      },
      "source": [
        "<a href=\"https://colab.research.google.com/github/rafaelmgr12/UNIVESP-AlgeProg1/blob/master/Semana_4.ipynb\" target=\"_parent\"><img src=\"https://colab.research.google.com/assets/colab-badge.svg\" alt=\"Open In Colab\"/></a>"
      ]
    },
    {
      "cell_type": "markdown",
      "metadata": {
        "id": "N1tQCMUkJn2T",
        "colab_type": "text"
      },
      "source": [
        "# Semana 4 - Criação de programas\n",
        "\n"
      ]
    },
    {
      "cell_type": "markdown",
      "metadata": {
        "id": "NoV6JJlmg_5F",
        "colab_type": "text"
      },
      "source": [
        "## Setup o Google Colab"
      ]
    },
    {
      "cell_type": "code",
      "metadata": {
        "id": "rnTbZLGYdIwm",
        "colab_type": "code",
        "colab": {}
      },
      "source": [
        "try:\n",
        "    import google.colab\n",
        "    IN_COLAB = True\n",
        "except:\n",
        "    IN_COLAB = False\n",
        "if IN_COLAB:\n",
        "    print(\"Baixando Funções que serão usadas nesse notebook\")\n",
        "    ! shred -u funcoes.py\n",
        "    ! wget https://raw.githubusercontent.com/rafaelmgr12/UNIVESP-AlgeProg1/blob/master/funcoes/funcoes.py -O funcoes.py\n",
        "    import funcoes as fun\n",
        "    "
      ],
      "execution_count": null,
      "outputs": []
    },
    {
      "cell_type": "markdown",
      "metadata": {
        "id": "DodzIU8iJxIx",
        "colab_type": "text"
      },
      "source": [
        "## Programa em Python\n",
        "\n",
        "Um programa em Python é um conjunto\n",
        "de instruções que são executadas em\n",
        "ordem, seguindo os conceitos sobre\n",
        "algoritmos que vimos antes:\n",
        "* sequenciamento\n",
        "* estruturas de condição\n",
        "* estruturas de repetição\n",
        "\n",
        "Em vez de usarmos o shell interativo\n",
        "para executar cada instrução em Python,\n",
        "iremos implementar as instruções de um\n",
        "programa em um ou mais arquivos com\n",
        "extensão .py\n",
        "Para isso, devemos usar o editor\n",
        "disponível na IDE que estamos usando.\n",
        "\n",
        "Execução do programa por linha de\n",
        "comando:\n",
        "\n",
        "- Abrir o terminal do sistema operacional\n",
        "- Ir até a pasta onde está armazenado o\n",
        "programa\n",
        "- Executar o arquivo usando o\n",
        "interpretador Python\n",
        "\n",
        "\n"
      ]
    },
    {
      "cell_type": "markdown",
      "metadata": {
        "id": "lpKp3D6tL9HC",
        "colab_type": "text"
      },
      "source": [
        "## Métodos para programas\n",
        "\n"
      ]
    },
    {
      "cell_type": "markdown",
      "metadata": {
        "id": "j4nZxvJvMSmO",
        "colab_type": "text"
      },
      "source": [
        "### print()\n",
        "A função print() é usada para imprimir\n",
        "aquilo que é enviado no argumento (entre\n",
        "parênteses)\n",
        "\n",
        "**Exemplos**:"
      ]
    },
    {
      "cell_type": "code",
      "metadata": {
        "id": "SpUVwwVkJR4B",
        "colab_type": "code",
        "colab": {}
      },
      "source": [
        "print(0) \n",
        "print([1, 2, 3])\n",
        "print('Olá')\n",
        "x = 2\n",
        "print(x) "
      ],
      "execution_count": null,
      "outputs": []
    },
    {
      "cell_type": "markdown",
      "metadata": {
        "id": "lsbGBY4pMvLv",
        "colab_type": "text"
      },
      "source": [
        "É possível também passar mais de um\n",
        "argumento para a função."
      ]
    },
    {
      "cell_type": "code",
      "metadata": {
        "id": "_sNAur8iMmiz",
        "colab_type": "code",
        "colab": {}
      },
      "source": [
        "h = 13\n",
        "print('Agora são', h, 'horas.')"
      ],
      "execution_count": null,
      "outputs": []
    },
    {
      "cell_type": "markdown",
      "metadata": {
        "id": "soUb9DEdMz-w",
        "colab_type": "text"
      },
      "source": [
        "Outros argumentos da função print():"
      ]
    },
    {
      "cell_type": "code",
      "metadata": {
        "id": "RVQkj743MziQ",
        "colab_type": "code",
        "colab": {}
      },
      "source": [
        "dia = 1\n",
        "mes = 12\n",
        "ano = 1990\n",
        "print(dia, mes, ano, sep='/')\n",
        "print(dia, mes, ano, sep='/', end='.\\n')\n"
      ],
      "execution_count": null,
      "outputs": []
    },
    {
      "cell_type": "markdown",
      "metadata": {
        "id": "0yYlRurxM9SU",
        "colab_type": "text"
      },
      "source": [
        "### input()\n",
        "O comando input() é usado para solicitar\n",
        "dados do usuário no shell:"
      ]
    },
    {
      "cell_type": "code",
      "metadata": {
        "id": "X-DmU-SRM7dH",
        "colab_type": "code",
        "colab": {}
      },
      "source": [
        "nome = input('Digite seu nome:')"
      ],
      "execution_count": null,
      "outputs": []
    },
    {
      "cell_type": "code",
      "metadata": {
        "id": "fTRCZ4upNC_m",
        "colab_type": "code",
        "colab": {}
      },
      "source": [
        "nome"
      ],
      "execution_count": null,
      "outputs": []
    },
    {
      "cell_type": "markdown",
      "metadata": {
        "id": "fZNsTG2mNPEu",
        "colab_type": "text"
      },
      "source": [
        "Obs.: A função input() sempre retorna\n",
        "uma string, independente do valor\n",
        "digitado pelo usuário"
      ]
    },
    {
      "cell_type": "markdown",
      "metadata": {
        "id": "LbdIZMxoNSI_",
        "colab_type": "text"
      },
      "source": [
        "### eval()\n",
        "É possível explicitamente instruir a linguagem\n",
        "para avaliar uma string como uma expressão\n",
        "Python."
      ]
    },
    {
      "cell_type": "code",
      "metadata": {
        "id": "cd4yXvxPNHIz",
        "colab_type": "code",
        "colab": {}
      },
      "source": [
        "eval('3')"
      ],
      "execution_count": null,
      "outputs": []
    },
    {
      "cell_type": "code",
      "metadata": {
        "id": "CuNl228hNZPR",
        "colab_type": "code",
        "colab": {}
      },
      "source": [
        "eval('3 + 4')"
      ],
      "execution_count": null,
      "outputs": []
    },
    {
      "cell_type": "code",
      "metadata": {
        "id": "X_AhlfEVNay8",
        "colab_type": "code",
        "colab": {}
      },
      "source": [
        "eval('len([1, 2, 3])')"
      ],
      "execution_count": null,
      "outputs": []
    },
    {
      "cell_type": "code",
      "metadata": {
        "id": "nl_LInfhNcrw",
        "colab_type": "code",
        "colab": {}
      },
      "source": [
        "eval('3 > 4')"
      ],
      "execution_count": null,
      "outputs": []
    },
    {
      "cell_type": "code",
      "metadata": {
        "id": "v1Yh1bDyNeX2",
        "colab_type": "code",
        "colab": {}
      },
      "source": [
        "x = input('Valor:')"
      ],
      "execution_count": null,
      "outputs": []
    },
    {
      "cell_type": "code",
      "metadata": {
        "id": "TRxgWekTNfip",
        "colab_type": "code",
        "colab": {}
      },
      "source": [
        "eval(x)"
      ],
      "execution_count": null,
      "outputs": []
    },
    {
      "cell_type": "code",
      "metadata": {
        "id": "ec8Iy8v2Nieo",
        "colab_type": "code",
        "colab": {}
      },
      "source": [
        "eval(x)"
      ],
      "execution_count": null,
      "outputs": []
    },
    {
      "cell_type": "markdown",
      "metadata": {
        "id": "qO_-2256Nnr6",
        "colab_type": "text"
      },
      "source": [
        "### Exemplo\n",
        "\n",
        "Fazer um programa em Python em que o\n",
        "usuário informa uma temperatura em\n",
        "Celsius, e o programa emite a\n",
        "temperatura em Fahrenheit.\n",
        "\n",
        "Usar a fórmula:\n",
        "$$ F = 1.8 * C + 32$$"
      ]
    },
    {
      "cell_type": "code",
      "metadata": {
        "id": "HuPWb6DsNxaJ",
        "colab_type": "code",
        "colab": {}
      },
      "source": [
        ""
      ],
      "execution_count": null,
      "outputs": []
    },
    {
      "cell_type": "markdown",
      "metadata": {
        "id": "xQADMt9wNyu2",
        "colab_type": "text"
      },
      "source": [
        "## Definição de funções\n",
        "\n",
        "Python permite que o programador crie\n",
        "suas próprias funções.\n",
        "É útil quando precisamos executar uma\n",
        "sequência de instruções várias vezes, em\n",
        "diferentes partes do programa.\n",
        "Permite modularizar o programa,\n",
        "facilitando o reúso e manutenção.\n",
        "\n"
      ]
    },
    {
      "cell_type": "markdown",
      "metadata": {
        "id": "1STURpZTN7J5",
        "colab_type": "text"
      },
      "source": [
        "### Primeira função\n",
        "Suponha que queremos definir uma função que calcula $f(x)$ :\n",
        "$$f(x) = x^2+1$$\n",
        "\n",
        "**Como fazer** ?\n"
      ]
    },
    {
      "cell_type": "code",
      "metadata": {
        "id": "f_-KOnvlN39N",
        "colab_type": "code",
        "colab": {}
      },
      "source": [
        "def f(x):\n",
        "  res = x^2 + 1 \n",
        "  return res\n",
        "\n",
        "f(1)"
      ],
      "execution_count": null,
      "outputs": []
    },
    {
      "cell_type": "markdown",
      "metadata": {
        "id": "bYf2ulr_Oiq2",
        "colab_type": "text"
      },
      "source": [
        "### Formato\n",
        "\n",
        "O formato geral para definição de\n",
        "funções em Python é:\n",
        "\n",
        "```\n",
        "def <nome da função> (<parâmetros>):\n",
        "<instruções com identação>\n",
        "...\n",
        "return <valor> (opcional)\n",
        "\n",
        "```\n",
        "\n"
      ]
    },
    {
      "cell_type": "markdown",
      "metadata": {
        "id": "y8dtvJNrOrEY",
        "colab_type": "text"
      },
      "source": [
        "### Função com vários parâmetros\n",
        "\n",
        "Função que calcula o preço de um\n",
        "produto atualizado pela taxa de juros:"
      ]
    },
    {
      "cell_type": "code",
      "metadata": {
        "id": "qo77NL3POf4-",
        "colab_type": "code",
        "colab": {}
      },
      "source": [
        "def juros(preco, juros):\n",
        "  res = preco * (1 + (juros / 100))\n",
        "  return res\n",
        "\n",
        "juros(10,15)"
      ],
      "execution_count": null,
      "outputs": []
    },
    {
      "cell_type": "markdown",
      "metadata": {
        "id": "MsbVSfClQLbI",
        "colab_type": "text"
      },
      "source": [
        "### print() e return \n",
        "Qual a diferença entre as duas funções\n",
        "abaixo?\n",
        "```\n",
        "def f(x):\n",
        "  res = x^2 + 1 \n",
        "  return res\n",
        "```\n",
        "e\n",
        "```\n",
        "def g(x):\n",
        "  res = x^2 + 1 \n",
        "  print(res)\n",
        "```"
      ]
    },
    {
      "cell_type": "markdown",
      "metadata": {
        "id": "QcxbzdOHQdOm",
        "colab_type": "text"
      },
      "source": [
        "Escreva a sua resposta aqui"
      ]
    },
    {
      "cell_type": "markdown",
      "metadata": {
        "id": "Xu1r-EtpQirL",
        "colab_type": "text"
      },
      "source": [
        "### Ordem de definição\n",
        "Ao definir uma função em Python, é\n",
        "importante sempre defini-la antes de\n",
        "executar, na ordem sequencial de cima\n",
        "para baixo no arquivo.\n",
        "\n",
        "Por exemplo, o código abaixo irá gerar\n",
        "erro:\n",
        "\n"
      ]
    },
    {
      "cell_type": "code",
      "metadata": {
        "id": "XsCug_RBQD8i",
        "colab_type": "code",
        "colab": {}
      },
      "source": [
        "print(h(3))\n",
        "def h(x):\n",
        "  return x**2 + 1"
      ],
      "execution_count": null,
      "outputs": []
    },
    {
      "cell_type": "markdown",
      "metadata": {
        "id": "Kx6ZUmEpRESc",
        "colab_type": "text"
      },
      "source": [
        "Já o seguinte código não gera erro, pois\n",
        "as duas funções estão apenas sendo\n",
        "definidas (sem executá-las):"
      ]
    },
    {
      "cell_type": "code",
      "metadata": {
        "id": "mUo7qtcSQ_oq",
        "colab_type": "code",
        "colab": {}
      },
      "source": [
        "def g(x):\n",
        "  return f(x)\n",
        "\n",
        "def f(x):\n",
        "  return x**2 + 1"
      ],
      "execution_count": null,
      "outputs": []
    },
    {
      "cell_type": "markdown",
      "metadata": {
        "id": "Tc3k6vtRRQqQ",
        "colab_type": "text"
      },
      "source": [
        "## Documentação de programas\n",
        "\n",
        "A documentação de programas permite:\n",
        "- que usuários entendam o que o programa\n",
        "faz\n",
        "- que desenvolvedores entendam como o\n",
        "programa funciona\n",
        "\n",
        "É importante documentar programas até\n",
        "para o próprio autor daquele código, já que à\n",
        "medida em que o programa se torna\n",
        "complexo, o desenvolvedor pode se\n",
        "esquecer daquele trecho que implementou\n",
        "anteriormente.\n",
        "\n",
        "Documentar um código em Python\n",
        "normalmente é realizado por meio de\n",
        "comentários.\n",
        "Um comentário é um texto que precede o\n",
        "caractere '#'.\n",
        "\n",
        "Exemplo:"
      ]
    },
    {
      "cell_type": "code",
      "metadata": {
        "id": "B9MeYHg0RLJx",
        "colab_type": "code",
        "colab": {}
      },
      "source": [
        "def f(x):\n",
        "  res = x**2 + 1 # calcula x**2 + 1 e armazena o\n",
        "  # resultado em res\n",
        "  return res # retorna o valor de res"
      ],
      "execution_count": null,
      "outputs": []
    },
    {
      "cell_type": "markdown",
      "metadata": {
        "id": "e-9nxdrARi8-",
        "colab_type": "text"
      },
      "source": [
        "Caso o comentário ocupe várias linhas,\n",
        "pode-se delimitá-lo por três aspas simples ou\n",
        "três aspas duplas:"
      ]
    },
    {
      "cell_type": "code",
      "metadata": {
        "id": "6L09wh9NRhOq",
        "colab_type": "code",
        "colab": {}
      },
      "source": [
        "'''\n",
        "Calcula x**2 + 1\n",
        "Retorna o resultado\n",
        "'''\n",
        "def f(x):\n",
        "  res = x**2 + 1\n",
        "  return res"
      ],
      "execution_count": null,
      "outputs": []
    },
    {
      "cell_type": "markdown",
      "metadata": {
        "id": "F4TRiJbsR0I0",
        "colab_type": "text"
      },
      "source": [
        "É importante saber balancear entre\n",
        "comentários e legibilidade de código.\n",
        "\n",
        "Comentários podem ser usados para\n",
        "explicar partes complexas do programa.\n",
        "\n",
        "Variáveis com nomes significativos\n",
        "podem ser usadas para tornar o código\n",
        "autoexplicativo."
      ]
    },
    {
      "cell_type": "markdown",
      "metadata": {
        "id": "ljqjrsIwR2t-",
        "colab_type": "text"
      },
      "source": [
        "## Docstrings\n",
        "\n",
        "A documentação de funções também é\n",
        "importante para auxiliar no seu\n",
        "entendimento.\n",
        "\n",
        "Funções previamente definidas possuem\n",
        "documentação que pode ser acessada\n",
        "por meio da função help():\n",
        "```\n",
        "help(max)\n",
        "```"
      ]
    },
    {
      "cell_type": "code",
      "metadata": {
        "id": "EAL8422-Rwx4",
        "colab_type": "code",
        "colab": {}
      },
      "source": [
        ""
      ],
      "execution_count": null,
      "outputs": []
    },
    {
      "cell_type": "markdown",
      "metadata": {
        "id": "O5V9U-NRSAC8",
        "colab_type": "text"
      },
      "source": [
        "No caso de funções definidas pelo\n",
        "usuário, se usarmos help() para obter a\n",
        "documentação, teremos alguma\n",
        "descrição da função:\n",
        "```\n",
        "help(f)\n",
        "```\n",
        "\n"
      ]
    },
    {
      "cell_type": "markdown",
      "metadata": {
        "id": "WL9IW4YPSIub",
        "colab_type": "text"
      },
      "source": [
        "Para documentar uma função, usamos\n",
        "comentários especiais, os quais chamamos\n",
        "de docstrings:\n",
        "\n"
      ]
    },
    {
      "cell_type": "code",
      "metadata": {
        "id": "KJHZeg5lSH_Q",
        "colab_type": "code",
        "colab": {}
      },
      "source": [
        "def f(x):\n",
        "  'Calcula x**2 + 1'\n",
        "  res = x**2 + 1\n",
        "  return res"
      ],
      "execution_count": null,
      "outputs": []
    },
    {
      "cell_type": "code",
      "metadata": {
        "id": "FBz7mJimSY41",
        "colab_type": "code",
        "colab": {}
      },
      "source": [
        "help(f)"
      ],
      "execution_count": null,
      "outputs": []
    },
    {
      "cell_type": "markdown",
      "metadata": {
        "id": "njjaklE5ScdZ",
        "colab_type": "text"
      },
      "source": [
        "## Exercício de apoio - Semana 4\n",
        "\n",
        "\n",
        "3.1 Implemente um programa que solicita a temperatura atual em graus Fahrenheit do usuário e exibe a temperatura em graus Celsius usando a fórmula\n",
        "\n",
        "$$Celsius = \\frac{5}{9}(fahrenheit-32)$$\n",
        "\n",
        "Seu programa deverá ser executado da seguinte forma:\n",
        "\n",
        "\n",
        "Digite a temperatura em graus Fahrenheit: 50\n",
        "\n",
        "A temperatura em graus Celsius é 10.0"
      ]
    },
    {
      "cell_type": "code",
      "metadata": {
        "id": "3EhLigJOSaFK",
        "colab_type": "code",
        "colab": {}
      },
      "source": [
        ""
      ],
      "execution_count": null,
      "outputs": []
    },
    {
      "cell_type": "markdown",
      "metadata": {
        "id": "ePOcSWxbTGfZ",
        "colab_type": "text"
      },
      "source": [
        "3.8\n",
        "\n",
        "Defina, diretamente no shell interativo, a função média(), que aceita dois números como entrada e retorna a média dos números. Um exemplo de uso é:\n",
        "```\n",
        "average(2, 3.5)\n",
        "```\n",
        "2.75"
      ]
    },
    {
      "cell_type": "markdown",
      "metadata": {
        "id": "NMelcG_aTRW5",
        "colab_type": "text"
      },
      "source": [
        "3.9\n",
        "\n",
        "Implemente a função perímetro(), que aceita, como entrada, o raio de um círculo (um número não negativo) e retorna o perímetro do círculo. Você deverá escrever sua implementação em um módulo chamado perímetro.py. Um exemplo de uso é:\n",
        "\n",
        "perimeter(1)\n",
        "\n",
        "6.283185307179586"
      ]
    },
    {
      "cell_type": "code",
      "metadata": {
        "id": "vRFZqTmOTQbB",
        "colab_type": "code",
        "colab": {}
      },
      "source": [
        ""
      ],
      "execution_count": null,
      "outputs": []
    },
    {
      "cell_type": "markdown",
      "metadata": {
        "id": "lE7MYub9YLQs",
        "colab_type": "text"
      },
      "source": [
        "3.10\n",
        "\n",
        "Escreva a função negativos(), que aceita uma lista como entrada e exibe, um por linha, os valores negativos na lista. A função não deverá retornar nada.\n",
        "```\n",
        "negatives([4, 0, -1, -3, 6, -9])\n",
        "```\n",
        "-1\n",
        "\n",
        "-3\n",
        "\n",
        "-9"
      ]
    },
    {
      "cell_type": "code",
      "metadata": {
        "id": "KHtDbXPPYV29",
        "colab_type": "code",
        "colab": {}
      },
      "source": [
        ""
      ],
      "execution_count": null,
      "outputs": []
    },
    {
      "cell_type": "markdown",
      "metadata": {
        "id": "JJ-ech0XXuiN",
        "colab_type": "text"
      },
      "source": [
        " 3.11 \n",
        "\n",
        "Acrescente a docstring retorna a média de x e y à função média() e a docstring exibe os números negativos contidos na lista lst à função negativos() dos Problemas Práticos 3.8 e 3.10. Verifique seu trabalho usando a ferramenta de documentação help(). Você deverá receber, por exemplo:\n",
        "```\n",
        "help(média)\n",
        "```\n",
        "Ajuda sobre a função média no módulo __main__:\n",
        "```\n",
        "média(x, y)\n",
        "```\n",
        "retorna a média de x e y"
      ]
    },
    {
      "cell_type": "code",
      "metadata": {
        "id": "7v8YUrD9bz8-",
        "colab_type": "code",
        "colab": {}
      },
      "source": [
        ""
      ],
      "execution_count": null,
      "outputs": []
    },
    {
      "cell_type": "markdown",
      "metadata": {
        "id": "5HTuAGCdb5no",
        "colab_type": "text"
      },
      "source": [
        "3.12\n",
        "\n",
        "Desenhe um diagrama representando o estado dos nomes e objetos após esta execução:\n",
        "```\n",
        "a = [5, 6, 7]\n",
        "b = a\n",
        "a = 3\n",
        "```\n",
        "Resposta"
      ]
    },
    {
      "cell_type": "markdown",
      "metadata": {
        "id": "PHlPgHwTfOUc",
        "colab_type": "text"
      },
      "source": [
        "3.13\n",
        "\n",
        "Suponha que uma lista não vazia time foi atribuída. Escreva uma instrução Python ou instruções que mapeiam o primeiro e último valor da lista. Assim, se a lista original for:\n",
        "```\n",
        "time = ['Ava', 'Eleanor', 'Clare', 'Sarah']\n",
        "```\n",
        "então a lista resultante deverá ser:\n",
        "```\n",
        "time\n",
        "```\n",
        "\n",
        "['Sarah', 'Eleanor', 'Clare', 'Ava']"
      ]
    },
    {
      "cell_type": "code",
      "metadata": {
        "id": "miOExKxgfHi-",
        "colab_type": "code",
        "colab": {}
      },
      "source": [
        ""
      ],
      "execution_count": null,
      "outputs": []
    },
    {
      "cell_type": "markdown",
      "metadata": {
        "id": "AuJ4R3dtfw11",
        "colab_type": "text"
      },
      "source": [
        "3.14 \n",
        "\n",
        "Implemente a função trocaPU(), que aceita uma lista como entrada e troca o primeiro e último elementos da lista. Você pode considerar que a lista não estará vazia. A função não deverá retornar nada.\n",
        "```\n",
        "ingredientes = ['farinha', 'açúcar', 'manteiga', 'maçãs']\n",
        "\n",
        "trocaPU(ingredientes)\n",
        "\n",
        "ingredientes\n",
        "```\n",
        "['maçãs', 'açúcar', 'manteiga', 'farinha']"
      ]
    },
    {
      "cell_type": "code",
      "metadata": {
        "id": "k32CbW2qf69-",
        "colab_type": "code",
        "colab": {}
      },
      "source": [
        ""
      ],
      "execution_count": null,
      "outputs": []
    }
  ]
}