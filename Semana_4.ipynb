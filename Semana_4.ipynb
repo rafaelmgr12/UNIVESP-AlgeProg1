{
  "nbformat": 4,
  "nbformat_minor": 0,
  "metadata": {
    "colab": {
      "name": "Semana_4.ipynb",
      "provenance": [],
      "private_outputs": true,
      "collapsed_sections": [],
      "authorship_tag": "ABX9TyO7R3BtrjaXb0upjmFXe6Lx",
      "include_colab_link": true
    },
    "kernelspec": {
      "name": "python3",
      "display_name": "Python 3"
    }
  },
  "cells": [
    {
      "cell_type": "markdown",
      "metadata": {
        "id": "view-in-github",
        "colab_type": "text"
      },
      "source": [
        "<a href=\"https://colab.research.google.com/github/rafaelmgr12/UNIVESP-AlgeProg1/blob/master/Semana_4.ipynb\" target=\"_parent\"><img src=\"https://colab.research.google.com/assets/colab-badge.svg\" alt=\"Open In Colab\"/></a>"
      ]
    },
    {
      "cell_type": "markdown",
      "metadata": {
        "id": "N1tQCMUkJn2T",
        "colab_type": "text"
      },
      "source": [
        "# Semana 4 - Criação de programas\n",
        "\n"
      ]
    },
    {
      "cell_type": "markdown",
      "metadata": {
        "id": "NoV6JJlmg_5F",
        "colab_type": "text"
      },
      "source": [
        "## Setup o Google Colab"
      ]
    },
    {
      "cell_type": "code",
      "metadata": {
        "id": "rnTbZLGYdIwm",
        "colab_type": "code",
        "colab": {}
      },
      "source": [
        "try:\n",
        "    import google.colab\n",
        "    IN_COLAB = True\n",
        "except:\n",
        "    IN_COLAB = False\n",
        "if IN_COLAB:\n",
        "    print(\"Baixando Funções que serão usadas nesse notebook\")\n",
        "    ! shred -u funcoes.py\n",
        "    ! wget https://raw.githubusercontent.com/rafaelmgr12/UNIVESP-AlgeProg1/master/funcoes/funcoes.py -O funcoes.py\n",
        "    import funcoes as func\n",
        "    "
      ],
      "execution_count": null,
      "outputs": []
    },
    {
      "cell_type": "markdown",
      "metadata": {
        "id": "DodzIU8iJxIx",
        "colab_type": "text"
      },
      "source": [
        "## Programa em Python\n",
        "\n",
        "Um programa em Python é um conjunto\n",
        "de instruções que são executadas em\n",
        "ordem, seguindo os conceitos sobre\n",
        "algoritmos que vimos antes:\n",
        "* sequenciamento\n",
        "* estruturas de condição\n",
        "* estruturas de repetição\n",
        "\n",
        "Em vez de usarmos o shell interativo\n",
        "para executar cada instrução em Python,\n",
        "iremos implementar as instruções de um\n",
        "programa em um ou mais arquivos com\n",
        "extensão .py\n",
        "Para isso, devemos usar o editor\n",
        "disponível na IDE que estamos usando.\n",
        "\n",
        "Execução do programa por linha de\n",
        "comando:\n",
        "\n",
        "- Abrir o terminal do sistema operacional\n",
        "- Ir até a pasta onde está armazenado o\n",
        "programa\n",
        "- Executar o arquivo usando o\n",
        "interpretador Python\n",
        "\n",
        "\n"
      ]
    },
    {
      "cell_type": "markdown",
      "metadata": {
        "id": "lpKp3D6tL9HC",
        "colab_type": "text"
      },
      "source": [
        "## Métodos para programas\n",
        "\n"
      ]
    },
    {
      "cell_type": "markdown",
      "metadata": {
        "id": "j4nZxvJvMSmO",
        "colab_type": "text"
      },
      "source": [
        "### print()\n",
        "A função print() é usada para imprimir\n",
        "aquilo que é enviado no argumento (entre\n",
        "parênteses)\n",
        "\n",
        "**Exemplos**:"
      ]
    },
    {
      "cell_type": "code",
      "metadata": {
        "id": "SpUVwwVkJR4B",
        "colab_type": "code",
        "colab": {}
      },
      "source": [
        "print(0) \n",
        "print([1, 2, 3])\n",
        "print('Olá')\n",
        "x = 2\n",
        "print(x) "
      ],
      "execution_count": null,
      "outputs": []
    },
    {
      "cell_type": "markdown",
      "metadata": {
        "id": "lsbGBY4pMvLv",
        "colab_type": "text"
      },
      "source": [
        "É possível também passar mais de um\n",
        "argumento para a função."
      ]
    },
    {
      "cell_type": "code",
      "metadata": {
        "id": "_sNAur8iMmiz",
        "colab_type": "code",
        "colab": {}
      },
      "source": [
        "h = 13\n",
        "print('Agora são', h, 'horas.')"
      ],
      "execution_count": null,
      "outputs": []
    },
    {
      "cell_type": "markdown",
      "metadata": {
        "id": "soUb9DEdMz-w",
        "colab_type": "text"
      },
      "source": [
        "Outros argumentos da função print():"
      ]
    },
    {
      "cell_type": "code",
      "metadata": {
        "id": "RVQkj743MziQ",
        "colab_type": "code",
        "colab": {}
      },
      "source": [
        "dia = 1\n",
        "mes = 12\n",
        "ano = 1990\n",
        "print(dia, mes, ano, sep='/')\n",
        "print(dia, mes, ano, sep='/', end='.\\n')\n"
      ],
      "execution_count": null,
      "outputs": []
    },
    {
      "cell_type": "markdown",
      "metadata": {
        "id": "0yYlRurxM9SU",
        "colab_type": "text"
      },
      "source": [
        "### input()\n",
        "O comando input() é usado para solicitar\n",
        "dados do usuário no shell:"
      ]
    },
    {
      "cell_type": "code",
      "metadata": {
        "id": "X-DmU-SRM7dH",
        "colab_type": "code",
        "colab": {}
      },
      "source": [
        "nome = input('Digite seu nome:')"
      ],
      "execution_count": null,
      "outputs": []
    },
    {
      "cell_type": "code",
      "metadata": {
        "id": "fTRCZ4upNC_m",
        "colab_type": "code",
        "colab": {}
      },
      "source": [
        "nome"
      ],
      "execution_count": null,
      "outputs": []
    },
    {
      "cell_type": "markdown",
      "metadata": {
        "id": "fZNsTG2mNPEu",
        "colab_type": "text"
      },
      "source": [
        "Obs.: A função input() sempre retorna\n",
        "uma string, independente do valor\n",
        "digitado pelo usuário"
      ]
    },
    {
      "cell_type": "markdown",
      "metadata": {
        "id": "LbdIZMxoNSI_",
        "colab_type": "text"
      },
      "source": [
        "### eval()\n",
        "É possível explicitamente instruir a linguagem\n",
        "para avaliar uma string como uma expressão\n",
        "Python."
      ]
    },
    {
      "cell_type": "code",
      "metadata": {
        "id": "cd4yXvxPNHIz",
        "colab_type": "code",
        "colab": {}
      },
      "source": [
        "eval('3')"
      ],
      "execution_count": null,
      "outputs": []
    },
    {
      "cell_type": "code",
      "metadata": {
        "id": "CuNl228hNZPR",
        "colab_type": "code",
        "colab": {}
      },
      "source": [
        "eval('3 + 4')"
      ],
      "execution_count": null,
      "outputs": []
    },
    {
      "cell_type": "code",
      "metadata": {
        "id": "X_AhlfEVNay8",
        "colab_type": "code",
        "colab": {}
      },
      "source": [
        "eval('len([1, 2, 3])')"
      ],
      "execution_count": null,
      "outputs": []
    },
    {
      "cell_type": "code",
      "metadata": {
        "id": "nl_LInfhNcrw",
        "colab_type": "code",
        "colab": {}
      },
      "source": [
        "eval('3 > 4')"
      ],
      "execution_count": null,
      "outputs": []
    },
    {
      "cell_type": "code",
      "metadata": {
        "id": "v1Yh1bDyNeX2",
        "colab_type": "code",
        "colab": {}
      },
      "source": [
        "x = input('Valor:')"
      ],
      "execution_count": null,
      "outputs": []
    },
    {
      "cell_type": "code",
      "metadata": {
        "id": "TRxgWekTNfip",
        "colab_type": "code",
        "colab": {}
      },
      "source": [
        "eval(x)"
      ],
      "execution_count": null,
      "outputs": []
    },
    {
      "cell_type": "code",
      "metadata": {
        "id": "ec8Iy8v2Nieo",
        "colab_type": "code",
        "colab": {}
      },
      "source": [
        "eval(x)"
      ],
      "execution_count": null,
      "outputs": []
    },
    {
      "cell_type": "markdown",
      "metadata": {
        "id": "qO_-2256Nnr6",
        "colab_type": "text"
      },
      "source": [
        "### Exemplo\n",
        "\n",
        "Fazer um programa em Python em que o\n",
        "usuário informa uma temperatura em\n",
        "Celsius, e o programa emite a\n",
        "temperatura em Fahrenheit.\n",
        "\n",
        "Usar a fórmula:\n",
        "$$ F = 1.8 * C + 32$$"
      ]
    },
    {
      "cell_type": "code",
      "metadata": {
        "id": "HuPWb6DsNxaJ",
        "colab_type": "code",
        "colab": {}
      },
      "source": [
        ""
      ],
      "execution_count": null,
      "outputs": []
    },
    {
      "cell_type": "markdown",
      "metadata": {
        "id": "xQADMt9wNyu2",
        "colab_type": "text"
      },
      "source": [
        "## Definição de funções\n",
        "\n",
        "Python permite que o programador crie\n",
        "suas próprias funções.\n",
        "É útil quando precisamos executar uma\n",
        "sequência de instruções várias vezes, em\n",
        "diferentes partes do programa.\n",
        "Permite modularizar o programa,\n",
        "facilitando o reúso e manutenção.\n",
        "\n"
      ]
    },
    {
      "cell_type": "markdown",
      "metadata": {
        "id": "1STURpZTN7J5",
        "colab_type": "text"
      },
      "source": [
        "### Primeira função\n",
        "Suponha que queremos definir uma função que calcula $f(x)$ :\n",
        "$$f(x) = x^2+1$$\n",
        "\n",
        "**Como fazer** ?\n"
      ]
    },
    {
      "cell_type": "code",
      "metadata": {
        "id": "f_-KOnvlN39N",
        "colab_type": "code",
        "colab": {}
      },
      "source": [
        "def f(x):\n",
        "  res = x^2 + 1 \n",
        "  return res\n",
        "\n",
        "f(1)"
      ],
      "execution_count": null,
      "outputs": []
    },
    {
      "cell_type": "markdown",
      "metadata": {
        "id": "bYf2ulr_Oiq2",
        "colab_type": "text"
      },
      "source": [
        "### Formato\n",
        "\n",
        "O formato geral para definição de\n",
        "funções em Python é:\n",
        "\n",
        "```\n",
        "def <nome da função> (<parâmetros>):\n",
        "<instruções com identação>\n",
        "...\n",
        "return <valor> (opcional)\n",
        "\n",
        "```\n",
        "\n"
      ]
    },
    {
      "cell_type": "markdown",
      "metadata": {
        "id": "y8dtvJNrOrEY",
        "colab_type": "text"
      },
      "source": [
        "### Função com vários parâmetros\n",
        "\n",
        "Função que calcula o preço de um\n",
        "produto atualizado pela taxa de juros:"
      ]
    },
    {
      "cell_type": "code",
      "metadata": {
        "id": "qo77NL3POf4-",
        "colab_type": "code",
        "colab": {}
      },
      "source": [
        "def juros(preco, juros):\n",
        "  res = preco * (1 + (juros / 100))\n",
        "  return res\n",
        "\n",
        "juros(10,15)"
      ],
      "execution_count": null,
      "outputs": []
    },
    {
      "cell_type": "markdown",
      "metadata": {
        "id": "MsbVSfClQLbI",
        "colab_type": "text"
      },
      "source": [
        "### print() e return \n",
        "Qual a diferença entre as duas funções\n",
        "abaixo?\n",
        "```\n",
        "def f(x):\n",
        "  res = x^2 + 1 \n",
        "  return res\n",
        "```\n",
        "e\n",
        "```\n",
        "def g(x):\n",
        "  res = x^2 + 1 \n",
        "  print(res)\n",
        "```"
      ]
    },
    {
      "cell_type": "markdown",
      "metadata": {
        "id": "QcxbzdOHQdOm",
        "colab_type": "text"
      },
      "source": [
        "Escreva a sua resposta aqui"
      ]
    },
    {
      "cell_type": "markdown",
      "metadata": {
        "id": "Xu1r-EtpQirL",
        "colab_type": "text"
      },
      "source": [
        "### Ordem de definição\n",
        "Ao definir uma função em Python, é\n",
        "importante sempre defini-la antes de\n",
        "executar, na ordem sequencial de cima\n",
        "para baixo no arquivo.\n",
        "\n",
        "Por exemplo, o código abaixo irá gerar\n",
        "erro:\n",
        "\n"
      ]
    },
    {
      "cell_type": "code",
      "metadata": {
        "id": "XsCug_RBQD8i",
        "colab_type": "code",
        "colab": {}
      },
      "source": [
        "print(h(3))\n",
        "def h(x):\n",
        "  return x**2 + 1"
      ],
      "execution_count": null,
      "outputs": []
    },
    {
      "cell_type": "markdown",
      "metadata": {
        "id": "Kx6ZUmEpRESc",
        "colab_type": "text"
      },
      "source": [
        "Já o seguinte código não gera erro, pois\n",
        "as duas funções estão apenas sendo\n",
        "definidas (sem executá-las):"
      ]
    },
    {
      "cell_type": "code",
      "metadata": {
        "id": "mUo7qtcSQ_oq",
        "colab_type": "code",
        "colab": {}
      },
      "source": [
        "def g(x):\n",
        "  return f(x)\n",
        "\n",
        "def f(x):\n",
        "  return x**2 + 1"
      ],
      "execution_count": null,
      "outputs": []
    },
    {
      "cell_type": "markdown",
      "metadata": {
        "id": "Tc3k6vtRRQqQ",
        "colab_type": "text"
      },
      "source": [
        "## Documentação de programas\n",
        "\n",
        "A documentação de programas permite:\n",
        "- que usuários entendam o que o programa\n",
        "faz\n",
        "- que desenvolvedores entendam como o\n",
        "programa funciona\n",
        "\n",
        "É importante documentar programas até\n",
        "para o próprio autor daquele código, já que à\n",
        "medida em que o programa se torna\n",
        "complexo, o desenvolvedor pode se\n",
        "esquecer daquele trecho que implementou\n",
        "anteriormente.\n",
        "\n",
        "Documentar um código em Python\n",
        "normalmente é realizado por meio de\n",
        "comentários.\n",
        "Um comentário é um texto que precede o\n",
        "caractere '#'.\n",
        "\n",
        "Exemplo:"
      ]
    },
    {
      "cell_type": "code",
      "metadata": {
        "id": "B9MeYHg0RLJx",
        "colab_type": "code",
        "colab": {}
      },
      "source": [
        "def f(x):\n",
        "  res = x**2 + 1 # calcula x**2 + 1 e armazena o\n",
        "  # resultado em res\n",
        "  return res # retorna o valor de res"
      ],
      "execution_count": null,
      "outputs": []
    },
    {
      "cell_type": "markdown",
      "metadata": {
        "id": "e-9nxdrARi8-",
        "colab_type": "text"
      },
      "source": [
        "Caso o comentário ocupe várias linhas,\n",
        "pode-se delimitá-lo por três aspas simples ou\n",
        "três aspas duplas:"
      ]
    },
    {
      "cell_type": "code",
      "metadata": {
        "id": "6L09wh9NRhOq",
        "colab_type": "code",
        "colab": {}
      },
      "source": [
        "'''\n",
        "Calcula x**2 + 1\n",
        "Retorna o resultado\n",
        "'''\n",
        "def f(x):\n",
        "  res = x**2 + 1\n",
        "  return res"
      ],
      "execution_count": null,
      "outputs": []
    },
    {
      "cell_type": "markdown",
      "metadata": {
        "id": "F4TRiJbsR0I0",
        "colab_type": "text"
      },
      "source": [
        "É importante saber balancear entre\n",
        "comentários e legibilidade de código.\n",
        "\n",
        "Comentários podem ser usados para\n",
        "explicar partes complexas do programa.\n",
        "\n",
        "Variáveis com nomes significativos\n",
        "podem ser usadas para tornar o código\n",
        "autoexplicativo."
      ]
    },
    {
      "cell_type": "markdown",
      "metadata": {
        "id": "ljqjrsIwR2t-",
        "colab_type": "text"
      },
      "source": [
        "## Docstrings\n",
        "\n",
        "A documentação de funções também é\n",
        "importante para auxiliar no seu\n",
        "entendimento.\n",
        "\n",
        "Funções previamente definidas possuem\n",
        "documentação que pode ser acessada\n",
        "por meio da função help():\n",
        "```\n",
        "help(max)\n",
        "```"
      ]
    },
    {
      "cell_type": "code",
      "metadata": {
        "id": "EAL8422-Rwx4",
        "colab_type": "code",
        "colab": {}
      },
      "source": [
        ""
      ],
      "execution_count": null,
      "outputs": []
    },
    {
      "cell_type": "markdown",
      "metadata": {
        "id": "O5V9U-NRSAC8",
        "colab_type": "text"
      },
      "source": [
        "No caso de funções definidas pelo\n",
        "usuário, se usarmos help() para obter a\n",
        "documentação, teremos alguma\n",
        "descrição da função:\n",
        "```\n",
        "help(f)\n",
        "```\n",
        "\n"
      ]
    },
    {
      "cell_type": "markdown",
      "metadata": {
        "id": "WL9IW4YPSIub",
        "colab_type": "text"
      },
      "source": [
        "Para documentar uma função, usamos\n",
        "comentários especiais, os quais chamamos\n",
        "de docstrings:\n",
        "\n"
      ]
    },
    {
      "cell_type": "code",
      "metadata": {
        "id": "KJHZeg5lSH_Q",
        "colab_type": "code",
        "colab": {}
      },
      "source": [
        "def f(x):\n",
        "  'Calcula x**2 + 1'\n",
        "  res = x**2 + 1\n",
        "  return res"
      ],
      "execution_count": null,
      "outputs": []
    },
    {
      "cell_type": "code",
      "metadata": {
        "id": "FBz7mJimSY41",
        "colab_type": "code",
        "colab": {}
      },
      "source": [
        "help(f)"
      ],
      "execution_count": null,
      "outputs": []
    },
    {
      "cell_type": "markdown",
      "metadata": {
        "id": "njjaklE5ScdZ",
        "colab_type": "text"
      },
      "source": [
        "## Exercício de apoio - Semana 4\n",
        "\n",
        "\n",
        "3.1 Implemente um programa que solicita a temperatura atual em graus Fahrenheit do usuário e exibe a temperatura em graus Celsius usando a fórmula\n",
        "\n",
        "$$Celsius = \\frac{5}{9}(fahrenheit-32)$$\n",
        "\n",
        "Seu programa deverá ser executado da seguinte forma:\n",
        "\n",
        "\n",
        "Digite a temperatura em graus Fahrenheit: 50\n",
        "\n",
        "A temperatura em graus Celsius é 10.0"
      ]
    },
    {
      "cell_type": "code",
      "metadata": {
        "id": "3EhLigJOSaFK",
        "colab_type": "code",
        "colab": {}
      },
      "source": [
        "temp = eval(input(\"Digite o a temperatura em Fahrenheit\"))\n",
        "C = 5/9*(temp-32)\n",
        "print(C)"
      ],
      "execution_count": null,
      "outputs": []
    },
    {
      "cell_type": "markdown",
      "metadata": {
        "id": "ePOcSWxbTGfZ",
        "colab_type": "text"
      },
      "source": [
        "3.8\n",
        "\n",
        "Defina, diretamente no shell interativo, a função média(), que aceita dois números como entrada e retorna a média dos números. Um exemplo de uso é:\n",
        "```\n",
        "average(2, 3.5)\n",
        "```\n",
        "2.75"
      ]
    },
    {
      "cell_type": "markdown",
      "metadata": {
        "id": "NMelcG_aTRW5",
        "colab_type": "text"
      },
      "source": [
        "3.9\n",
        "\n",
        "Implemente a função perímetro(), que aceita, como entrada, o raio de um círculo (um número não negativo) e retorna o perímetro do círculo. Você deverá escrever sua implementação em um módulo chamado perímetro.py. Um exemplo de uso é:\n",
        "\n",
        "perimeter(1)\n",
        "\n",
        "6.283185307179586"
      ]
    },
    {
      "cell_type": "code",
      "metadata": {
        "id": "vRFZqTmOTQbB",
        "colab_type": "code",
        "colab": {}
      },
      "source": [
        "func.perimeter(1)"
      ],
      "execution_count": null,
      "outputs": []
    },
    {
      "cell_type": "markdown",
      "metadata": {
        "id": "lE7MYub9YLQs",
        "colab_type": "text"
      },
      "source": [
        "3.10\n",
        "\n",
        "Escreva a função negativos(), que aceita uma lista como entrada e exibe, um por linha, os valores negativos na lista. A função não deverá retornar nada.\n",
        "```\n",
        "negatives([4, 0, -1, -3, 6, -9])\n",
        "```\n",
        "-1\n",
        "\n",
        "-3\n",
        "\n",
        "-9"
      ]
    },
    {
      "cell_type": "code",
      "metadata": {
        "id": "KHtDbXPPYV29",
        "colab_type": "code",
        "colab": {}
      },
      "source": [
        "negatives = [4, 0, -1, -3, 6, -9]\n",
        "def count_n(l):\n",
        "    #l.sort() opcional\n",
        "    for i in range(len(l)):\n",
        "        if l[i]<0:\n",
        "            print(l[i],\"\\n\")\n",
        "\n",
        "count_n(negatives)"
      ],
      "execution_count": null,
      "outputs": []
    },
    {
      "cell_type": "markdown",
      "metadata": {
        "id": "JJ-ech0XXuiN",
        "colab_type": "text"
      },
      "source": [
        " 3.11 \n",
        "\n",
        "Acrescente a docstring retorna a média de x e y à função média() e a docstring exibe os números negativos contidos na lista lst à função negativos() dos Problemas Práticos 3.8 e 3.10. Verifique seu trabalho usando a ferramenta de documentação help(). Você deverá receber, por exemplo:\n",
        "```\n",
        "help(média)\n",
        "```\n",
        "Ajuda sobre a função média no módulo __main__:\n",
        "```\n",
        "média(x, y)\n",
        "```\n",
        "retorna a média de x e y"
      ]
    },
    {
      "cell_type": "code",
      "metadata": {
        "id": "7v8YUrD9bz8-",
        "colab_type": "code",
        "colab": {}
      },
      "source": [
        "def media_2(x,y):\n",
        "    'retorna a média de x e y'\n",
        "    return (n1+n2)/2\n",
        "help(media_2)    "
      ],
      "execution_count": null,
      "outputs": []
    },
    {
      "cell_type": "markdown",
      "metadata": {
        "id": "5HTuAGCdb5no",
        "colab_type": "text"
      },
      "source": [
        "3.12\n",
        "\n",
        "Desenhe um diagrama representando o estado dos nomes e objetos após esta execução:\n",
        "```\n",
        "a = [5, 6, 7]\n",
        "b = a\n",
        "a = 3\n",
        "```\n",
        "Resposta\n",
        "\n",
        "![Notes_200827_211904_348_1.jpg](data:image/jpeg;base64,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)\n",
        "\n"
      ]
    },
    {
      "cell_type": "markdown",
      "metadata": {
        "id": "PHlPgHwTfOUc",
        "colab_type": "text"
      },
      "source": [
        "3.13\n",
        "\n",
        "Suponha que uma lista não vazia time foi atribuída. Escreva uma instrução Python ou instruções que mapeiam o primeiro e último valor da lista. Assim, se a lista original for:\n",
        "```\n",
        "time = ['Ava', 'Eleanor', 'Clare', 'Sarah']\n",
        "```\n",
        "então a lista resultante deverá ser:\n",
        "```\n",
        "time\n",
        "```\n",
        "\n",
        "['Sarah', 'Eleanor', 'Clare', 'Ava']"
      ]
    },
    {
      "cell_type": "code",
      "metadata": {
        "id": "miOExKxgfHi-",
        "colab_type": "code",
        "colab": {}
      },
      "source": [
        "time = ['Ava', 'Eleanor', 'Clare', 'Sarah']\n",
        "\n",
        "def invert_list(l):\n",
        "    aux_1 = l[-1]\n",
        "    aux_2 = l[0]\n",
        "    l[0] = aux_1\n",
        "    l[-1] = aux_2\n",
        "    return l\n",
        "invert_list(time)\n"
      ],
      "execution_count": null,
      "outputs": []
    },
    {
      "cell_type": "markdown",
      "metadata": {
        "id": "AuJ4R3dtfw11",
        "colab_type": "text"
      },
      "source": [
        "3.14 \n",
        "\n",
        "Implemente a função trocaPU(), que aceita uma lista como entrada e troca o primeiro e último elementos da lista. Você pode considerar que a lista não estará vazia. A função não deverá retornar nada.\n",
        "```\n",
        "ingredientes = ['farinha', 'açúcar', 'manteiga', 'maçãs']\n",
        "\n",
        "trocaPU(ingredientes)\n",
        "\n",
        "ingredientes\n",
        "```\n",
        "['maçãs', 'açúcar', 'manteiga', 'farinha']"
      ]
    },
    {
      "cell_type": "code",
      "metadata": {
        "id": "k32CbW2qf69-",
        "colab_type": "code",
        "colab": {}
      },
      "source": [
        "def trocaPU(l):\n",
        "    if len(l) == 0:\n",
        "        print('Lista Vazia!\\n')\n",
        "        return None\n",
        "    # Eu fiz dois jeitos de fazer isso, será que tem mais?\n",
        "    #if l == []:\n",
        "        #print('Lista Vazia!')\n",
        "        #return None\n",
        "    aux_1 = l[-1]\n",
        "    aux_2 = l[0]\n",
        "    l[0] = aux_1\n",
        "    l[-1] = aux_2\n",
        "ingredientes = ['farinha', 'açúcar', 'manteiga', 'maçãs']\n",
        "trocaPU(ingredientes)\n",
        "ingredientes"
      ],
      "execution_count": null,
      "outputs": []
    }
  ]
}