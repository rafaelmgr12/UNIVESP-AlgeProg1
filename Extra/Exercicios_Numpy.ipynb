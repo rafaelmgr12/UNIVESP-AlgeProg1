{
  "nbformat": 4,
  "nbformat_minor": 0,
  "metadata": {
    "kernelspec": {
      "display_name": "Python 3",
      "language": "python",
      "name": "python3"
    },
    "language_info": {
      "codemirror_mode": {
        "name": "ipython",
        "version": 3
      },
      "file_extension": ".py",
      "mimetype": "text/x-python",
      "name": "python",
      "nbconvert_exporter": "python",
      "pygments_lexer": "ipython3",
      "version": "3.6.1"
    },
    "colab": {
      "name": "Exercicios_Numpy.ipynb",
      "provenance": [],
      "collapsed_sections": [],
      "include_colab_link": true
    }
  },
  "cells": [
    {
      "cell_type": "markdown",
      "metadata": {
        "id": "view-in-github",
        "colab_type": "text"
      },
      "source": [
        "<a href=\"https://colab.research.google.com/github/rafaelmgr12/UNIVESP-AlgeProg1/blob/master/Extra/Exercicios_Numpy.ipynb\" target=\"_parent\"><img src=\"https://colab.research.google.com/assets/colab-badge.svg\" alt=\"Open In Colab\"/></a>"
      ]
    },
    {
      "cell_type": "markdown",
      "metadata": {
        "id": "T3c79_MMp56x",
        "colab_type": "text"
      },
      "source": [
        "# Exercícios NumPy  \n",
        "\n",
        "Agora que aprendemos sobre NumPy, vamos testar seu conhecimento. Começaremos com algumas tarefas simples, para depois entrarmos nas perguntas mais complicadas."
      ]
    },
    {
      "cell_type": "markdown",
      "metadata": {
        "id": "DQPlLWzSp56y",
        "colab_type": "text"
      },
      "source": [
        "#### Importe NumPy como np"
      ]
    },
    {
      "cell_type": "code",
      "metadata": {
        "id": "2r8qcRTvp56z",
        "colab_type": "code",
        "colab": {}
      },
      "source": [
        "import numpy as np"
      ],
      "execution_count": null,
      "outputs": []
    },
    {
      "cell_type": "markdown",
      "metadata": {
        "id": "jyirOhMRp565",
        "colab_type": "text"
      },
      "source": [
        "#### Crie uma matriz de 10 zeros"
      ]
    },
    {
      "cell_type": "code",
      "metadata": {
        "id": "CXUTCPnFp566",
        "colab_type": "code",
        "colab": {},
        "outputId": "cd4ff29d-3f0a-4dbd-ba67-ba1f44e143d2"
      },
      "source": [
        ""
      ],
      "execution_count": null,
      "outputs": [
        {
          "output_type": "execute_result",
          "data": {
            "text/plain": [
              "array([0., 0., 0., 0., 0., 0., 0., 0., 0., 0.])"
            ]
          },
          "metadata": {
            "tags": []
          },
          "execution_count": 15
        }
      ]
    },
    {
      "cell_type": "markdown",
      "metadata": {
        "id": "2zNfGapmp56_",
        "colab_type": "text"
      },
      "source": [
        "#### Crie uma matriz de 10 ones"
      ]
    },
    {
      "cell_type": "code",
      "metadata": {
        "id": "XVNuUUhqp57A",
        "colab_type": "code",
        "colab": {},
        "outputId": "ad8ccef0-407a-4e48-c5f7-345cd5f1f25e"
      },
      "source": [
        ""
      ],
      "execution_count": null,
      "outputs": [
        {
          "output_type": "execute_result",
          "data": {
            "text/plain": [
              "array([1., 1., 1., 1., 1., 1., 1., 1., 1., 1.])"
            ]
          },
          "metadata": {
            "tags": []
          },
          "execution_count": 16
        }
      ]
    },
    {
      "cell_type": "markdown",
      "metadata": {
        "id": "VpGgScaKp57D",
        "colab_type": "text"
      },
      "source": [
        "#### Crie uma matriz de 10 cincos"
      ]
    },
    {
      "cell_type": "code",
      "metadata": {
        "id": "ggCJWAw_p57D",
        "colab_type": "code",
        "colab": {},
        "outputId": "baa8b605-b1b7-4083-dde2-49c1c02b51d0"
      },
      "source": [
        ""
      ],
      "execution_count": null,
      "outputs": [
        {
          "output_type": "execute_result",
          "data": {
            "text/plain": [
              "array([5., 5., 5., 5., 5., 5., 5., 5., 5., 5.])"
            ]
          },
          "metadata": {
            "tags": []
          },
          "execution_count": 17
        }
      ]
    },
    {
      "cell_type": "markdown",
      "metadata": {
        "id": "koeLV3sjp57H",
        "colab_type": "text"
      },
      "source": [
        "#### Crie um array de inteiros de 10 até 50"
      ]
    },
    {
      "cell_type": "code",
      "metadata": {
        "id": "RMR5TGvUp57H",
        "colab_type": "code",
        "colab": {},
        "outputId": "e12eec22-c06a-4cae-f4a4-e3fa6c8f38f5"
      },
      "source": [
        ""
      ],
      "execution_count": null,
      "outputs": [
        {
          "output_type": "execute_result",
          "data": {
            "text/plain": [
              "array([10, 11, 12, 13, 14, 15, 16, 17, 18, 19, 20, 21, 22, 23, 24, 25, 26,\n",
              "       27, 28, 29, 30, 31, 32, 33, 34, 35, 36, 37, 38, 39, 40, 41, 42, 43,\n",
              "       44, 45, 46, 47, 48, 49, 50])"
            ]
          },
          "metadata": {
            "tags": []
          },
          "execution_count": 18
        }
      ]
    },
    {
      "cell_type": "markdown",
      "metadata": {
        "id": "jY-C9JFvp57L",
        "colab_type": "text"
      },
      "source": [
        "#### Crie um array dos numeros pares de 10 até 50"
      ]
    },
    {
      "cell_type": "code",
      "metadata": {
        "id": "u-twZQOop57L",
        "colab_type": "code",
        "colab": {},
        "outputId": "668c1a39-3798-4fa8-c920-caf3afaa5dbf"
      },
      "source": [
        ""
      ],
      "execution_count": null,
      "outputs": [
        {
          "output_type": "execute_result",
          "data": {
            "text/plain": [
              "array([10, 12, 14, 16, 18, 20, 22, 24, 26, 28, 30, 32, 34, 36, 38, 40, 42,\n",
              "       44, 46, 48, 50])"
            ]
          },
          "metadata": {
            "tags": []
          },
          "execution_count": 19
        }
      ]
    },
    {
      "cell_type": "markdown",
      "metadata": {
        "id": "L-goyqa9p57Q",
        "colab_type": "text"
      },
      "source": [
        "#### Criei uma matriz 3x3 com valores variando de 0 até 8"
      ]
    },
    {
      "cell_type": "code",
      "metadata": {
        "id": "b6NphJ62p57Q",
        "colab_type": "code",
        "colab": {},
        "outputId": "2bdeb763-324e-4a46-e664-7c823f5f0e01"
      },
      "source": [
        ""
      ],
      "execution_count": null,
      "outputs": [
        {
          "output_type": "execute_result",
          "data": {
            "text/plain": [
              "array([[0, 1, 2],\n",
              "       [3, 4, 5],\n",
              "       [6, 7, 8]])"
            ]
          },
          "metadata": {
            "tags": []
          },
          "execution_count": 20
        }
      ]
    },
    {
      "cell_type": "markdown",
      "metadata": {
        "id": "BQWec_zNp57T",
        "colab_type": "text"
      },
      "source": [
        "#### Crie uma matriz identidade 3x3"
      ]
    },
    {
      "cell_type": "code",
      "metadata": {
        "id": "1AVT-gRhp57U",
        "colab_type": "code",
        "colab": {},
        "outputId": "01fe8580-481e-4d2a-ec1d-d3edf90e1da8"
      },
      "source": [
        ""
      ],
      "execution_count": null,
      "outputs": [
        {
          "output_type": "execute_result",
          "data": {
            "text/plain": [
              "array([[1., 0., 0.],\n",
              "       [0., 1., 0.],\n",
              "       [0., 0., 1.]])"
            ]
          },
          "metadata": {
            "tags": []
          },
          "execution_count": 21
        }
      ]
    },
    {
      "cell_type": "markdown",
      "metadata": {
        "id": "uCGyQ1Xfp57X",
        "colab_type": "text"
      },
      "source": [
        "#### Use NumPy para gerar números aleatórios entre 0 e 1"
      ]
    },
    {
      "cell_type": "code",
      "metadata": {
        "id": "fV0N6ddxp57X",
        "colab_type": "code",
        "colab": {},
        "outputId": "8ed7a8e0-d87d-487c-d27b-a2d5bfa0ffd2"
      },
      "source": [
        ""
      ],
      "execution_count": null,
      "outputs": [
        {
          "output_type": "execute_result",
          "data": {
            "text/plain": [
              "array([0.87356708])"
            ]
          },
          "metadata": {
            "tags": []
          },
          "execution_count": 29
        }
      ]
    },
    {
      "cell_type": "markdown",
      "metadata": {
        "id": "FCKI3TR3p57b",
        "colab_type": "text"
      },
      "source": [
        "#### Use Numpy para gerar um array de 25 números aleatórios tirados de uma distribuição normal."
      ]
    },
    {
      "cell_type": "code",
      "metadata": {
        "id": "M5HvyWNIp57b",
        "colab_type": "code",
        "colab": {},
        "outputId": "9b5f7baa-dc73-4268-e1a4-2205e5c31ed5"
      },
      "source": [
        ""
      ],
      "execution_count": null,
      "outputs": [
        {
          "output_type": "execute_result",
          "data": {
            "text/plain": [
              "array([-0.8878251 , -1.14353944,  1.1450024 ,  0.79256083,  1.69335294,\n",
              "        0.75741857, -0.93964144, -1.54942684, -1.00752852, -0.94792225,\n",
              "        0.35388421, -0.49803281, -0.0336505 , -0.46955785,  0.91350542,\n",
              "        0.80961234, -0.64632597,  0.17541201, -0.8415277 ,  2.03550924,\n",
              "        0.1618736 , -0.75937809, -0.37388372, -0.5626468 , -0.29267799])"
            ]
          },
          "metadata": {
            "tags": []
          },
          "execution_count": 30
        }
      ]
    },
    {
      "cell_type": "markdown",
      "metadata": {
        "id": "zt3sO2gpp57g",
        "colab_type": "text"
      },
      "source": [
        "#### Crie a seguinte matriz:"
      ]
    },
    {
      "cell_type": "code",
      "metadata": {
        "id": "d3UA9UwWp57h",
        "colab_type": "code",
        "colab": {},
        "outputId": "2a06c983-6aeb-4f0b-8dbf-31f6b0e5fda6"
      },
      "source": [
        ""
      ],
      "execution_count": null,
      "outputs": [
        {
          "output_type": "execute_result",
          "data": {
            "text/plain": [
              "array([[0.01, 0.02, 0.03, 0.04, 0.05, 0.06, 0.07, 0.08, 0.09, 0.1 ],\n",
              "       [0.11, 0.12, 0.13, 0.14, 0.15, 0.16, 0.17, 0.18, 0.19, 0.2 ],\n",
              "       [0.21, 0.22, 0.23, 0.24, 0.25, 0.26, 0.27, 0.28, 0.29, 0.3 ],\n",
              "       [0.31, 0.32, 0.33, 0.34, 0.35, 0.36, 0.37, 0.38, 0.39, 0.4 ],\n",
              "       [0.41, 0.42, 0.43, 0.44, 0.45, 0.46, 0.47, 0.48, 0.49, 0.5 ],\n",
              "       [0.51, 0.52, 0.53, 0.54, 0.55, 0.56, 0.57, 0.58, 0.59, 0.6 ],\n",
              "       [0.61, 0.62, 0.63, 0.64, 0.65, 0.66, 0.67, 0.68, 0.69, 0.7 ],\n",
              "       [0.71, 0.72, 0.73, 0.74, 0.75, 0.76, 0.77, 0.78, 0.79, 0.8 ],\n",
              "       [0.81, 0.82, 0.83, 0.84, 0.85, 0.86, 0.87, 0.88, 0.89, 0.9 ],\n",
              "       [0.91, 0.92, 0.93, 0.94, 0.95, 0.96, 0.97, 0.98, 0.99, 1.  ]])"
            ]
          },
          "metadata": {
            "tags": []
          },
          "execution_count": 31
        }
      ]
    },
    {
      "cell_type": "markdown",
      "metadata": {
        "id": "HAwijiECp57k",
        "colab_type": "text"
      },
      "source": [
        "#### Crie um array de tamanho 20 igualmente espaçado entre 0 e 1."
      ]
    },
    {
      "cell_type": "code",
      "metadata": {
        "id": "VDF8M2ncp57k",
        "colab_type": "code",
        "colab": {},
        "outputId": "120cc7ec-0d0c-4ca8-9b16-dc7eb8cc1c11"
      },
      "source": [
        ""
      ],
      "execution_count": null,
      "outputs": [
        {
          "output_type": "execute_result",
          "data": {
            "text/plain": [
              "array([0.        , 0.05263158, 0.10526316, 0.15789474, 0.21052632,\n",
              "       0.26315789, 0.31578947, 0.36842105, 0.42105263, 0.47368421,\n",
              "       0.52631579, 0.57894737, 0.63157895, 0.68421053, 0.73684211,\n",
              "       0.78947368, 0.84210526, 0.89473684, 0.94736842, 1.        ])"
            ]
          },
          "metadata": {
            "tags": []
          },
          "execution_count": 32
        }
      ]
    },
    {
      "cell_type": "markdown",
      "metadata": {
        "id": "ut6ROVtPp57n",
        "colab_type": "text"
      },
      "source": [
        "## Indexação Numpy e Seleção\n",
        "\n",
        "Agora você receberá algumas matrizes e será solicitado a replicar as saídas resultantes da matriz:"
      ]
    },
    {
      "cell_type": "code",
      "metadata": {
        "id": "u8J0F3NVp57n",
        "colab_type": "code",
        "colab": {},
        "outputId": "da2f7094-5be1-4f30-f398-c5bd459d0c98"
      },
      "source": [
        ""
      ],
      "execution_count": null,
      "outputs": [
        {
          "output_type": "execute_result",
          "data": {
            "text/plain": [
              "array([[ 1,  2,  3,  4,  5],\n",
              "       [ 6,  7,  8,  9, 10],\n",
              "       [11, 12, 13, 14, 15],\n",
              "       [16, 17, 18, 19, 20],\n",
              "       [21, 22, 23, 24, 25]])"
            ]
          },
          "metadata": {
            "tags": []
          },
          "execution_count": 39
        }
      ]
    },
    {
      "cell_type": "code",
      "metadata": {
        "id": "5XLPDJi2p57u",
        "colab_type": "code",
        "colab": {}
      },
      "source": [
        "# ESCREVE O CÓDIGO AQUI QUE REPRODICA A SAÍDA DA CÉLULA ABAIXO\n",
        "# SEJA CUIDADOSO PARA NÃO RODAR A CÉLULA ABAIXO, DE OUTRA FORMA, NÃO PODERÁ\n",
        "# PODE VER A MATRIZ DESEJADA"
      ],
      "execution_count": null,
      "outputs": []
    },
    {
      "cell_type": "code",
      "metadata": {
        "id": "nqUEWfbZp57x",
        "colab_type": "code",
        "colab": {},
        "outputId": "d5407ca7-921e-4956-b5b3-09b44a9afa08"
      },
      "source": [
        ""
      ],
      "execution_count": null,
      "outputs": [
        {
          "output_type": "execute_result",
          "data": {
            "text/plain": [
              "array([[12, 13, 14, 15],\n",
              "       [17, 18, 19, 20],\n",
              "       [22, 23, 24, 25]])"
            ]
          },
          "metadata": {
            "tags": []
          },
          "execution_count": 43
        }
      ]
    },
    {
      "cell_type": "code",
      "metadata": {
        "id": "aGmlWGVPp570",
        "colab_type": "code",
        "colab": {}
      },
      "source": [
        "# ESCREVE O CÓDIGO AQUI QUE REPRODICA A SAÍDA DA CÉLULA ABAIXO\n",
        "# SEJA CUIDADOSO PARA NÃO FUNCIONAR A CÉLULA ABAIXO, DE OUTRA FORMA, NÃO PODERÁ\n",
        "# PODE VER A SORTEZA MAIS QUALQUER"
      ],
      "execution_count": null,
      "outputs": []
    },
    {
      "cell_type": "code",
      "metadata": {
        "id": "q6lcIMMCp573",
        "colab_type": "code",
        "colab": {},
        "outputId": "8bbc43c3-3042-4d09-8378-6334ff2e019f"
      },
      "source": [
        ""
      ],
      "execution_count": null,
      "outputs": [
        {
          "output_type": "execute_result",
          "data": {
            "text/plain": [
              "20"
            ]
          },
          "metadata": {
            "tags": []
          },
          "execution_count": 45
        }
      ]
    },
    {
      "cell_type": "code",
      "metadata": {
        "id": "mynNxa8hp576",
        "colab_type": "code",
        "colab": {}
      },
      "source": [
        "# ESCREVE O CÓDIGO AQUI QUE REPRODICA A SAÍDA DA CÉLULA ABAIXO\n",
        "# SEJA CUIDADOSO PARA NÃO FUNCIONAR A CÉLULA ABAIXO, DE OUTRA FORMA, NÃO PODERÁ\n",
        "# PODE VER A SORTEZA MAIS QUALQUER"
      ],
      "execution_count": null,
      "outputs": []
    },
    {
      "cell_type": "code",
      "metadata": {
        "id": "cwojHXpcp579",
        "colab_type": "code",
        "colab": {},
        "outputId": "cfbf3cfd-78ed-4bde-c65e-09be44e3e5e6"
      },
      "source": [
        ""
      ],
      "execution_count": null,
      "outputs": [
        {
          "output_type": "execute_result",
          "data": {
            "text/plain": [
              "array([[ 2],\n",
              "       [ 7],\n",
              "       [12]])"
            ]
          },
          "metadata": {
            "tags": []
          },
          "execution_count": 42
        }
      ]
    },
    {
      "cell_type": "code",
      "metadata": {
        "id": "oXm79OlGp58A",
        "colab_type": "code",
        "colab": {}
      },
      "source": [
        "# ESCREVE O CÓDIGO AQUI QUE REPRODICA A SAÍDA DA CÉLULA ABAIXO\n",
        "# SEJA CUIDADOSO PARA NÃO FUNCIONAR A CÉLULA ABAIXO, DE OUTRA FORMA, NÃO PODERÁ\n",
        "# PODE VER A SORTEZA MAIS QUALQUER"
      ],
      "execution_count": null,
      "outputs": []
    },
    {
      "cell_type": "code",
      "metadata": {
        "id": "dYYysBWjp58D",
        "colab_type": "code",
        "colab": {},
        "outputId": "4a80f2c0-ff5b-4f3f-bd5e-3a325daa72ba"
      },
      "source": [
        ""
      ],
      "execution_count": null,
      "outputs": [
        {
          "output_type": "execute_result",
          "data": {
            "text/plain": [
              "array([21, 22, 23, 24, 25])"
            ]
          },
          "metadata": {
            "tags": []
          },
          "execution_count": 46
        }
      ]
    },
    {
      "cell_type": "code",
      "metadata": {
        "id": "RMhJ_xTmp58F",
        "colab_type": "code",
        "colab": {}
      },
      "source": [
        "# ESCREVE O CÓDIGO AQUI QUE REPRODICA A SAÍDA DA CÉLULA ABAIXO\n",
        "# SEJA CUIDADOSO PARA NÃO FUNCIONAR A CÉLULA ABAIXO, DE OUTRA FORMA, NÃO PODERÁ\n",
        "# PODE VER A SORTEZA MAIS QUALQUER"
      ],
      "execution_count": null,
      "outputs": []
    },
    {
      "cell_type": "code",
      "metadata": {
        "id": "XeH2ayZPp58I",
        "colab_type": "code",
        "colab": {},
        "outputId": "aafe4cd6-681b-431d-98ee-a99cf95c5184"
      },
      "source": [
        ""
      ],
      "execution_count": null,
      "outputs": [
        {
          "output_type": "execute_result",
          "data": {
            "text/plain": [
              "array([[16, 17, 18, 19, 20],\n",
              "       [21, 22, 23, 24, 25]])"
            ]
          },
          "metadata": {
            "tags": []
          },
          "execution_count": 49
        }
      ]
    },
    {
      "cell_type": "markdown",
      "metadata": {
        "id": "0-PUIw0xp58N",
        "colab_type": "text"
      },
      "source": [
        "### Agora faça o seguinte"
      ]
    },
    {
      "cell_type": "markdown",
      "metadata": {
        "id": "E6RV-25Kp58N",
        "colab_type": "text"
      },
      "source": [
        "#### Obter a soma de todos os valores no \"mat\""
      ]
    },
    {
      "cell_type": "code",
      "metadata": {
        "id": "rnwPsrIZp58O",
        "colab_type": "code",
        "colab": {},
        "outputId": "d4833333-b3d7-4f6e-be29-3215a12d1faa"
      },
      "source": [
        ""
      ],
      "execution_count": null,
      "outputs": [
        {
          "output_type": "execute_result",
          "data": {
            "text/plain": [
              "325"
            ]
          },
          "metadata": {
            "tags": []
          },
          "execution_count": 46
        }
      ]
    },
    {
      "cell_type": "markdown",
      "metadata": {
        "id": "4VXamfNOp58Q",
        "colab_type": "text"
      },
      "source": [
        "#### Obter o desvio padrão dos valores em mat"
      ]
    },
    {
      "cell_type": "code",
      "metadata": {
        "id": "s9tbMtsBp58Q",
        "colab_type": "code",
        "colab": {},
        "outputId": "347049e0-6e80-4bcb-ce7e-6124bdf51650"
      },
      "source": [
        ""
      ],
      "execution_count": null,
      "outputs": [
        {
          "output_type": "execute_result",
          "data": {
            "text/plain": [
              "7.2111025509279782"
            ]
          },
          "metadata": {
            "tags": []
          },
          "execution_count": 51
        }
      ]
    },
    {
      "cell_type": "markdown",
      "metadata": {
        "id": "SGhgCeEFp58T",
        "colab_type": "text"
      },
      "source": [
        "#### Obter a soma de todas as colunas em mat"
      ]
    },
    {
      "cell_type": "code",
      "metadata": {
        "id": "Ws7MuTFOp58T",
        "colab_type": "code",
        "colab": {},
        "outputId": "6f390277-f268-42b2-b592-f2e9a455ec6a"
      },
      "source": [
        ""
      ],
      "execution_count": null,
      "outputs": [
        {
          "output_type": "execute_result",
          "data": {
            "text/plain": [
              "array([55, 60, 65, 70, 75])"
            ]
          },
          "metadata": {
            "tags": []
          },
          "execution_count": 53
        }
      ]
    }
  ]
}