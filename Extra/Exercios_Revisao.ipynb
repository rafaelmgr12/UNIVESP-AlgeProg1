{
  "nbformat": 4,
  "nbformat_minor": 0,
  "metadata": {
    "colab": {
      "name": "Exercios_Revisão.ipynb",
      "provenance": [],
      "private_outputs": true,
      "collapsed_sections": [],
      "authorship_tag": "ABX9TyOc5S/SNJAK7x3P9mr/QPaV",
      "include_colab_link": true
    },
    "kernelspec": {
      "name": "python3",
      "display_name": "Python 3"
    }
  },
  "cells": [
    {
      "cell_type": "markdown",
      "metadata": {
        "id": "view-in-github",
        "colab_type": "text"
      },
      "source": [
        "<a href=\"https://colab.research.google.com/github/rafaelmgr12/UNIVESP-AlgeProg1/blob/master/Extra/Exercios_Revisao.ipynb\" target=\"_parent\"><img src=\"https://colab.research.google.com/assets/colab-badge.svg\" alt=\"Open In Colab\"/></a>"
      ]
    },
    {
      "cell_type": "markdown",
      "metadata": {
        "id": "G0R9ButuxdN_",
        "colab_type": "text"
      },
      "source": [
        "## Exercícios\n",
        "\n",
        "Responda as perguntas ou complete as tarefas descritas em negrito abaixo, use o método específico, se aplicável."
      ]
    },
    {
      "cell_type": "markdown",
      "metadata": {
        "id": "fDJEJ250xdOH",
        "colab_type": "text"
      },
      "source": [
        "** Quanto é 7 elevado na potência 4?**"
      ]
    },
    {
      "cell_type": "code",
      "metadata": {
        "id": "_240WTFWxdOP",
        "colab_type": "code",
        "colab": {}
      },
      "source": [
        ""
      ],
      "execution_count": null,
      "outputs": []
    },
    {
      "cell_type": "markdown",
      "metadata": {
        "id": "5bIdDYHGxdO0",
        "colab_type": "text"
      },
      "source": [
        "** Quebre a seguinte string em uma lista:**\n",
        "\n",
        "    s = \"Olá, Pai!\""
      ]
    },
    {
      "cell_type": "code",
      "metadata": {
        "jupyter": {
          "outputs_hidden": true
        },
        "id": "l-7xwtzMxdO3",
        "colab_type": "code",
        "colab": {}
      },
      "source": [
        ""
      ],
      "execution_count": null,
      "outputs": []
    },
    {
      "cell_type": "code",
      "metadata": {
        "scrolled": true,
        "id": "La20QpyzxdO8",
        "colab_type": "code",
        "colab": {}
      },
      "source": [
        ""
      ],
      "execution_count": null,
      "outputs": []
    },
    {
      "cell_type": "markdown",
      "metadata": {
        "id": "FY4wz1cgxdPC",
        "colab_type": "text"
      },
      "source": [
        "** Dada as variáveis:**\n",
        "\n",
        "    Planeta = \"Terra\"\n",
        "    Diametro = 12742\n",
        "\n",
        "** Use .format() para printar a seguinte frase: **\n",
        "\n",
        "    O diâmetro da terra é de 12742 kilômetros."
      ]
    },
    {
      "cell_type": "code",
      "metadata": {
        "jupyter": {
          "outputs_hidden": true
        },
        "id": "KTgFlfRYxdPE",
        "colab_type": "code",
        "colab": {}
      },
      "source": [
        "planeta = \"Terra\"\n",
        "diametro = 12742"
      ],
      "execution_count": null,
      "outputs": []
    },
    {
      "cell_type": "code",
      "metadata": {
        "id": "1GGH9midxdPP",
        "colab_type": "code",
        "colab": {}
      },
      "source": [
        ""
      ],
      "execution_count": null,
      "outputs": []
    },
    {
      "cell_type": "code",
      "metadata": {
        "jupyter": {
          "outputs_hidden": true
        },
        "id": "OQ_sJ1vBxdPU",
        "colab_type": "code",
        "colab": {}
      },
      "source": [
        ""
      ],
      "execution_count": null,
      "outputs": []
    },
    {
      "cell_type": "markdown",
      "metadata": {
        "id": "ELoQ0ZSIxdPZ",
        "colab_type": "text"
      },
      "source": [
        "** Dada a lista abaixo, use indexação para obter apenas a string \"ola\". **"
      ]
    },
    {
      "cell_type": "code",
      "metadata": {
        "jupyter": {
          "outputs_hidden": true
        },
        "id": "QGn4ckD-xdPa",
        "colab_type": "code",
        "colab": {}
      },
      "source": [
        "lst = [1,2,[3,4],[5,[100,200,['olá']],23,11],1,7]"
      ],
      "execution_count": null,
      "outputs": []
    },
    {
      "cell_type": "code",
      "metadata": {
        "id": "Uucq4OmLxdPh",
        "colab_type": "code",
        "colab": {}
      },
      "source": [
        ""
      ],
      "execution_count": null,
      "outputs": []
    },
    {
      "cell_type": "code",
      "metadata": {
        "jupyter": {
          "outputs_hidden": true
        },
        "id": "58O1cWdcxdPn",
        "colab_type": "code",
        "colab": {}
      },
      "source": [
        ""
      ],
      "execution_count": null,
      "outputs": []
    },
    {
      "cell_type": "markdown",
      "metadata": {
        "id": "_gN2uDH-xdPt",
        "colab_type": "text"
      },
      "source": [
        "** Dado o seguinte dicionário aninhado, extraia a palavra \"hello\" **"
      ]
    },
    {
      "cell_type": "code",
      "metadata": {
        "jupyter": {
          "outputs_hidden": true
        },
        "id": "tQ76bm5dxdPu",
        "colab_type": "code",
        "colab": {}
      },
      "source": [
        "d = {'k1':[1,2,3,{'café':['banana','mulher','colher',{'alvo':[1,2,3,'olá']}]}]}"
      ],
      "execution_count": null,
      "outputs": []
    },
    {
      "cell_type": "code",
      "metadata": {
        "id": "C07_vVdrxdPz",
        "colab_type": "code",
        "colab": {}
      },
      "source": [
        ""
      ],
      "execution_count": null,
      "outputs": []
    },
    {
      "cell_type": "markdown",
      "metadata": {
        "id": "bOBD7n7qxdP5",
        "colab_type": "text"
      },
      "source": [
        "** Qual a principal diferença entre um dicionário e uma tupla? **"
      ]
    },
    {
      "cell_type": "code",
      "metadata": {
        "jupyter": {
          "outputs_hidden": true
        },
        "id": "jcCSBUByxdP8",
        "colab_type": "code",
        "colab": {}
      },
      "source": [
        ""
      ],
      "execution_count": null,
      "outputs": []
    },
    {
      "cell_type": "markdown",
      "metadata": {
        "id": "UqhU7jdrxdQB",
        "colab_type": "text"
      },
      "source": [
        "** Construa uma função que retire o domínio dado um e-mail no seguinte formato: **\n",
        "\n",
        "    user@domain.com\n",
        "    \n",
        "**Por exemplo, passando como parâmetro \"user@domain.com\" retornaria: domain.com**"
      ]
    },
    {
      "cell_type": "code",
      "metadata": {
        "jupyter": {
          "outputs_hidden": true
        },
        "id": "jhAVllDFxdQC",
        "colab_type": "code",
        "colab": {}
      },
      "source": [
        ""
      ],
      "execution_count": null,
      "outputs": []
    },
    {
      "cell_type": "code",
      "metadata": {
        "id": "L_0Pxrv7xdQL",
        "colab_type": "code",
        "colab": {}
      },
      "source": [
        "obterDominio('user@domain.com')"
      ],
      "execution_count": null,
      "outputs": []
    },
    {
      "cell_type": "markdown",
      "metadata": {
        "id": "qjkhtiiixdQQ",
        "colab_type": "text"
      },
      "source": [
        "** Crie uma função básica que retorna True se a palavra 'dog' estiver contida na string de entrada. Não se preocupe com os casos de extremos, como uma pontuação que está sendo anexada à palavra cão, mas que seja senível à caixa. **"
      ]
    },
    {
      "cell_type": "code",
      "metadata": {
        "jupyter": {
          "outputs_hidden": true
        },
        "id": "p_xQL6XCxdQR",
        "colab_type": "code",
        "colab": {}
      },
      "source": [
        ""
      ],
      "execution_count": null,
      "outputs": []
    },
    {
      "cell_type": "code",
      "metadata": {
        "id": "yWtTVdhdxdQW",
        "colab_type": "code",
        "colab": {}
      },
      "source": [
        "encontreCachorro('Existe um cachorro aí?')"
      ],
      "execution_count": null,
      "outputs": []
    },
    {
      "cell_type": "markdown",
      "metadata": {
        "id": "0mnAeSj5xdQa",
        "colab_type": "text"
      },
      "source": [
        "** Crie uma função que conta o número de vezes que a palavra \"dog\" ocorre em uma string. Novamente ignore os casos extremos. **"
      ]
    },
    {
      "cell_type": "code",
      "metadata": {
        "jupyter": {
          "outputs_hidden": true
        },
        "id": "9sJY7nfmxdQb",
        "colab_type": "code",
        "colab": {}
      },
      "source": [
        ""
      ],
      "execution_count": null,
      "outputs": []
    },
    {
      "cell_type": "code",
      "metadata": {
        "id": "0TM1o8UgxdQe",
        "colab_type": "code",
        "colab": {}
      },
      "source": [
        "contaCachorro('Esse cachorro é mais rápido que o outro cachorro.')"
      ],
      "execution_count": null,
      "outputs": []
    },
    {
      "cell_type": "markdown",
      "metadata": {
        "id": "Q3QI0LWYxdQi",
        "colab_type": "text"
      },
      "source": [
        "** Use expressões lambda e a função filter () para filtrar as palavras de uma lista que não começa com a letra 's'. Por exemplo: **\n",
        "\n",
        "    seq = ['sopa','cachorro','salada','gato','ótimo']\n",
        "\n",
        "** Deveria ser filtrado para:**\n",
        "\n",
        "    ['sopa','salada']"
      ]
    },
    {
      "cell_type": "code",
      "metadata": {
        "jupyter": {
          "outputs_hidden": true
        },
        "id": "LQjOU9L_xdQi",
        "colab_type": "code",
        "colab": {}
      },
      "source": [
        "seq = ['sopa','cachorro','salada','gato','ótimo']"
      ],
      "execution_count": null,
      "outputs": []
    },
    {
      "cell_type": "code",
      "metadata": {
        "id": "y7DfIVpYxdQn",
        "colab_type": "code",
        "colab": {}
      },
      "source": [
        ""
      ],
      "execution_count": null,
      "outputs": []
    },
    {
      "cell_type": "markdown",
      "metadata": {
        "id": "NYWs_ifwxdQ5",
        "colab_type": "text"
      },
      "source": [
        "### Problema final\n",
        "** Você está dirigindo um pouco rápido demais, e um policial para você. Escreva uma função para retornar um dos 3 resultados possíveis: \"Sem multa\", \"Pequena multa\" ou \"Multa Grande\".\n",
        "   Se a sua velocidade for igual ou inferior a 60, o resultado é \"Sem multa\". Se a velocidade for entre 61 e 80 inclusive, o resultado é \"Multa Pequena\". Se a velocidade é de 81 ou mais, o resultado é \"Multa Grande\". A menos que seja seu aniversário (codificado como um valor booleano nos parâmetros da função) - em seu aniversário, sua velocidade pode ser 5 maior em todos os casos. **"
      ]
    },
    {
      "cell_type": "code",
      "metadata": {
        "jupyter": {
          "outputs_hidden": true
        },
        "id": "ecnLSAHWxdQ6",
        "colab_type": "code",
        "colab": {}
      },
      "source": [
        "def capturar_velocidade(speed, is_birthday):\n",
        "    pass"
      ],
      "execution_count": null,
      "outputs": []
    },
    {
      "cell_type": "markdown",
      "metadata": {
        "id": "gbRnNlpWxdRN",
        "colab_type": "text"
      },
      "source": [
        ""
      ]
    },
    {
      "cell_type": "code",
      "metadata": {
        "id": "RRnX8N7HxdRQ",
        "colab_type": "code",
        "colab": {}
      },
      "source": [
        "capturar_velocidade(65,False)"
      ],
      "execution_count": null,
      "outputs": []
    },
    {
      "cell_type": "code",
      "metadata": {
        "id": "teyWGRsjxdRZ",
        "colab_type": "code",
        "colab": {}
      },
      "source": [
        "capturar_velocidade(81,False)"
      ],
      "execution_count": null,
      "outputs": []
    }
  ]
}