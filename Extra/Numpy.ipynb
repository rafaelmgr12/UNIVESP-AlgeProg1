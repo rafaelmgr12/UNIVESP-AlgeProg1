{
  "nbformat": 4,
  "nbformat_minor": 0,
  "metadata": {
    "kernelspec": {
      "display_name": "Python 3",
      "language": "python",
      "name": "python3"
    },
    "language_info": {
      "codemirror_mode": {
        "name": "ipython",
        "version": 3
      },
      "file_extension": ".py",
      "mimetype": "text/x-python",
      "name": "python",
      "nbconvert_exporter": "python",
      "pygments_lexer": "ipython3",
      "version": "3.7.3"
    },
    "colab": {
      "name": "Numpy - Preenchido.ipynb",
      "provenance": [],
      "include_colab_link": true
    }
  },
  "cells": [
    {
      "cell_type": "markdown",
      "metadata": {
        "id": "view-in-github",
        "colab_type": "text"
      },
      "source": [
        "<a href=\"https://colab.research.google.com/github/rafaelmgr12/UNIVESP-AlgeProg1/blob/master/Numpy.ipynb\" target=\"_parent\"><img src=\"https://colab.research.google.com/assets/colab-badge.svg\" alt=\"Open In Colab\"/></a>"
      ]
    },
    {
      "cell_type": "markdown",
      "metadata": {
        "id": "9aSJCBIPsEy3",
        "colab_type": "text"
      },
      "source": [
        "# Numpy Arrays"
      ]
    },
    {
      "cell_type": "code",
      "metadata": {
        "id": "xAHrw_ktsEy5",
        "colab_type": "code",
        "colab": {}
      },
      "source": [
        "import numpy as np"
      ],
      "execution_count": null,
      "outputs": []
    },
    {
      "cell_type": "code",
      "metadata": {
        "id": "xul3YjrTsEy-",
        "colab_type": "code",
        "colab": {}
      },
      "source": [
        "lista = list(range(10))"
      ],
      "execution_count": null,
      "outputs": []
    },
    {
      "cell_type": "code",
      "metadata": {
        "id": "QBcza56xsEzC",
        "colab_type": "code",
        "colab": {},
        "outputId": "2fd219f1-d9b4-49db-ac8d-ac8ce7bcae32"
      },
      "source": [
        "lista"
      ],
      "execution_count": null,
      "outputs": [
        {
          "output_type": "execute_result",
          "data": {
            "text/plain": [
              "[0, 1, 2, 3, 4, 5, 6, 7, 8, 9]"
            ]
          },
          "metadata": {
            "tags": []
          },
          "execution_count": 3
        }
      ]
    },
    {
      "cell_type": "code",
      "metadata": {
        "id": "rqHpkxP0sEzH",
        "colab_type": "code",
        "colab": {},
        "outputId": "fc697cbc-546c-44a4-bc71-c1aa5ab88a3a"
      },
      "source": [
        "np.arange(1,10,2)"
      ],
      "execution_count": null,
      "outputs": [
        {
          "output_type": "execute_result",
          "data": {
            "text/plain": [
              "array([1, 3, 5, 7, 9])"
            ]
          },
          "metadata": {
            "tags": []
          },
          "execution_count": 4
        }
      ]
    },
    {
      "cell_type": "code",
      "metadata": {
        "id": "IdXr0rOSsEzN",
        "colab_type": "code",
        "colab": {},
        "outputId": "95a7f2c1-5b2c-412b-834a-faeb61ce543a"
      },
      "source": [
        "a = np.array(lista)\n",
        "a"
      ],
      "execution_count": null,
      "outputs": [
        {
          "output_type": "execute_result",
          "data": {
            "text/plain": [
              "array([0, 1, 2, 3, 4, 5, 6, 7, 8, 9])"
            ]
          },
          "metadata": {
            "tags": []
          },
          "execution_count": 5
        }
      ]
    },
    {
      "cell_type": "code",
      "metadata": {
        "id": "391XNPP2sEzS",
        "colab_type": "code",
        "colab": {},
        "outputId": "ae153599-5f51-489c-869e-bd603e62f4d0"
      },
      "source": [
        "type(lista)"
      ],
      "execution_count": null,
      "outputs": [
        {
          "output_type": "execute_result",
          "data": {
            "text/plain": [
              "list"
            ]
          },
          "metadata": {
            "tags": []
          },
          "execution_count": 6
        }
      ]
    },
    {
      "cell_type": "code",
      "metadata": {
        "id": "XN3_bgf8sEzW",
        "colab_type": "code",
        "colab": {},
        "outputId": "0484ae79-a0d8-4f84-9e66-0f0b864f9581"
      },
      "source": [
        "type(a)"
      ],
      "execution_count": null,
      "outputs": [
        {
          "output_type": "execute_result",
          "data": {
            "text/plain": [
              "numpy.ndarray"
            ]
          },
          "metadata": {
            "tags": []
          },
          "execution_count": 7
        }
      ]
    },
    {
      "cell_type": "code",
      "metadata": {
        "id": "qKCds0jisEza",
        "colab_type": "code",
        "colab": {}
      },
      "source": [
        "misturados = [2.3, 9, 'nome', False]"
      ],
      "execution_count": null,
      "outputs": []
    },
    {
      "cell_type": "code",
      "metadata": {
        "id": "mGuHDl6asEzy",
        "colab_type": "code",
        "colab": {},
        "outputId": "69b9bdb9-6954-4a79-863b-52009959fff7"
      },
      "source": [
        "for el in misturados:\n",
        "    print(type(el))"
      ],
      "execution_count": null,
      "outputs": [
        {
          "output_type": "stream",
          "text": [
            "<class 'float'>\n",
            "<class 'int'>\n",
            "<class 'str'>\n",
            "<class 'bool'>\n"
          ],
          "name": "stdout"
        }
      ]
    },
    {
      "cell_type": "code",
      "metadata": {
        "id": "4jPt7MsKsEz4",
        "colab_type": "code",
        "colab": {}
      },
      "source": [
        "misturados_array = np.array(misturados)"
      ],
      "execution_count": null,
      "outputs": []
    },
    {
      "cell_type": "code",
      "metadata": {
        "id": "ZdtrwJeqsEz8",
        "colab_type": "code",
        "colab": {},
        "outputId": "3db53489-1033-4927-8f31-a903fdfd27ab"
      },
      "source": [
        "misturados_array"
      ],
      "execution_count": null,
      "outputs": [
        {
          "output_type": "execute_result",
          "data": {
            "text/plain": [
              "array(['2.3', '9', 'nome', 'False'], dtype='<U32')"
            ]
          },
          "metadata": {
            "tags": []
          },
          "execution_count": 11
        }
      ]
    },
    {
      "cell_type": "code",
      "metadata": {
        "id": "Ot1u4KibsE0A",
        "colab_type": "code",
        "colab": {},
        "outputId": "dfdf080b-668d-499c-8a67-d61a408825f3"
      },
      "source": [
        "for el in misturados_array:\n",
        "    print(type(el))"
      ],
      "execution_count": null,
      "outputs": [
        {
          "output_type": "stream",
          "text": [
            "<class 'numpy.str_'>\n",
            "<class 'numpy.str_'>\n",
            "<class 'numpy.str_'>\n",
            "<class 'numpy.str_'>\n"
          ],
          "name": "stdout"
        }
      ]
    },
    {
      "cell_type": "code",
      "metadata": {
        "id": "nPaii6YSsE0F",
        "colab_type": "code",
        "colab": {}
      },
      "source": [
        "nums = [1,2,3,4,5]"
      ],
      "execution_count": null,
      "outputs": []
    },
    {
      "cell_type": "code",
      "metadata": {
        "id": "ciEMel5asE0K",
        "colab_type": "code",
        "colab": {},
        "outputId": "a4010702-a90f-4136-e182-83a7cc09c7f7"
      },
      "source": [
        "np.array(nums)"
      ],
      "execution_count": null,
      "outputs": [
        {
          "output_type": "execute_result",
          "data": {
            "text/plain": [
              "array([1, 2, 3, 4, 5])"
            ]
          },
          "metadata": {
            "tags": []
          },
          "execution_count": 14
        }
      ]
    },
    {
      "cell_type": "markdown",
      "metadata": {
        "id": "toS1F9_CsE0T",
        "colab_type": "text"
      },
      "source": [
        "# Numpy Array (Operações Inteligentes)"
      ]
    },
    {
      "cell_type": "code",
      "metadata": {
        "id": "KJCzA0ifsE0U",
        "colab_type": "code",
        "colab": {}
      },
      "source": [
        "import numpy as np"
      ],
      "execution_count": null,
      "outputs": []
    },
    {
      "cell_type": "code",
      "metadata": {
        "id": "twj9wCs1sE0Y",
        "colab_type": "code",
        "colab": {}
      },
      "source": [
        "lista = [1,2,3,4,5]"
      ],
      "execution_count": null,
      "outputs": []
    },
    {
      "cell_type": "code",
      "metadata": {
        "id": "7vHMPS8DsE0c",
        "colab_type": "code",
        "colab": {}
      },
      "source": [
        "array = np.array(lista)"
      ],
      "execution_count": null,
      "outputs": []
    },
    {
      "cell_type": "code",
      "metadata": {
        "id": "jBe_UUussE0g",
        "colab_type": "code",
        "colab": {},
        "outputId": "2e59ef71-6856-4782-8b9e-e29eb049e0df"
      },
      "source": [
        "array+20"
      ],
      "execution_count": null,
      "outputs": [
        {
          "output_type": "execute_result",
          "data": {
            "text/plain": [
              "array([21, 22, 23, 24, 25])"
            ]
          },
          "metadata": {
            "tags": []
          },
          "execution_count": 18
        }
      ]
    },
    {
      "cell_type": "code",
      "metadata": {
        "id": "d8ogr1RosE0k",
        "colab_type": "code",
        "colab": {}
      },
      "source": [
        "lista20 = []\n",
        "for n in lista:\n",
        "    lista20.append(n+20)"
      ],
      "execution_count": null,
      "outputs": []
    },
    {
      "cell_type": "code",
      "metadata": {
        "id": "GReZlDmQsE0o",
        "colab_type": "code",
        "colab": {},
        "outputId": "5d98de06-4a17-4c7e-c438-9047dc640e9a"
      },
      "source": [
        "lista20"
      ],
      "execution_count": null,
      "outputs": [
        {
          "output_type": "execute_result",
          "data": {
            "text/plain": [
              "[21, 22, 23, 24, 25]"
            ]
          },
          "metadata": {
            "tags": []
          },
          "execution_count": 20
        }
      ]
    },
    {
      "cell_type": "code",
      "metadata": {
        "id": "zOlk103rsE0t",
        "colab_type": "code",
        "colab": {},
        "outputId": "6bd96e9d-36bf-43d6-e930-7d31ddf50956"
      },
      "source": [
        "lista"
      ],
      "execution_count": null,
      "outputs": [
        {
          "output_type": "execute_result",
          "data": {
            "text/plain": [
              "[1, 2, 3, 4, 5]"
            ]
          },
          "metadata": {
            "tags": []
          },
          "execution_count": 21
        }
      ]
    },
    {
      "cell_type": "code",
      "metadata": {
        "id": "PmCs3rA5sE0x",
        "colab_type": "code",
        "colab": {},
        "outputId": "43e73411-f281-4794-fafd-82ed08e1ccd9"
      },
      "source": [
        "[n+20 for n in lista]"
      ],
      "execution_count": null,
      "outputs": [
        {
          "output_type": "execute_result",
          "data": {
            "text/plain": [
              "[21, 22, 23, 24, 25]"
            ]
          },
          "metadata": {
            "tags": []
          },
          "execution_count": 22
        }
      ]
    },
    {
      "cell_type": "code",
      "metadata": {
        "id": "a-7yxoTjsE01",
        "colab_type": "code",
        "colab": {},
        "outputId": "39d2432d-4c35-4622-c8e3-be54e3311e51"
      },
      "source": [
        "np.sqrt(array)"
      ],
      "execution_count": null,
      "outputs": [
        {
          "output_type": "execute_result",
          "data": {
            "text/plain": [
              "array([1.        , 1.41421356, 1.73205081, 2.        , 2.23606798])"
            ]
          },
          "metadata": {
            "tags": []
          },
          "execution_count": 23
        }
      ]
    },
    {
      "cell_type": "code",
      "metadata": {
        "id": "A2VnMz07sE04",
        "colab_type": "code",
        "colab": {}
      },
      "source": [
        "narray = [2.8, 2.3, 1.6, 1.2, 1.94]"
      ],
      "execution_count": null,
      "outputs": []
    },
    {
      "cell_type": "code",
      "metadata": {
        "id": "h_IvnwnZsE07",
        "colab_type": "code",
        "colab": {},
        "outputId": "9133b956-d4ce-4344-9fc6-24c3ff4da831"
      },
      "source": [
        "narray = np.array(narray)\n",
        "narray"
      ],
      "execution_count": null,
      "outputs": [
        {
          "output_type": "execute_result",
          "data": {
            "text/plain": [
              "array([2.8 , 2.3 , 1.6 , 1.2 , 1.94])"
            ]
          },
          "metadata": {
            "tags": []
          },
          "execution_count": 25
        }
      ]
    },
    {
      "cell_type": "code",
      "metadata": {
        "id": "soin5Gf0sE09",
        "colab_type": "code",
        "colab": {},
        "outputId": "f0231ac2-3303-4dd0-c4a7-4e2a9d08494b"
      },
      "source": [
        "np.ceil(narray)"
      ],
      "execution_count": null,
      "outputs": [
        {
          "output_type": "execute_result",
          "data": {
            "text/plain": [
              "array([3., 3., 2., 2., 2.])"
            ]
          },
          "metadata": {
            "tags": []
          },
          "execution_count": 26
        }
      ]
    },
    {
      "cell_type": "code",
      "metadata": {
        "id": "SBVr1qCtsE1B",
        "colab_type": "code",
        "colab": {},
        "outputId": "58dd0f44-68a4-4d10-dddf-8c473df5acf5"
      },
      "source": [
        "np.floor(narray)"
      ],
      "execution_count": null,
      "outputs": [
        {
          "output_type": "execute_result",
          "data": {
            "text/plain": [
              "array([2., 2., 1., 1., 1.])"
            ]
          },
          "metadata": {
            "tags": []
          },
          "execution_count": 27
        }
      ]
    },
    {
      "cell_type": "code",
      "metadata": {
        "id": "xrX6rEPTsE1F",
        "colab_type": "code",
        "colab": {},
        "outputId": "277fe98b-8e97-4b6a-c021-cd072723728e"
      },
      "source": [
        "np.around(narray,0)"
      ],
      "execution_count": null,
      "outputs": [
        {
          "output_type": "execute_result",
          "data": {
            "text/plain": [
              "array([3., 2., 2., 1., 2.])"
            ]
          },
          "metadata": {
            "tags": []
          },
          "execution_count": 28
        }
      ]
    },
    {
      "cell_type": "markdown",
      "metadata": {
        "id": "ZZkg92aEsE1K",
        "colab_type": "text"
      },
      "source": [
        "# Numpy Array (Indexando e Cortando _'Slicing'_)"
      ]
    },
    {
      "cell_type": "code",
      "metadata": {
        "id": "25Y6QUr6sE1K",
        "colab_type": "code",
        "colab": {}
      },
      "source": [
        "import numpy as np"
      ],
      "execution_count": null,
      "outputs": []
    },
    {
      "cell_type": "code",
      "metadata": {
        "id": "4g6RcwkCsE1N",
        "colab_type": "code",
        "colab": {}
      },
      "source": [
        "array = np.arange(1,11)"
      ],
      "execution_count": null,
      "outputs": []
    },
    {
      "cell_type": "code",
      "metadata": {
        "id": "6BC_WBktsE1T",
        "colab_type": "code",
        "colab": {},
        "outputId": "8982f197-4719-4dbc-e350-d12d47b34d60"
      },
      "source": [
        "array"
      ],
      "execution_count": null,
      "outputs": [
        {
          "output_type": "execute_result",
          "data": {
            "text/plain": [
              "array([ 1,  2,  3,  4,  5,  6,  7,  8,  9, 10])"
            ]
          },
          "metadata": {
            "tags": []
          },
          "execution_count": 31
        }
      ]
    },
    {
      "cell_type": "code",
      "metadata": {
        "id": "mxz8TEubsE1X",
        "colab_type": "code",
        "colab": {},
        "outputId": "00ab656d-7ee1-40bc-c2e2-50dcf2d35c6b"
      },
      "source": [
        "array[0]"
      ],
      "execution_count": null,
      "outputs": [
        {
          "output_type": "execute_result",
          "data": {
            "text/plain": [
              "1"
            ]
          },
          "metadata": {
            "tags": []
          },
          "execution_count": 32
        }
      ]
    },
    {
      "cell_type": "code",
      "metadata": {
        "id": "w8Q7l0jOsE1Z",
        "colab_type": "code",
        "colab": {},
        "outputId": "4590d9b8-bc60-48b3-a765-ed8300c7054d"
      },
      "source": [
        "array[1]"
      ],
      "execution_count": null,
      "outputs": [
        {
          "output_type": "execute_result",
          "data": {
            "text/plain": [
              "2"
            ]
          },
          "metadata": {
            "tags": []
          },
          "execution_count": 33
        }
      ]
    },
    {
      "cell_type": "code",
      "metadata": {
        "id": "3GSLFbGqsE1c",
        "colab_type": "code",
        "colab": {},
        "outputId": "4215e9ef-0d7b-4b69-f13b-be527aa5201f"
      },
      "source": [
        "array[2]"
      ],
      "execution_count": null,
      "outputs": [
        {
          "output_type": "execute_result",
          "data": {
            "text/plain": [
              "3"
            ]
          },
          "metadata": {
            "tags": []
          },
          "execution_count": 34
        }
      ]
    },
    {
      "cell_type": "code",
      "metadata": {
        "id": "VtQ7lPB3sE1f",
        "colab_type": "code",
        "colab": {},
        "outputId": "b29987c2-0e39-4a02-a9a4-b3c527ebeef5"
      },
      "source": [
        "array[6]"
      ],
      "execution_count": null,
      "outputs": [
        {
          "output_type": "execute_result",
          "data": {
            "text/plain": [
              "7"
            ]
          },
          "metadata": {
            "tags": []
          },
          "execution_count": 35
        }
      ]
    },
    {
      "cell_type": "code",
      "metadata": {
        "id": "MkJauzkCsE1h",
        "colab_type": "code",
        "colab": {},
        "outputId": "5b6674c6-04a2-4ef8-b5ee-3e2e8c341d39"
      },
      "source": [
        "array[-1] # ultimo elemento"
      ],
      "execution_count": null,
      "outputs": [
        {
          "output_type": "execute_result",
          "data": {
            "text/plain": [
              "10"
            ]
          },
          "metadata": {
            "tags": []
          },
          "execution_count": 36
        }
      ]
    },
    {
      "cell_type": "code",
      "metadata": {
        "id": "BkAhVOiusE1l",
        "colab_type": "code",
        "colab": {},
        "outputId": "b5408797-5f4b-4b0d-80f4-35c7df48ab2e"
      },
      "source": [
        "array[2:6]"
      ],
      "execution_count": null,
      "outputs": [
        {
          "output_type": "execute_result",
          "data": {
            "text/plain": [
              "array([3, 4, 5, 6])"
            ]
          },
          "metadata": {
            "tags": []
          },
          "execution_count": 37
        }
      ]
    },
    {
      "cell_type": "code",
      "metadata": {
        "id": "vdu2DZhWsE1o",
        "colab_type": "code",
        "colab": {},
        "outputId": "c7ae92f1-43d4-43b5-8494-73f62332fb58"
      },
      "source": [
        "array[:]"
      ],
      "execution_count": null,
      "outputs": [
        {
          "output_type": "execute_result",
          "data": {
            "text/plain": [
              "array([ 1,  2,  3,  4,  5,  6,  7,  8,  9, 10])"
            ]
          },
          "metadata": {
            "tags": []
          },
          "execution_count": 38
        }
      ]
    },
    {
      "cell_type": "code",
      "metadata": {
        "id": "qpaL0JsesE1r",
        "colab_type": "code",
        "colab": {},
        "outputId": "ab437076-d0cb-4ffa-9f4f-5a6ae0f5fe3c"
      },
      "source": [
        "array[:5]"
      ],
      "execution_count": null,
      "outputs": [
        {
          "output_type": "execute_result",
          "data": {
            "text/plain": [
              "array([1, 2, 3, 4, 5])"
            ]
          },
          "metadata": {
            "tags": []
          },
          "execution_count": 39
        }
      ]
    },
    {
      "cell_type": "code",
      "metadata": {
        "id": "j6tzCtrosE1u",
        "colab_type": "code",
        "colab": {},
        "outputId": "23eeb7eb-3ed0-4759-c423-4e92207c769c"
      },
      "source": [
        "array[5:]"
      ],
      "execution_count": null,
      "outputs": [
        {
          "output_type": "execute_result",
          "data": {
            "text/plain": [
              "array([ 6,  7,  8,  9, 10])"
            ]
          },
          "metadata": {
            "tags": []
          },
          "execution_count": 40
        }
      ]
    },
    {
      "cell_type": "code",
      "metadata": {
        "id": "TkqZUTQZsE10",
        "colab_type": "code",
        "colab": {},
        "outputId": "3eb0c121-dbca-438f-e713-9ba6245a73cb"
      },
      "source": [
        "array[::-1]"
      ],
      "execution_count": null,
      "outputs": [
        {
          "output_type": "execute_result",
          "data": {
            "text/plain": [
              "array([10,  9,  8,  7,  6,  5,  4,  3,  2,  1])"
            ]
          },
          "metadata": {
            "tags": []
          },
          "execution_count": 41
        }
      ]
    },
    {
      "cell_type": "code",
      "metadata": {
        "id": "nYyrFKLpsE16",
        "colab_type": "code",
        "colab": {},
        "outputId": "8d81c603-6f50-4061-f388-113e713f652d"
      },
      "source": [
        "array[1::2]"
      ],
      "execution_count": null,
      "outputs": [
        {
          "output_type": "execute_result",
          "data": {
            "text/plain": [
              "array([ 2,  4,  6,  8, 10])"
            ]
          },
          "metadata": {
            "tags": []
          },
          "execution_count": 42
        }
      ]
    },
    {
      "cell_type": "code",
      "metadata": {
        "id": "N3MkmYdjsE18",
        "colab_type": "code",
        "colab": {},
        "outputId": "68172b3e-aa1a-48cf-f44d-5c1a68d3c779"
      },
      "source": [
        "array[::3]"
      ],
      "execution_count": null,
      "outputs": [
        {
          "output_type": "execute_result",
          "data": {
            "text/plain": [
              "array([ 1,  4,  7, 10])"
            ]
          },
          "metadata": {
            "tags": []
          },
          "execution_count": 43
        }
      ]
    },
    {
      "cell_type": "code",
      "metadata": {
        "id": "TBcVWaJpsE1_",
        "colab_type": "code",
        "colab": {},
        "outputId": "a67af56d-eab1-4d32-f727-ec1290b65371"
      },
      "source": [
        "array[::2]"
      ],
      "execution_count": null,
      "outputs": [
        {
          "output_type": "execute_result",
          "data": {
            "text/plain": [
              "array([1, 3, 5, 7, 9])"
            ]
          },
          "metadata": {
            "tags": []
          },
          "execution_count": 44
        }
      ]
    },
    {
      "cell_type": "markdown",
      "metadata": {
        "id": "XRIrbyvAsE2C",
        "colab_type": "text"
      },
      "source": [
        "# Numpy Array (Multiplas Dimensões)"
      ]
    },
    {
      "cell_type": "code",
      "metadata": {
        "id": "nkrQd8VFsE2D",
        "colab_type": "code",
        "colab": {}
      },
      "source": [
        "import numpy as np"
      ],
      "execution_count": null,
      "outputs": []
    },
    {
      "cell_type": "code",
      "metadata": {
        "id": "TwGiQg7lsE2G",
        "colab_type": "code",
        "colab": {}
      },
      "source": [
        "array = np.arange(1,13)"
      ],
      "execution_count": null,
      "outputs": []
    },
    {
      "cell_type": "code",
      "metadata": {
        "id": "WH4o6fBysE2J",
        "colab_type": "code",
        "colab": {},
        "outputId": "6e172a92-236e-400b-e48b-bd0749d86836"
      },
      "source": [
        "array"
      ],
      "execution_count": null,
      "outputs": [
        {
          "output_type": "execute_result",
          "data": {
            "text/plain": [
              "array([ 1,  2,  3,  4,  5,  6,  7,  8,  9, 10, 11, 12])"
            ]
          },
          "metadata": {
            "tags": []
          },
          "execution_count": 47
        }
      ]
    },
    {
      "cell_type": "code",
      "metadata": {
        "id": "DyIO8O84sE2L",
        "colab_type": "code",
        "colab": {},
        "outputId": "8e5c82fe-0548-4577-c5bc-6967a8bbeebe"
      },
      "source": [
        "array.shape"
      ],
      "execution_count": null,
      "outputs": [
        {
          "output_type": "execute_result",
          "data": {
            "text/plain": [
              "(12,)"
            ]
          },
          "metadata": {
            "tags": []
          },
          "execution_count": 48
        }
      ]
    },
    {
      "cell_type": "code",
      "metadata": {
        "id": "XomKq7JWsE2N",
        "colab_type": "code",
        "colab": {},
        "outputId": "b1c97edd-9110-48d8-b77e-fab4b85495e2"
      },
      "source": [
        "remodelado = array.reshape(6,2)\n",
        "remodelado"
      ],
      "execution_count": null,
      "outputs": [
        {
          "output_type": "execute_result",
          "data": {
            "text/plain": [
              "array([[ 1,  2],\n",
              "       [ 3,  4],\n",
              "       [ 5,  6],\n",
              "       [ 7,  8],\n",
              "       [ 9, 10],\n",
              "       [11, 12]])"
            ]
          },
          "metadata": {
            "tags": []
          },
          "execution_count": 49
        }
      ]
    },
    {
      "cell_type": "code",
      "metadata": {
        "id": "uc9d93lmsE2P",
        "colab_type": "code",
        "colab": {},
        "outputId": "f670ceb7-3720-4300-81a8-955c7937ab9b"
      },
      "source": [
        "remodelado = array.reshape(2,6)\n",
        "remodelado"
      ],
      "execution_count": null,
      "outputs": [
        {
          "output_type": "execute_result",
          "data": {
            "text/plain": [
              "array([[ 1,  2,  3,  4,  5,  6],\n",
              "       [ 7,  8,  9, 10, 11, 12]])"
            ]
          },
          "metadata": {
            "tags": []
          },
          "execution_count": 50
        }
      ]
    },
    {
      "cell_type": "code",
      "metadata": {
        "id": "kSl3d7i4sE2T",
        "colab_type": "code",
        "colab": {},
        "outputId": "c214e4b1-1f74-4b36-c9a3-2cbd059fd680"
      },
      "source": [
        "remodelado**2"
      ],
      "execution_count": null,
      "outputs": [
        {
          "output_type": "execute_result",
          "data": {
            "text/plain": [
              "array([[  1,   4,   9,  16,  25,  36],\n",
              "       [ 49,  64,  81, 100, 121, 144]])"
            ]
          },
          "metadata": {
            "tags": []
          },
          "execution_count": 51
        }
      ]
    },
    {
      "cell_type": "code",
      "metadata": {
        "id": "haahpv2EsE2X",
        "colab_type": "code",
        "colab": {},
        "outputId": "837591d0-6105-44c9-eb6f-38898a52c164"
      },
      "source": [
        "remodelado = array.reshape(3,4)\n",
        "remodelado"
      ],
      "execution_count": null,
      "outputs": [
        {
          "output_type": "execute_result",
          "data": {
            "text/plain": [
              "array([[ 1,  2,  3,  4],\n",
              "       [ 5,  6,  7,  8],\n",
              "       [ 9, 10, 11, 12]])"
            ]
          },
          "metadata": {
            "tags": []
          },
          "execution_count": 52
        }
      ]
    },
    {
      "cell_type": "code",
      "metadata": {
        "id": "VXTeWbvosE2c",
        "colab_type": "code",
        "colab": {},
        "outputId": "5263da0b-f4f7-4cd2-8ccb-ae5295fee69f"
      },
      "source": [
        "remodelado.shape"
      ],
      "execution_count": null,
      "outputs": [
        {
          "output_type": "execute_result",
          "data": {
            "text/plain": [
              "(3, 4)"
            ]
          },
          "metadata": {
            "tags": []
          },
          "execution_count": 53
        }
      ]
    },
    {
      "cell_type": "code",
      "metadata": {
        "id": "DqxnCe65sE2h",
        "colab_type": "code",
        "colab": {},
        "outputId": "60dd86a4-969e-469a-f602-233dbb382536"
      },
      "source": [
        "remodelado = array.reshape(2,2,3)\n",
        "remodelado"
      ],
      "execution_count": null,
      "outputs": [
        {
          "output_type": "execute_result",
          "data": {
            "text/plain": [
              "array([[[ 1,  2,  3],\n",
              "        [ 4,  5,  6]],\n",
              "\n",
              "       [[ 7,  8,  9],\n",
              "        [10, 11, 12]]])"
            ]
          },
          "metadata": {
            "tags": []
          },
          "execution_count": 54
        }
      ]
    },
    {
      "cell_type": "code",
      "metadata": {
        "id": "HpLlU2QZsE2m",
        "colab_type": "code",
        "colab": {},
        "outputId": "8a321770-565f-422e-88bf-27ef0d4f2442"
      },
      "source": [
        "remodelado.shape"
      ],
      "execution_count": null,
      "outputs": [
        {
          "output_type": "execute_result",
          "data": {
            "text/plain": [
              "(2, 2, 3)"
            ]
          },
          "metadata": {
            "tags": []
          },
          "execution_count": 55
        }
      ]
    },
    {
      "cell_type": "code",
      "metadata": {
        "id": "-pglpJKzsE2o",
        "colab_type": "code",
        "colab": {},
        "outputId": "9a7090f8-ffa2-42b3-c2b7-2a2deb1c5b3a"
      },
      "source": [
        "remodelado[1][0][1]"
      ],
      "execution_count": null,
      "outputs": [
        {
          "output_type": "execute_result",
          "data": {
            "text/plain": [
              "8"
            ]
          },
          "metadata": {
            "tags": []
          },
          "execution_count": 56
        }
      ]
    },
    {
      "cell_type": "markdown",
      "metadata": {
        "id": "CS2bDJtYsE2p",
        "colab_type": "text"
      },
      "source": [
        "# Numpy Array e Boolean"
      ]
    },
    {
      "cell_type": "code",
      "metadata": {
        "id": "JslYzs3vsE2q",
        "colab_type": "code",
        "colab": {}
      },
      "source": [
        "import numpy as np"
      ],
      "execution_count": null,
      "outputs": []
    },
    {
      "cell_type": "code",
      "metadata": {
        "id": "rrzW6cHJsE2s",
        "colab_type": "code",
        "colab": {}
      },
      "source": [
        "array = np.arange(11)"
      ],
      "execution_count": null,
      "outputs": []
    },
    {
      "cell_type": "code",
      "metadata": {
        "id": "9lwbLw-asE2w",
        "colab_type": "code",
        "colab": {},
        "outputId": "3450a4c8-c311-4187-9d44-96a0f40a38ab"
      },
      "source": [
        "array"
      ],
      "execution_count": null,
      "outputs": [
        {
          "output_type": "execute_result",
          "data": {
            "text/plain": [
              "array([ 0,  1,  2,  3,  4,  5,  6,  7,  8,  9, 10])"
            ]
          },
          "metadata": {
            "tags": []
          },
          "execution_count": 59
        }
      ]
    },
    {
      "cell_type": "code",
      "metadata": {
        "id": "uH9iGJ3zsE2z",
        "colab_type": "code",
        "colab": {}
      },
      "source": [
        "cond = array > 5"
      ],
      "execution_count": null,
      "outputs": []
    },
    {
      "cell_type": "code",
      "metadata": {
        "id": "IxIm5cpdsE21",
        "colab_type": "code",
        "colab": {},
        "outputId": "d6cca2bc-f18e-418f-9feb-262e6472ffae"
      },
      "source": [
        "cond"
      ],
      "execution_count": null,
      "outputs": [
        {
          "output_type": "execute_result",
          "data": {
            "text/plain": [
              "array([False, False, False, False, False, False,  True,  True,  True,\n",
              "        True,  True])"
            ]
          },
          "metadata": {
            "tags": []
          },
          "execution_count": 61
        }
      ]
    },
    {
      "cell_type": "code",
      "metadata": {
        "id": "a8zrCLgfsE24",
        "colab_type": "code",
        "colab": {},
        "outputId": "5a0aff00-a74d-440c-c09e-7de5fcf202eb"
      },
      "source": [
        "cond2 = (array > 5) & (array < 9)\n",
        "cond2"
      ],
      "execution_count": null,
      "outputs": [
        {
          "output_type": "execute_result",
          "data": {
            "text/plain": [
              "array([False, False, False, False, False, False,  True,  True,  True,\n",
              "       False, False])"
            ]
          },
          "metadata": {
            "tags": []
          },
          "execution_count": 62
        }
      ]
    },
    {
      "cell_type": "code",
      "metadata": {
        "id": "g_YPORCqsE27",
        "colab_type": "code",
        "colab": {},
        "outputId": "4e533f31-cdc6-4b68-bb69-48548ab1f812"
      },
      "source": [
        "cond2 = (array > 5) | (array < 9)\n",
        "cond2"
      ],
      "execution_count": null,
      "outputs": [
        {
          "output_type": "execute_result",
          "data": {
            "text/plain": [
              "array([ True,  True,  True,  True,  True,  True,  True,  True,  True,\n",
              "        True,  True])"
            ]
          },
          "metadata": {
            "tags": []
          },
          "execution_count": 63
        }
      ]
    },
    {
      "cell_type": "markdown",
      "metadata": {
        "id": "LxuEWuh-sE2-",
        "colab_type": "text"
      },
      "source": [
        "# Numpy e Números Aleatórios"
      ]
    },
    {
      "cell_type": "code",
      "metadata": {
        "id": "3hIsjUKHsE2-",
        "colab_type": "code",
        "colab": {}
      },
      "source": [
        "import numpy as np"
      ],
      "execution_count": null,
      "outputs": []
    },
    {
      "cell_type": "code",
      "metadata": {
        "id": "AZjTKbbCsE3B",
        "colab_type": "code",
        "colab": {},
        "outputId": "c5ab858d-0efd-481d-bfdb-6161b67a9982"
      },
      "source": [
        "np.random.seed(123)\n",
        "array = np.random.randint(1,101,20)\n",
        "array"
      ],
      "execution_count": null,
      "outputs": [
        {
          "output_type": "execute_result",
          "data": {
            "text/plain": [
              "array([67, 93, 99, 18, 84, 58, 87, 98, 97, 48, 74, 33, 47, 97, 26, 84, 79,\n",
              "       37, 97, 81])"
            ]
          },
          "metadata": {
            "tags": []
          },
          "execution_count": 65
        }
      ]
    },
    {
      "cell_type": "code",
      "metadata": {
        "id": "J6F9qLE_sE3E",
        "colab_type": "code",
        "colab": {},
        "outputId": "ae5dfc2a-3763-4374-be28-f4404df2cba7"
      },
      "source": [
        "array = np.random.normal(10,2,2000)\n",
        "array"
      ],
      "execution_count": null,
      "outputs": [
        {
          "output_type": "execute_result",
          "data": {
            "text/plain": [
              "array([ 8.46113306, 11.15349204, 10.25305184, ...,  8.6945547 ,\n",
              "       10.2726704 , 12.37090315])"
            ]
          },
          "metadata": {
            "tags": []
          },
          "execution_count": 66
        }
      ]
    },
    {
      "cell_type": "code",
      "metadata": {
        "id": "WOEFLNkvsE3I",
        "colab_type": "code",
        "colab": {}
      },
      "source": [
        "import matplotlib.pyplot as plt"
      ],
      "execution_count": null,
      "outputs": []
    },
    {
      "cell_type": "code",
      "metadata": {
        "id": "4Nu5alyHsE3K",
        "colab_type": "code",
        "colab": {},
        "outputId": "b066a900-a158-4a20-e760-b889802ebec0"
      },
      "source": [
        "plt.hist(array)"
      ],
      "execution_count": null,
      "outputs": [
        {
          "output_type": "execute_result",
          "data": {
            "text/plain": [
              "(array([ 10.,  48., 159., 365., 527., 473., 277., 107.,  31.,   3.]),\n",
              " array([ 3.48644061,  4.83348609,  6.18053158,  7.52757706,  8.87462255,\n",
              "        10.22166803, 11.56871352, 12.915759  , 14.26280448, 15.60984997,\n",
              "        16.95689545]),\n",
              " <a list of 10 Patch objects>)"
            ]
          },
          "metadata": {
            "tags": []
          },
          "execution_count": 68
        },
        {
          "output_type": "display_data",
          "data": {
            "image/png": "[encoded data removed]",
            "text/plain": [
              "<Figure size 432x288 with 1 Axes>"
            ]
          },
          "metadata": {
            "tags": [],
            "needs_background": "light"
          }
        }
      ]
    }
  ]
}