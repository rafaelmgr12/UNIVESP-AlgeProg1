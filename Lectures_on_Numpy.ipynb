{
  "nbformat": 4,
  "nbformat_minor": 0,
  "metadata": {
    "kernelspec": {
      "display_name": "Python 3",
      "language": "python",
      "name": "python3"
    },
    "language_info": {
      "codemirror_mode": {
        "name": "ipython",
        "version": 3
      },
      "file_extension": ".py",
      "mimetype": "text/x-python",
      "name": "python",
      "nbconvert_exporter": "python",
      "pygments_lexer": "ipython3",
      "version": "3.6.9"
    },
    "colab": {
      "name": "Lectures on Numpy.ipynb",
      "provenance": [],
      "include_colab_link": true
    }
  },
  "cells": [
    {
      "cell_type": "markdown",
      "metadata": {
        "id": "view-in-github",
        "colab_type": "text"
      },
      "source": [
        "<a href=\"https://colab.research.google.com/github/rafaelmgr12/UNIVESP-AlgeProg1/blob/master/Lectures_on_Numpy.ipynb\" target=\"_parent\"><img src=\"https://colab.research.google.com/assets/colab-badge.svg\" alt=\"Open In Colab\"/></a>"
      ]
    },
    {
      "cell_type": "markdown",
      "metadata": {
        "id": "WJLgMCHcsEk9",
        "colab_type": "text"
      },
      "source": [
        "# Numpy Lectures\n"
      ]
    },
    {
      "cell_type": "markdown",
      "metadata": {
        "id": "t4Bm8qNwsEk-",
        "colab_type": "text"
      },
      "source": [
        "1. List vs Array\n"
      ]
    },
    {
      "cell_type": "code",
      "metadata": {
        "id": "AB3JmrqpsEk_",
        "colab_type": "code",
        "colab": {}
      },
      "source": [
        "import numpy as np"
      ],
      "execution_count": null,
      "outputs": []
    },
    {
      "cell_type": "code",
      "metadata": {
        "id": "CwEnkP42sElD",
        "colab_type": "code",
        "colab": {}
      },
      "source": [
        "L = [1,2,3] \n",
        "A = np.array([1,2,3])"
      ],
      "execution_count": null,
      "outputs": []
    },
    {
      "cell_type": "code",
      "metadata": {
        "id": "vGgfRiYpsElG",
        "colab_type": "code",
        "colab": {},
        "outputId": "ef0f29b1-d814-4d27-a97d-b483cb5a443a"
      },
      "source": [
        "for e in L:\n",
        "    print(e)"
      ],
      "execution_count": null,
      "outputs": [
        {
          "output_type": "stream",
          "text": [
            "1\n",
            "2\n",
            "3\n"
          ],
          "name": "stdout"
        }
      ]
    },
    {
      "cell_type": "code",
      "metadata": {
        "id": "j7vGrZbwsElM",
        "colab_type": "code",
        "colab": {},
        "outputId": "85401b5e-8248-4b07-d00f-5826b922c9ef"
      },
      "source": [
        "# Test now with the array\n",
        "for e in A:\n",
        "    print (e)"
      ],
      "execution_count": null,
      "outputs": [
        {
          "output_type": "stream",
          "text": [
            "1\n",
            "2\n",
            "3\n"
          ],
          "name": "stdout"
        }
      ]
    },
    {
      "cell_type": "markdown",
      "metadata": {
        "id": "y86OqDJesElS",
        "colab_type": "text"
      },
      "source": [
        "Try use the command append\n"
      ]
    },
    {
      "cell_type": "code",
      "metadata": {
        "id": "K93ViTY6sElS",
        "colab_type": "code",
        "colab": {},
        "outputId": "2f72b41f-cc90-42af-ec3b-50316ec4ec0e"
      },
      "source": [
        "L.append(4)\n",
        "print(L)"
      ],
      "execution_count": null,
      "outputs": [
        {
          "output_type": "stream",
          "text": [
            "[1, 2, 3, 4]\n"
          ],
          "name": "stdout"
        }
      ]
    },
    {
      "cell_type": "code",
      "metadata": {
        "id": "MaU0gDApsElW",
        "colab_type": "code",
        "colab": {},
        "outputId": "8a31f41d-58ab-4d3c-eb6f-15f9acc01918"
      },
      "source": [
        "A.append(4)"
      ],
      "execution_count": null,
      "outputs": [
        {
          "output_type": "error",
          "ename": "AttributeError",
          "evalue": "'numpy.ndarray' object has no attribute 'append'",
          "traceback": [
            "\u001b[0;31m---------------------------------------------------------------------------\u001b[0m",
            "\u001b[0;31mAttributeError\u001b[0m                            Traceback (most recent call last)",
            "\u001b[0;32m<ipython-input-48-a17c4d6940c3>\u001b[0m in \u001b[0;36m<module>\u001b[0;34m\u001b[0m\n\u001b[0;32m----> 1\u001b[0;31m \u001b[0mA\u001b[0m\u001b[0;34m.\u001b[0m\u001b[0mappend\u001b[0m\u001b[0;34m(\u001b[0m\u001b[0;36m4\u001b[0m\u001b[0;34m)\u001b[0m\u001b[0;34m\u001b[0m\u001b[0;34m\u001b[0m\u001b[0m\n\u001b[0m",
            "\u001b[0;31mAttributeError\u001b[0m: 'numpy.ndarray' object has no attribute 'append'"
          ]
        }
      ]
    },
    {
      "cell_type": "markdown",
      "metadata": {
        "id": "ZHgZbmUesElb",
        "colab_type": "text"
      },
      "source": [
        "Another for to append a list"
      ]
    },
    {
      "cell_type": "markdown",
      "metadata": {
        "id": "4ZUTHaiysElc",
        "colab_type": "text"
      },
      "source": [
        "L = L + [5]\n",
        "print (L)"
      ]
    },
    {
      "cell_type": "markdown",
      "metadata": {
        "id": "8X3d6IKHsElc",
        "colab_type": "text"
      },
      "source": [
        "We can't add either in a numpy array. "
      ]
    },
    {
      "cell_type": "markdown",
      "metadata": {
        "id": "OVbGScwNsEld",
        "colab_type": "text"
      },
      "source": [
        "In the end we see that a numpy.array is more like with the a mathematical vector. So we can treat them as vector in the usual way. We can treat a list, usually, as array but with some operations is limited \n"
      ]
    },
    {
      "cell_type": "markdown",
      "metadata": {
        "id": "AUacLfIqsEle",
        "colab_type": "text"
      },
      "source": [
        "# Dot product 1: For loop vs. cosine method vs. dot function"
      ]
    },
    {
      "cell_type": "code",
      "metadata": {
        "id": "9WFiTqiqsEle",
        "colab_type": "code",
        "colab": {}
      },
      "source": [
        "a = np.array([1,2])\n",
        "b = np.array([2,1])\n",
        "dot = 0"
      ],
      "execution_count": null,
      "outputs": []
    },
    {
      "cell_type": "markdown",
      "metadata": {
        "id": "3AQenLiesElh",
        "colab_type": "text"
      },
      "source": [
        "Use now the loop to compute the dot product"
      ]
    },
    {
      "cell_type": "code",
      "metadata": {
        "id": "Coyl4XB-sEli",
        "colab_type": "code",
        "colab": {},
        "outputId": "1be790ee-bdb2-4960-c00f-7df788ae65c1"
      },
      "source": [
        "for e, f in zip(a,b): \n",
        "    dot += e*f\n",
        "dot"
      ],
      "execution_count": null,
      "outputs": [
        {
          "output_type": "execute_result",
          "data": {
            "text/plain": [
              "4"
            ]
          },
          "metadata": {
            "tags": []
          },
          "execution_count": 9
        }
      ]
    },
    {
      "cell_type": "code",
      "metadata": {
        "id": "iuf64HDBsEll",
        "colab_type": "code",
        "colab": {},
        "outputId": "8f7c1b35-a2a7-48fd-8b86-554490095e41"
      },
      "source": [
        "a*b"
      ],
      "execution_count": null,
      "outputs": [
        {
          "output_type": "execute_result",
          "data": {
            "text/plain": [
              "array([2, 2])"
            ]
          },
          "metadata": {
            "tags": []
          },
          "execution_count": 11
        }
      ]
    },
    {
      "cell_type": "code",
      "metadata": {
        "id": "8B6_8e8wsElo",
        "colab_type": "code",
        "colab": {},
        "outputId": "c524fe63-e1f8-46d0-ba5f-ca64f35b5ae9"
      },
      "source": [
        "np.sum(a*b)"
      ],
      "execution_count": null,
      "outputs": [
        {
          "output_type": "execute_result",
          "data": {
            "text/plain": [
              "4"
            ]
          },
          "metadata": {
            "tags": []
          },
          "execution_count": 13
        }
      ]
    },
    {
      "cell_type": "code",
      "metadata": {
        "id": "6AugUEcvsElt",
        "colab_type": "code",
        "colab": {},
        "outputId": "6356c5ba-9ba3-4166-cf6b-fc7999754a27"
      },
      "source": [
        "(a*b).sum()"
      ],
      "execution_count": null,
      "outputs": [
        {
          "output_type": "execute_result",
          "data": {
            "text/plain": [
              "4"
            ]
          },
          "metadata": {
            "tags": []
          },
          "execution_count": 15
        }
      ]
    },
    {
      "cell_type": "markdown",
      "metadata": {
        "id": "mzShvp11sElw",
        "colab_type": "text"
      },
      "source": [
        "To compute the magnitude, we can use"
      ]
    },
    {
      "cell_type": "code",
      "metadata": {
        "id": "bb5AsgOdsElx",
        "colab_type": "code",
        "colab": {},
        "outputId": "75f2b7b9-8652-4611-8dce-326971289bd0"
      },
      "source": [
        "amag = np.sqrt((a*a).sum())\n",
        "amag"
      ],
      "execution_count": null,
      "outputs": [
        {
          "output_type": "execute_result",
          "data": {
            "text/plain": [
              "2.23606797749979"
            ]
          },
          "metadata": {
            "tags": []
          },
          "execution_count": 20
        }
      ]
    },
    {
      "cell_type": "markdown",
      "metadata": {
        "id": "VI0EzxrvsEl0",
        "colab_type": "text"
      },
      "source": [
        "The numpy has a libary with the linear algebra function"
      ]
    },
    {
      "cell_type": "code",
      "metadata": {
        "id": "Uk7M4cFisEl1",
        "colab_type": "code",
        "colab": {},
        "outputId": "3ec6c11c-467e-4465-f8c4-564a5e7cd94c"
      },
      "source": [
        "amag = np.linalg.norm(a)\n",
        "amag"
      ],
      "execution_count": null,
      "outputs": [
        {
          "output_type": "execute_result",
          "data": {
            "text/plain": [
              "2.23606797749979"
            ]
          },
          "metadata": {
            "tags": []
          },
          "execution_count": 22
        }
      ]
    },
    {
      "cell_type": "markdown",
      "metadata": {
        "id": "mpUj72hFsEl4",
        "colab_type": "text"
      },
      "source": [
        "## The final lesson is don't use loop, avoid them"
      ]
    },
    {
      "cell_type": "markdown",
      "metadata": {
        "id": "YKjsrRbXsEl5",
        "colab_type": "text"
      },
      "source": [
        "# Vector and Matrices"
      ]
    },
    {
      "cell_type": "code",
      "metadata": {
        "id": "w_8oOox1sEl6",
        "colab_type": "code",
        "colab": {}
      },
      "source": [
        "M = np.array([[1,2],[3,4]])\n",
        "L = [[1,2],[3,4]]"
      ],
      "execution_count": null,
      "outputs": []
    },
    {
      "cell_type": "code",
      "metadata": {
        "id": "dUdM_kwRsEl-",
        "colab_type": "code",
        "colab": {},
        "outputId": "56bf7a48-533b-4622-a386-c3684d7924e1"
      },
      "source": [
        "L[0]"
      ],
      "execution_count": null,
      "outputs": [
        {
          "output_type": "execute_result",
          "data": {
            "text/plain": [
              "[1, 2]"
            ]
          },
          "metadata": {
            "tags": []
          },
          "execution_count": 45
        }
      ]
    },
    {
      "cell_type": "code",
      "metadata": {
        "id": "mjHMOjE0sEmB",
        "colab_type": "code",
        "colab": {},
        "outputId": "47ec182c-fbe5-494a-a7dd-a64c672de424"
      },
      "source": [
        "L[0][0]"
      ],
      "execution_count": null,
      "outputs": [
        {
          "output_type": "execute_result",
          "data": {
            "text/plain": [
              "1"
            ]
          },
          "metadata": {
            "tags": []
          },
          "execution_count": 46
        }
      ]
    },
    {
      "cell_type": "code",
      "metadata": {
        "id": "noj64BODsEmE",
        "colab_type": "code",
        "colab": {},
        "outputId": "3d12fa88-4814-4082-b5f4-cbe9b8fb27fb"
      },
      "source": [
        "M[0][0]"
      ],
      "execution_count": null,
      "outputs": [
        {
          "output_type": "execute_result",
          "data": {
            "text/plain": [
              "array([[1, 2],\n",
              "       [3, 4]])"
            ]
          },
          "metadata": {
            "tags": []
          },
          "execution_count": 51
        }
      ]
    },
    {
      "cell_type": "code",
      "metadata": {
        "id": "vqx_vGGxsEmH",
        "colab_type": "code",
        "colab": {},
        "outputId": "e5a0e474-0196-468b-bc45-d5f2ee778f5f"
      },
      "source": [
        "M"
      ],
      "execution_count": null,
      "outputs": [
        {
          "output_type": "execute_result",
          "data": {
            "text/plain": [
              "array([[1, 2],\n",
              "       [3, 4]])"
            ]
          },
          "metadata": {
            "tags": []
          },
          "execution_count": 52
        }
      ]
    },
    {
      "cell_type": "code",
      "metadata": {
        "id": "aghgg4MJsEmK",
        "colab_type": "code",
        "colab": {},
        "outputId": "d733db73-e450-48a9-838f-e8c0ad98e84c"
      },
      "source": [
        "# compute the transpose\n",
        "M.T\n"
      ],
      "execution_count": null,
      "outputs": [
        {
          "output_type": "execute_result",
          "data": {
            "text/plain": [
              "array([[1, 3],\n",
              "       [2, 4]])"
            ]
          },
          "metadata": {
            "tags": []
          },
          "execution_count": 53
        }
      ]
    },
    {
      "cell_type": "markdown",
      "metadata": {
        "id": "LAJb-1uCsEmO",
        "colab_type": "text"
      },
      "source": [
        "# Generating a Matrices to work with"
      ]
    },
    {
      "cell_type": "markdown",
      "metadata": {
        "id": "N1C4_3FcsEmO",
        "colab_type": "text"
      },
      "source": [
        "Create a array, not manualy\n"
      ]
    },
    {
      "cell_type": "code",
      "metadata": {
        "id": "FyjgxB7dsEmP",
        "colab_type": "code",
        "colab": {},
        "outputId": "fe065b86-7fd3-4ff9-fb86-7ceeac21b1cb"
      },
      "source": [
        "z = np.zeros(10)\n",
        "z"
      ],
      "execution_count": null,
      "outputs": [
        {
          "output_type": "execute_result",
          "data": {
            "text/plain": [
              "array([0., 0., 0., 0., 0., 0., 0., 0., 0., 0.])"
            ]
          },
          "metadata": {
            "tags": []
          },
          "execution_count": 54
        }
      ]
    },
    {
      "cell_type": "code",
      "metadata": {
        "id": "zN1uR8tfsEmR",
        "colab_type": "code",
        "colab": {},
        "outputId": "04b85cb7-1697-45f0-b684-79dc85409782"
      },
      "source": [
        "z = np.zeros((10,10))\n",
        "z"
      ],
      "execution_count": null,
      "outputs": [
        {
          "output_type": "execute_result",
          "data": {
            "text/plain": [
              "array([[0., 0., 0., 0., 0., 0., 0., 0., 0., 0.],\n",
              "       [0., 0., 0., 0., 0., 0., 0., 0., 0., 0.],\n",
              "       [0., 0., 0., 0., 0., 0., 0., 0., 0., 0.],\n",
              "       [0., 0., 0., 0., 0., 0., 0., 0., 0., 0.],\n",
              "       [0., 0., 0., 0., 0., 0., 0., 0., 0., 0.],\n",
              "       [0., 0., 0., 0., 0., 0., 0., 0., 0., 0.],\n",
              "       [0., 0., 0., 0., 0., 0., 0., 0., 0., 0.],\n",
              "       [0., 0., 0., 0., 0., 0., 0., 0., 0., 0.],\n",
              "       [0., 0., 0., 0., 0., 0., 0., 0., 0., 0.],\n",
              "       [0., 0., 0., 0., 0., 0., 0., 0., 0., 0.]])"
            ]
          },
          "metadata": {
            "tags": []
          },
          "execution_count": 56
        }
      ]
    },
    {
      "cell_type": "code",
      "metadata": {
        "id": "m7uVJqIrsEmV",
        "colab_type": "code",
        "colab": {},
        "outputId": "007cceb8-7585-40cf-99b5-da39723647eb"
      },
      "source": [
        "# Random array\n",
        "R = np.random.random((10,10))\n",
        "R"
      ],
      "execution_count": null,
      "outputs": [
        {
          "output_type": "execute_result",
          "data": {
            "text/plain": [
              "array([[0.5563749 , 0.9942094 , 0.44054144, 0.08217564, 0.4148066 ,\n",
              "        0.74412199, 0.93352681, 0.40792733, 0.12450601, 0.27313407],\n",
              "       [0.02329446, 0.45260816, 0.59238853, 0.84741424, 0.68699749,\n",
              "        0.65537731, 0.32310189, 0.81462542, 0.24179918, 0.05851397],\n",
              "       [0.75048594, 0.43480089, 0.61404133, 0.65108668, 0.43880403,\n",
              "        0.53158199, 0.37650396, 0.34754459, 0.77911677, 0.82157389],\n",
              "       [0.33099413, 0.18794647, 0.87481553, 0.71602536, 0.27821003,\n",
              "        0.52628232, 0.87555413, 0.79981728, 0.62396849, 0.67257855],\n",
              "       [0.50062125, 0.57032071, 0.22422664, 0.78734058, 0.39012615,\n",
              "        0.62322702, 0.94312343, 0.86897585, 0.84138509, 0.41306359],\n",
              "       [0.23169961, 0.3576786 , 0.0358108 , 0.11681459, 0.53962137,\n",
              "        0.65745414, 0.1183737 , 0.43749095, 0.74740526, 0.19457185],\n",
              "       [0.77860288, 0.28360487, 0.10787378, 0.68301382, 0.9590075 ,\n",
              "        0.83454438, 0.04163059, 0.9393037 , 0.90679731, 0.30878781],\n",
              "       [0.7790086 , 0.69241848, 0.15559347, 0.34051284, 0.74199895,\n",
              "        0.20707069, 0.63137619, 0.49756005, 0.80531208, 0.94463311],\n",
              "       [0.02316264, 0.33575878, 0.72655939, 0.70256213, 0.71301119,\n",
              "        0.97719271, 0.80827489, 0.10806695, 0.27501407, 0.3921955 ],\n",
              "       [0.60986178, 0.95076524, 0.91773048, 0.83599478, 0.60214223,\n",
              "        0.68592938, 0.0740415 , 0.75815595, 0.38477169, 0.81836641]])"
            ]
          },
          "metadata": {
            "tags": []
          },
          "execution_count": 57
        }
      ]
    },
    {
      "cell_type": "code",
      "metadata": {
        "id": "lXOVpNWfsEmY",
        "colab_type": "code",
        "colab": {},
        "outputId": "f78371d2-a1cf-4b2f-ce87-3df9ceb2704f"
      },
      "source": [
        "# Gaussian distribution\n",
        "G = np.random.randn(10,10)\n",
        "G "
      ],
      "execution_count": null,
      "outputs": [
        {
          "output_type": "execute_result",
          "data": {
            "text/plain": [
              "array([[ 1.2600907 , -0.30899376, -0.28432851, -0.70829656, -2.03737401,\n",
              "         1.50811744,  2.0394837 , -1.43798171,  0.48905186, -0.21214823],\n",
              "       [ 0.12264946, -1.05536362,  0.05016926, -0.9791378 ,  0.66511724,\n",
              "         0.25603227,  1.62237125,  0.11305985, -1.78284012,  0.21704669],\n",
              "       [-1.55515095,  1.38006765,  0.833317  ,  0.64389896,  1.20091647,\n",
              "         0.45110016, -0.84275609, -1.59485422,  1.00296555, -0.78247655],\n",
              "       [-0.87622496, -0.56036263,  0.2069844 , -0.2488609 ,  0.31406327,\n",
              "         1.71908995,  0.68528649, -0.38448321,  0.84910092, -1.43069694],\n",
              "       [ 0.15422765, -1.22984895, -1.19659823, -0.08905001,  0.63962865,\n",
              "        -0.31461862, -1.15830565, -0.78430167, -0.43483729, -1.63472969],\n",
              "       [ 0.09275263,  0.09087521,  1.3929901 ,  0.2344836 , -1.18737623,\n",
              "         0.2805451 ,  0.17045721, -0.99120948, -0.94586465, -0.3271905 ],\n",
              "       [-1.58636007, -0.79214187,  1.03031712, -0.11041241, -1.9216464 ,\n",
              "        -0.9184821 ,  1.18793441, -0.24568134, -0.52510522, -0.34320466],\n",
              "       [ 0.64763617,  0.45698869, -0.81739536,  0.27635187, -0.52766786,\n",
              "         0.85815183,  0.83800528,  0.39375337, -2.08445603, -1.27968291],\n",
              "       [-0.54192128, -2.65225146,  0.37172498,  0.78238207, -0.69877329,\n",
              "         1.14714347, -1.349979  ,  0.54167939, -0.21068669,  0.29087629],\n",
              "       [ 0.15304101,  0.29482168,  0.45939878,  0.75446632, -2.67347579,\n",
              "        -1.9917455 , -0.41578125, -0.5817322 ,  0.94865331, -0.10386239]])"
            ]
          },
          "metadata": {
            "tags": []
          },
          "execution_count": 59
        }
      ]
    },
    {
      "cell_type": "code",
      "metadata": {
        "id": "Ni2i2GkmsEmf",
        "colab_type": "code",
        "colab": {},
        "outputId": "8bc79928-2bf2-4522-a8de-3aa0bdda57c7"
      },
      "source": [
        "G.mean()"
      ],
      "execution_count": null,
      "outputs": [
        {
          "output_type": "execute_result",
          "data": {
            "text/plain": [
              "-0.17629440106395908"
            ]
          },
          "metadata": {
            "tags": []
          },
          "execution_count": 61
        }
      ]
    },
    {
      "cell_type": "code",
      "metadata": {
        "id": "9SlBm_eusEmh",
        "colab_type": "code",
        "colab": {},
        "outputId": "61ccaf88-3c63-4fe6-df56-5a591f94f07f"
      },
      "source": [
        "G.var()"
      ],
      "execution_count": null,
      "outputs": [
        {
          "output_type": "execute_result",
          "data": {
            "text/plain": [
              "0.9935652623166069"
            ]
          },
          "metadata": {
            "tags": []
          },
          "execution_count": 62
        }
      ]
    },
    {
      "cell_type": "markdown",
      "metadata": {
        "id": "iI6s_gjssEmk",
        "colab_type": "text"
      },
      "source": [
        "# Matrix operation"
      ]
    },
    {
      "cell_type": "code",
      "metadata": {
        "id": "s8Inv7TcsEmk",
        "colab_type": "code",
        "colab": {},
        "outputId": "3391d0a7-1757-4d7f-91c0-42f6241ade65"
      },
      "source": [
        "# inverse\n",
        "\n",
        "A = np.array([[1,2],[3,4]])\n",
        "print (A)\n",
        "print (\"\\n\")\n",
        "\n",
        "Ainv = np.linalg.inv(A)\n",
        "print (Ainv)"
      ],
      "execution_count": null,
      "outputs": [
        {
          "output_type": "stream",
          "text": [
            "[[1 2]\n",
            " [3 4]]\n",
            "\n",
            "\n",
            "[[-2.   1. ]\n",
            " [ 1.5 -0.5]]\n"
          ],
          "name": "stdout"
        }
      ]
    },
    {
      "cell_type": "code",
      "metadata": {
        "id": "uaHzV_9KsEmn",
        "colab_type": "code",
        "colab": {},
        "outputId": "cfe0f208-cf5c-4eba-9864-62d8eb4f5ef9"
      },
      "source": [
        "Ainv.dot(A) #test the inverse"
      ],
      "execution_count": null,
      "outputs": [
        {
          "output_type": "execute_result",
          "data": {
            "text/plain": [
              "array([[[[1.00000000e+00, 0.00000000e+00]],\n",
              "\n",
              "        [[2.22044605e-16, 1.00000000e+00]]]])"
            ]
          },
          "metadata": {
            "tags": []
          },
          "execution_count": 80
        }
      ]
    },
    {
      "cell_type": "code",
      "metadata": {
        "id": "mSYtkrztsEmp",
        "colab_type": "code",
        "colab": {},
        "outputId": "df102ca3-6aeb-4044-9184-50554fbef403"
      },
      "source": [
        "# determiant\n",
        "np.linalg.det(A)"
      ],
      "execution_count": null,
      "outputs": [
        {
          "output_type": "execute_result",
          "data": {
            "text/plain": [
              "array([-2.])"
            ]
          },
          "metadata": {
            "tags": []
          },
          "execution_count": 81
        }
      ]
    },
    {
      "cell_type": "code",
      "metadata": {
        "id": "E2aLpFHUsEmt",
        "colab_type": "code",
        "colab": {},
        "outputId": "c934015d-0172-4b89-91cc-192c08763a8a"
      },
      "source": [
        "np.diag(A)"
      ],
      "execution_count": null,
      "outputs": [
        {
          "output_type": "execute_result",
          "data": {
            "text/plain": [
              "array([1, 4])"
            ]
          },
          "metadata": {
            "tags": []
          },
          "execution_count": 96
        }
      ]
    },
    {
      "cell_type": "markdown",
      "metadata": {
        "id": "4hM5js65sEmv",
        "colab_type": "text"
      },
      "source": [
        "Now we will make a fake dataset to compute de eigenvectors and eivenvalues"
      ]
    },
    {
      "cell_type": "code",
      "metadata": {
        "id": "5uI9xAWOsEmw",
        "colab_type": "code",
        "colab": {}
      },
      "source": [
        "X = np.random.randn(100,3)\n",
        "cov = np.cov(X)#wrong, \n"
      ],
      "execution_count": null,
      "outputs": []
    },
    {
      "cell_type": "code",
      "metadata": {
        "id": "QrI45Nv3sEmy",
        "colab_type": "code",
        "colab": {},
        "outputId": "a8988069-0f72-41a8-a43f-cf383e536c56"
      },
      "source": [
        "cov.shape"
      ],
      "execution_count": null,
      "outputs": [
        {
          "output_type": "execute_result",
          "data": {
            "text/plain": [
              "(100, 100)"
            ]
          },
          "metadata": {
            "tags": []
          },
          "execution_count": 107
        }
      ]
    },
    {
      "cell_type": "code",
      "metadata": {
        "id": "-HxGNiatsEm0",
        "colab_type": "code",
        "colab": {}
      },
      "source": [
        "cov = np.cov(X.T)"
      ],
      "execution_count": null,
      "outputs": []
    },
    {
      "cell_type": "code",
      "metadata": {
        "id": "Gu1XNO57sEm3",
        "colab_type": "code",
        "colab": {},
        "outputId": "8d406d65-c665-4053-d4bd-ad9a6696e7ee"
      },
      "source": [
        "cov"
      ],
      "execution_count": null,
      "outputs": [
        {
          "output_type": "error",
          "ename": "NameError",
          "evalue": "name 'cov' is not defined",
          "traceback": [
            "\u001b[0;31m---------------------------------------------------------------------------\u001b[0m",
            "\u001b[0;31mNameError\u001b[0m                                 Traceback (most recent call last)",
            "\u001b[0;32m<ipython-input-3-b49a49fe1426>\u001b[0m in \u001b[0;36m<module>\u001b[0;34m\u001b[0m\n\u001b[0;32m----> 1\u001b[0;31m \u001b[0mcov\u001b[0m\u001b[0;34m\u001b[0m\u001b[0;34m\u001b[0m\u001b[0m\n\u001b[0m",
            "\u001b[0;31mNameError\u001b[0m: name 'cov' is not defined"
          ]
        }
      ]
    },
    {
      "cell_type": "markdown",
      "metadata": {
        "id": "RD-COk5ZsEm5",
        "colab_type": "text"
      },
      "source": [
        "$\\alpha$"
      ]
    }
  ]
}