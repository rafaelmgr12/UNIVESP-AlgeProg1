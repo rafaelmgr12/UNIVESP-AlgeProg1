{
  "nbformat": 4,
  "nbformat_minor": 0,
  "metadata": {
    "colab": {
      "name": "Semana_6.ipynb",
      "provenance": [],
      "private_outputs": true,
      "collapsed_sections": [],
      "toc_visible": true,
      "authorship_tag": "ABX9TyMc4tA38DZpsFM4/TXRQPkv",
      "include_colab_link": true
    },
    "kernelspec": {
      "name": "python3",
      "display_name": "Python 3"
    }
  },
  "cells": [
    {
      "cell_type": "markdown",
      "metadata": {
        "id": "view-in-github",
        "colab_type": "text"
      },
      "source": [
        "<a href=\"https://colab.research.google.com/github/rafaelmgr12/UNIVESP-AlgeProg1/blob/master/Semana_6.ipynb\" target=\"_parent\"><img src=\"https://colab.research.google.com/assets/colab-badge.svg\" alt=\"Open In Colab\"/></a>"
      ]
    },
    {
      "cell_type": "markdown",
      "metadata": {
        "id": "2ORKkQouRDVl",
        "colab_type": "text"
      },
      "source": [
        "# Semana 6"
      ]
    },
    {
      "cell_type": "markdown",
      "metadata": {
        "id": "M-pb6o7iRDRm",
        "colab_type": "text"
      },
      "source": [
        "## Estruturas de repetição - for\n",
        "\n",
        "Estruturas de controle de fluxo que\n",
        "permitem repetir uma sequência de\n",
        "comandos.\n",
        "\n",
        "Número de repetições pode ser\n",
        "indeterminado, porém deve ser finito."
      ]
    },
    {
      "cell_type": "markdown",
      "metadata": {
        "id": "MpPnZzMnRDPx",
        "colab_type": "text"
      },
      "source": [
        "### COMANDO FOR\n",
        "\n",
        "```\n",
        "for <variável> in <sequência>:\n",
        "<bloco de código identado>\n",
        "<bloco de código não identado>\n",
        "```\n",
        "\n",
        "A variável <sequência> deve ser um objeto do\n",
        "tipo string, list, range ou qualquer outro tipo que\n",
        "possa ser iterado.\n",
        "\n",
        "Valores sucessivos de <sequência> são\n",
        "atribuídos a <variável>, executando <bloco de\n",
        "código identado> para cada valor de <variável>.\n",
        "\n"
      ]
    },
    {
      "cell_type": "markdown",
      "metadata": {
        "id": "gcfQabBfRDNs",
        "colab_type": "text"
      },
      "source": [
        "Exemplos"
      ]
    },
    {
      "cell_type": "code",
      "metadata": {
        "id": "NWmsw8UlRzOX",
        "colab_type": "code",
        "colab": {}
      },
      "source": [
        "l = ['cão', 'gato', 'coelho']\n",
        "for i in l:\n",
        "  print(i)\n",
        "\n",
        "s = 'algoritmos'\n",
        "for c in s:\n",
        "  if c in 'aeiou':\n",
        "    print(c)"
      ],
      "execution_count": null,
      "outputs": []
    },
    {
      "cell_type": "markdown",
      "metadata": {
        "id": "neIJdAycRDL7",
        "colab_type": "text"
      },
      "source": [
        "Função range(). Formato:\n",
        "\n",
        "range(start, stop, step)"
      ]
    },
    {
      "cell_type": "code",
      "metadata": {
        "id": "rPphQue3SBBO",
        "colab_type": "code",
        "colab": {}
      },
      "source": [
        "for x in range(10): \n",
        "  print(x) \n",
        "l = ['a', 'b', 'c']\n",
        "for i in range(len(l)):\n",
        "  print(l[i])\n",
        "\n",
        "for y in range(1, 20, 2):\n",
        "  print(y)"
      ],
      "execution_count": null,
      "outputs": []
    },
    {
      "cell_type": "markdown",
      "metadata": {
        "id": "UU4uc8O2RDJw",
        "colab_type": "text"
      },
      "source": [
        "### ACUMULADORES\n",
        "\n",
        "Exemplo :\n",
        "\n",
        "Como calcular a soma de todos os\n",
        "números pares de 1 a 100?\n",
        "\n"
      ]
    },
    {
      "cell_type": "code",
      "metadata": {
        "id": "a6eTCrE4SW1C",
        "colab_type": "code",
        "colab": {}
      },
      "source": [
        "soma = 0\n",
        "for i in range(0,100):\n",
        "  if i%2 == 0:\n",
        "    soma = soma + i\n",
        "print(soma)"
      ],
      "execution_count": null,
      "outputs": []
    },
    {
      "cell_type": "markdown",
      "metadata": {
        "id": "su6bpG0IRDHw",
        "colab_type": "text"
      },
      "source": [
        "### LOOPs ANINHADOS\n",
        "\n",
        "Exemplo:\n",
        "\n",
        "Dada uma lista de strings como segue:\n",
        "```\n",
        "str_list = ['João', 'Roberto', 'Rafael']\n",
        "```\n",
        "\n",
        "Retornar todas as vogais que ocorrem nos\n",
        "elementos acima."
      ]
    },
    {
      "cell_type": "code",
      "metadata": {
        "id": "wy3yVwXISoUJ",
        "colab_type": "code",
        "colab": {}
      },
      "source": [
        "str_list = ['João', 'Roberto', 'Rafael']\n",
        "\n",
        "for c in str_list:\n",
        "  for i in c:\n",
        "    if i in 'aeiou':\n",
        "      print(i)"
      ],
      "execution_count": null,
      "outputs": []
    },
    {
      "cell_type": "markdown",
      "metadata": {
        "id": "7yvdGonfRDGY",
        "colab_type": "text"
      },
      "source": [
        "## Estruturas de repetição - while\n",
        "\n"
      ]
    },
    {
      "cell_type": "markdown",
      "metadata": {
        "id": "Bv9JwDXPU38s",
        "colab_type": "text"
      },
      "source": [
        "## O COMANDO WHILE\n",
        "\n",
        "O comando while tem uma estrutura parecida\n",
        "com o teste condicional de uma via:\n",
        "```\n",
        "if <condição>:\n",
        "<bloco de instruções identado>\n",
        "<bloco de instruções não-identado>\n",
        "\n",
        "while <condição>:\n",
        "<bloco de instruções identado>\n",
        "<bloco de instruções não-identado>\n",
        "\n",
        "```\n",
        "\n"
      ]
    },
    {
      "cell_type": "markdown",
      "metadata": {
        "id": "pyMa3TuDU4Cz",
        "colab_type": "text"
      },
      "source": [
        "![semana6.png](data:image/png;base64,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)"
      ]
    },
    {
      "cell_type": "markdown",
      "metadata": {
        "id": "fVze6YenU4A8",
        "colab_type": "text"
      },
      "source": [
        "O comando while é útil quando não sabemos\n",
        "quantas vezes um bloco deverá ser repetido.\n",
        "\n",
        "Exemplo:\n",
        "\n",
        "Encontre o maior valor de n tal que n! < L.\n",
        "\n",
        "Se L = 20, então o\n",
        "maior valor de n é 3,\n",
        "já que 3! = 6 e 4! = 24.\n"
      ]
    },
    {
      "cell_type": "code",
      "metadata": {
        "id": "9YTgGjkRD5qo",
        "colab_type": "code",
        "colab": {}
      },
      "source": [
        "def nfat(L):\n",
        "  n = 0\n",
        "  fat = 1\n",
        "  while fat <= L:\n",
        "    n += 1\n",
        "    fat *= n\n",
        "  return n-1\n",
        "nfat(20)"
      ],
      "execution_count": null,
      "outputs": []
    },
    {
      "cell_type": "markdown",
      "metadata": {
        "id": "JDsfiSeTVjrS",
        "colab_type": "text"
      },
      "source": [
        "Exemplo:\n",
        "\n",
        "Pedir para o usuário digitar um número\n",
        "inteiro positivo. Caso contrário, emitir uma\n",
        "mensagem e pedir novamente."
      ]
    },
    {
      "cell_type": "code",
      "metadata": {
        "id": "Qp84IS10VjFC",
        "colab_type": "code",
        "colab": {}
      },
      "source": [
        "\n",
        "num = eval(input('Digite um número inteiro positivo'))\n",
        "while num<int(0):\n",
        "  print(\"\\nNúmero menor que zero\\n\")\n",
        "  num = eval(input(\"\\nTente novamente\"))\n"
      ],
      "execution_count": null,
      "outputs": []
    },
    {
      "cell_type": "markdown",
      "metadata": {
        "id": "RWr58udGWX37",
        "colab_type": "text"
      },
      "source": [
        "Exemplo:\n",
        "\n",
        "Armazenar nomes de pessoas em uma lista\n",
        "enquanto o usuário digitar strings\n",
        "diferentes de vazio."
      ]
    },
    {
      "cell_type": "code",
      "metadata": {
        "id": "VIshve5hVX-l",
        "colab_type": "code",
        "colab": {}
      },
      "source": [
        "l = []\n",
        "nome = input('Digite um nome: \\n')\n",
        "while nome != \"\":\n",
        "  l.append(nome)\n",
        "  nome = input('Digite outro nome: \\n')\n",
        "\n",
        "for i in l:\n",
        "  print(i,'\\n')"
      ],
      "execution_count": null,
      "outputs": []
    },
    {
      "cell_type": "markdown",
      "metadata": {
        "id": "MhOb3ulaWqDG",
        "colab_type": "text"
      },
      "source": [
        "### LOOP INFINITO\n",
        "\n",
        "Um loop infinito é aquele que é executado \"para\n",
        "sempre\":\n",
        "```\n",
        "while True:\n",
        "<bloco de instruções identado>\n",
        "```\n",
        "São úteis quando o programa deve fornecer um\n",
        "serviço indefinidamente.\n",
        "Para sair do loop, deve-se digitar Ctrl+C no\n",
        "teclado."
      ]
    },
    {
      "cell_type": "markdown",
      "metadata": {
        "id": "ns-o5hxpWx_Q",
        "colab_type": "text"
      },
      "source": [
        "## Outros comandos: break, continue e pass"
      ]
    },
    {
      "cell_type": "markdown",
      "metadata": {
        "id": "_j9l7KSsWyPY",
        "colab_type": "text"
      },
      "source": [
        "### BREAK\n",
        "\n",
        "O comando break, quando\n",
        "inserido dentro de um\n",
        "loop (for ou while), faz\n",
        "com que aquele laço seja\n",
        "finalizado, passando o\n",
        "controle para o próximo\n",
        "bloco de instruções não\n",
        "identado.\n",
        "\n",
        "![img](https://cdn.programiz.com/sites/tutorial2program/files/flowchart-break-statement.jpg)\n",
        "\n",
        "![img](https://cdn.programiz.com/sites/tutorial2program/files/how-break-statement-works.jpg)\n"
      ]
    },
    {
      "cell_type": "markdown",
      "metadata": {
        "id": "RTxnh4F_XaNF",
        "colab_type": "text"
      },
      "source": [
        "Exemplo:\n",
        "\n",
        "Implemente uma função\n",
        "que verifica se um\n",
        "número é primo ou não."
      ]
    },
    {
      "cell_type": "code",
      "metadata": {
        "id": "E0I1Obf2Wxow",
        "colab_type": "code",
        "colab": {}
      },
      "source": [
        "def primo(num):\n",
        "  i = 2\n",
        "  while i < num:\n",
        "    if num % i == 0:\n",
        "      break\n",
        "    i += 1\n",
        "  return i == num\n"
      ],
      "execution_count": null,
      "outputs": []
    },
    {
      "cell_type": "markdown",
      "metadata": {
        "id": "eUXUbtNRXr7m",
        "colab_type": "text"
      },
      "source": [
        "### CONTINUE\n",
        "\n",
        "O comando continue,\n",
        "quando inserido dentro\n",
        "de um loop (for ou while),\n",
        "faz com que a nova\n",
        "iteração do laço seja\n",
        "forçada, a partir daquele\n",
        "ponto onde o comando foi\n",
        "inserido.\n",
        "\n",
        "![img](https://cdn.programiz.com/sites/tutorial2program/files/continue-statement-flowchart.jpg)\n",
        "![img](https://cdn.programiz.com/sites/tutorial2program/files/how-continue-statment-works.jpg)"
      ]
    },
    {
      "cell_type": "markdown",
      "metadata": {
        "id": "fGDoWiOtX7YQ",
        "colab_type": "text"
      },
      "source": [
        "Exemplo:\n",
        "\n",
        "Dada a função primo()\n",
        "implementada no slide\n",
        "anterior, faça um\n",
        "programa que imprima\n",
        "todos os números\n",
        "primos de 2 a 100."
      ]
    },
    {
      "cell_type": "code",
      "metadata": {
        "id": "fbgLxKsHWxGc",
        "colab_type": "code",
        "colab": {}
      },
      "source": [
        "for n in range(2, 100):\n",
        "  if not primo(n):\n",
        "    continue\n",
        "  print(n)"
      ],
      "execution_count": null,
      "outputs": []
    },
    {
      "cell_type": "markdown",
      "metadata": {
        "id": "Bt9dXalIYCAL",
        "colab_type": "text"
      },
      "source": [
        "# PASS\n",
        "\n",
        "Todos os comandos def, if, else, for ou while\n",
        "precisam ter necessariamente um bloco\n",
        "indentado não vazio.\n",
        "\n",
        "Apesar de poder ser evitado na maioria das\n",
        "situações, a linguagem Python oferece o\n",
        "comando pass, que é uma instrução válida\n",
        "que não faz nada."
      ]
    },
    {
      "cell_type": "code",
      "metadata": {
        "id": "LvB4MXidYA_L",
        "colab_type": "code",
        "colab": {}
      },
      "source": [
        "# Exemplo\n",
        "n = 3 \n",
        "\n",
        "if n % 2 == 0:\n",
        "  pass\n",
        "else:\n",
        "  print(n)"
      ],
      "execution_count": null,
      "outputs": []
    },
    {
      "cell_type": "markdown",
      "metadata": {
        "id": "opOkeOUgYQYH",
        "colab_type": "text"
      },
      "source": [
        "## Exercício de apoio - Semana 6"
      ]
    },
    {
      "cell_type": "markdown",
      "metadata": {
        "id": "yPGnHJTaYUqP",
        "colab_type": "text"
      },
      "source": [
        "Problema Prático 3.5 \n",
        "\n",
        "Implemente um programa que solicite do usuário uma lista de palavras (ou seja, strings) e depois exiba na tela, uma por linha, todas as strings de quatro letras nessa lista. \n",
        "```\n",
        ">>> Digite a lista de palavras: ['pare', 'desktop', 'tio', 'pote']\n",
        "```\n",
        "pare pote"
      ]
    },
    {
      "cell_type": "code",
      "metadata": {
        "id": "u0HX0svKYMtG",
        "colab_type": "code",
        "colab": {}
      },
      "source": [
        ""
      ],
      "execution_count": null,
      "outputs": []
    },
    {
      "cell_type": "markdown",
      "metadata": {
        "id": "14TXLJW8ZXQw",
        "colab_type": "text"
      },
      "source": [
        "Problema Prático 3.6\n",
        "\n",
        "Escreva o laço for que exibirá as sequências de números a seguir, um por linha, no shell interativo do Python. \n",
        "\n",
        "(a)Inteiros de 0 a 9 (isto é, 0, 1, 2, 3, 4, 5, 6, 7, 8, 9). \n",
        "\n",
        "(b)Inteiros de 0 a 1 (isto é, 0, 1)"
      ]
    },
    {
      "cell_type": "code",
      "metadata": {
        "id": "YNz1H8caZiOZ",
        "colab_type": "code",
        "colab": {}
      },
      "source": [
        ""
      ],
      "execution_count": null,
      "outputs": []
    },
    {
      "cell_type": "markdown",
      "metadata": {
        "id": "MnrVAHtwZpVY",
        "colab_type": "text"
      },
      "source": [
        "Problema Prático 3.7 \n",
        "\n",
        "Escreva um laço for que exiba a seguinte sequência de números, um por linha. \n",
        "\n",
        "(a)Inteiros de 3 até 12, inclusive este. \n",
        "\n",
        "(b)Inteiros de 0 até (mas não incluindo) 9, com um passo de 2 em vez do padrão 1 (isto é, 0, 2, 4, 6, 8). 7\n",
        "\n",
        "(c)Inteiros de 0 até (mas não incluindo) 24, com um passo de 3.\n",
        "\n",
        "(d)Inteiros de 3 até (mas não incluindo) 12, com um passo de 5."
      ]
    },
    {
      "cell_type": "code",
      "metadata": {
        "id": "OW9ZtX-ZZvqS",
        "colab_type": "code",
        "colab": {}
      },
      "source": [
        ""
      ],
      "execution_count": null,
      "outputs": []
    }
  ]
}