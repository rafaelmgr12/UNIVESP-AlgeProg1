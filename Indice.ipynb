{
 "cells": [
  {
   "cell_type": "markdown",
   "metadata": {
    "colab_type": "text",
    "id": "view-in-github"
   },
   "source": [
    "<a href=\"https://colab.research.google.com/github/rafaelmgr12/UNIVESP-AlgeProg1/blob/master/Indice.ipynb\" target=\"_parent\"><img src=\"https://colab.research.google.com/assets/colab-badge.svg\" alt=\"Open In Colab\"/></a>"
   ]
  },
  {
   "cell_type": "markdown",
   "metadata": {
    "colab_type": "text",
    "id": "OB6GWxO2ICBo"
   },
   "source": [
    "# ALGORITMOS E PROGRAMAÇÃO DE COMPUTADORES I\n",
    "\n"
   ]
  },
  {
   "cell_type": "markdown",
   "metadata": {
    "colab_type": "text",
    "id": "QiOuptRjICG7"
   },
   "source": [
    "![UNIVESP](https://jeonline.com.br/site/uploads/posts/univesp-disponibiliza-50-vagas-para-curso-superior-gratuito-em-ibiuna-6ca9eef2f739af8df0eb8f1d2ce9b8f2.jpg)\n"
   ]
  },
  {
   "cell_type": "markdown",
   "metadata": {
    "colab_type": "text",
    "id": "xHQJRDQPICFP"
   },
   "source": [
    "## Conteúdo\n",
    "\n",
    "### [1. Semana 1 e 2](https://colab.research.google.com/github/rafaelmgr12/UNIVESP-AlgeProg1/blob/master/Semana_1_e_2.ipynb)\n",
    "\n",
    "### [2. Semana 3](https://colab.research.google.com/github/rafaelmgr12/UNIVESP-AlgeProg1/blob/master/Semana_3.ipynb)\n",
    "\n",
    "### [3. Semana 4](https://colab.research.google.com/github/rafaelmgr12/UNIVESP-AlgeProg1/blob/master/Semana_4.ipynb)\n",
    "\n",
    "### [4. Semana 5](https://colab.research.google.com/github/rafaelmgr12/UNIVESP-AlgeProg1/blob/master/Semana_5.ipynb)\n",
    "### 5. Semana 6\n",
    "### 6. Semana 7\n",
    "### 7. Semana 8 \n",
    "\n"
   ]
  },
  {
   "cell_type": "code",
   "execution_count": null,
   "metadata": {},
   "outputs": [],
   "source": []
  }
 ],
 "metadata": {
  "colab": {
   "authorship_tag": "ABX9TyPr9UbljmgxW5ikekON8Mc6",
   "collapsed_sections": [],
   "include_colab_link": true,
   "name": "Indice.ipynb",
   "private_outputs": true,
   "provenance": []
  },
  "kernelspec": {
   "display_name": "Python 3",
   "language": "python",
   "name": "python3"
  },
  "language_info": {
   "codemirror_mode": {
    "name": "ipython",
    "version": 3
   },
   "file_extension": ".py",
   "mimetype": "text/x-python",
   "name": "python",
   "nbconvert_exporter": "python",
   "pygments_lexer": "ipython3",
   "version": "3.6.9"
  }
 },
 "nbformat": 4,
 "nbformat_minor": 1
}
