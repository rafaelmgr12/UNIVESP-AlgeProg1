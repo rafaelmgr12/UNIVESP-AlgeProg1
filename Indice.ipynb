{
  "nbformat": 4,
  "nbformat_minor": 0,
  "metadata": {
    "colab": {
      "name": "Indice.ipynb",
      "provenance": [],
      "private_outputs": true,
      "collapsed_sections": [],
      "authorship_tag": "ABX9TyPuekBvHTa5iOibTfFzzhVA",
      "include_colab_link": true
    },
    "kernelspec": {
      "name": "python3",
      "display_name": "Python 3"
    }
  },
  "cells": [
    {
      "cell_type": "markdown",
      "metadata": {
        "id": "view-in-github",
        "colab_type": "text"
      },
      "source": [
        "<a href=\"https://colab.research.google.com/github/rafaelmgr12/UNIVESP-AlgeProg1/blob/master/Indice.ipynb\" target=\"_parent\"><img src=\"https://colab.research.google.com/assets/colab-badge.svg\" alt=\"Open In Colab\"/></a>"
      ]
    },
    {
      "cell_type": "markdown",
      "metadata": {
        "id": "OB6GWxO2ICBo",
        "colab_type": "text"
      },
      "source": [
        "# ALGORITMOS E PROGRAMAÇÃO DE COMPUTADORES I\n",
        "\n"
      ]
    },
    {
      "cell_type": "markdown",
      "metadata": {
        "id": "QiOuptRjICG7",
        "colab_type": "text"
      },
      "source": [
        "![UNIVESP](https://jeonline.com.br/site/uploads/posts/univesp-disponibiliza-50-vagas-para-curso-superior-gratuito-em-ibiuna-6ca9eef2f739af8df0eb8f1d2ce9b8f2.jpg)\n"
      ]
    },
    {
      "cell_type": "markdown",
      "metadata": {
        "id": "xHQJRDQPICFP",
        "colab_type": "text"
      },
      "source": [
        "## Conteúdo\n",
        "\n",
        "### [1. Semana 1 e 2](https://colab.research.google.com/github/rafaelmgr12/UNIVESP-AlgeProg1/blob/master/Semana_1_e_2.ipynb)\n",
        "\n",
        "### [2. Semana 3](https://colab.research.google.com/github/rafaelmgr12/UNIVESP-AlgeProg1/blob/master/Semana_3.ipynb)\n",
        "\n",
        "### [3. Semana 4](https://colab.research.google.com/github/rafaelmgr12/UNIVESP-AlgeProg1/blob/master/Semana_4.ipynb)\n",
        "\n",
        "### [4. Semana 5](https://colab.research.google.com/github/rafaelmgr12/UNIVESP-AlgeProg1/blob/master/Semana_5.ipynb)\n",
        "\n",
        "### [5. Semana 6](https://colab.research.google.com/github/rafaelmgr12/UNIVESP-AlgeProg1/blob/master/Semana_6.ipynb)\n",
        "### [6. Semana 7](https://colab.research.google.com/github/rafaelmgr12/UNIVESP-AlgeProg1/blob/master/Semana_7.ipynb)\n",
        "### 7. Semana 8 \n",
        "\n",
        "### 8. Apêndice\n",
        "- [Numpy em Portugês](https://colab.research.google.com/github/rafaelmgr12/UNIVESP-AlgeProg1/blob/master/Numpy.ipynb)\n",
        "- [Numpy em Inglês](https://colab.research.google.com/github/rafaelmgr12/UNIVESP-AlgeProg1/blob/master/Lectures_on_Numpy.ipynb)\n",
        "- [Exercícios Numpy](https://colab.research.google.com/github/rafaelmgr12/UNIVESP-AlgeProg1/blob/master/Extra/Exercicios_Numpy.ipynb)\n"
      ]
    }
  ]
}