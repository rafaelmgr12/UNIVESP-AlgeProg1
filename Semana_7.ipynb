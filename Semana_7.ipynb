{
  "nbformat": 4,
  "nbformat_minor": 0,
  "metadata": {
    "colab": {
      "name": "Semana_7.ipynb",
      "provenance": [],
      "private_outputs": true,
      "collapsed_sections": [],
      "authorship_tag": "ABX9TyPvTIrY9mw7LapoKDpY/lxv",
      "include_colab_link": true
    },
    "kernelspec": {
      "name": "python3",
      "display_name": "Python 3"
    }
  },
  "cells": [
    {
      "cell_type": "markdown",
      "metadata": {
        "id": "view-in-github",
        "colab_type": "text"
      },
      "source": [
        "<a href=\"https://colab.research.google.com/github/rafaelmgr12/UNIVESP-AlgeProg1/blob/master/Semana_7.ipynb\" target=\"_parent\"><img src=\"https://colab.research.google.com/assets/colab-badge.svg\" alt=\"Open In Colab\"/></a>"
      ]
    },
    {
      "cell_type": "markdown",
      "metadata": {
        "id": "3sUjxQU_UBAq",
        "colab_type": "text"
      },
      "source": [
        "# Semana 7"
      ]
    },
    {
      "cell_type": "markdown",
      "metadata": {
        "id": "w97a59ODUFjY",
        "colab_type": "text"
      },
      "source": [
        "## Setup Google Colab"
      ]
    },
    {
      "cell_type": "code",
      "metadata": {
        "id": "YFWMVgs-UFHR",
        "colab_type": "code",
        "colab": {}
      },
      "source": [
        "try:\n",
        "  import google.colab\n",
        "  IN_COLAB = True\n",
        "except: \n",
        "  IN_COLAB = False\n",
        "if IN_COLAB:\n",
        "  print(\"Baixando biblioteca que será usada nesse notebook\")\n",
        "  ! shred -u funcoes.py\n",
        "  ! wget https://raw.githubusercontent.com/rafaelmgr12/UNIVESP-AlgeProg1/master/funcoes/funcoes.py -O funcoes.py\n",
        "  import funcoes as func"
      ],
      "execution_count": null,
      "outputs": []
    },
    {
      "cell_type": "markdown",
      "metadata": {
        "id": "2xP5WHPLVX-m",
        "colab_type": "text"
      },
      "source": [
        "## Listas Multidimensionais"
      ]
    },
    {
      "cell_type": "markdown",
      "metadata": {
        "id": "8Zk-_AiaVYTV",
        "colab_type": "text"
      },
      "source": [
        "### Listas Unidimensionais\n",
        "Já vimos como uma lista unidimensional\n",
        "pode ser criada em Python:\n",
        "\n",
        "```\n",
        "l = [1,2,3]\n",
        "```\n",
        "\n",
        "E se quisermos definir listas com mais de\n",
        "uma dimensão?\n",
        "\n"
      ]
    },
    {
      "cell_type": "markdown",
      "metadata": {
        "id": "FJKD2PxZVXHu",
        "colab_type": "text"
      },
      "source": [
        "### Listas Multidimensionais\n",
        "\n",
        "No caso de duas dimensões, podemos criar\n",
        "uma lista de listas:\n",
        "```\n",
        "m = [[1, 2, 3], [4, 5, 6], [7, 8, 9]]\n",
        "```\n",
        "\n",
        "Assim, m[0] corresponde à primeira linha\n",
        "(lista [1, 2, 3]), m[1] à segunda linha (lista [4,\n",
        "5, 6]) e m[2] à terceira linha (lista [7, 8, 9])."
      ]
    },
    {
      "cell_type": "code",
      "metadata": {
        "id": "wnejOXORWo8l",
        "colab_type": "code",
        "colab": {}
      },
      "source": [
        "m = [[1, 2, 3], [4, 5, 6], [7, 8, 9]]"
      ],
      "execution_count": null,
      "outputs": []
    },
    {
      "cell_type": "code",
      "metadata": {
        "id": "ivZh9Wt9ZZLm",
        "colab_type": "code",
        "colab": {}
      },
      "source": [
        "m[0]"
      ],
      "execution_count": null,
      "outputs": []
    },
    {
      "cell_type": "code",
      "metadata": {
        "id": "gy8dh1NHZaJL",
        "colab_type": "code",
        "colab": {}
      },
      "source": [
        "m[0][2]"
      ],
      "execution_count": null,
      "outputs": []
    },
    {
      "cell_type": "markdown",
      "metadata": {
        "id": "AaYrMkjFZeqy",
        "colab_type": "text"
      },
      "source": [
        "### Exemplo \n",
        "Implementar uma função em Python que\n",
        "verifica se uma matriz bidimensional é\n",
        "simétrica ou não."
      ]
    },
    {
      "cell_type": "code",
      "metadata": {
        "id": "Rm0mcNE8Zbhz",
        "colab_type": "code",
        "colab": {}
      },
      "source": [
        "def simetrica(l):\n",
        "  nlinhas = len(m)\n",
        "  ncolunas = len(m[0])\n",
        "  for i in range(nlinhas):\n",
        "    for j in range(i+1,ncolunas):\n",
        "      if m[i][j] != m[j][i]:    \n",
        "      return False\n",
        "  return True\n"
      ],
      "execution_count": null,
      "outputs": []
    },
    {
      "cell_type": "markdown",
      "metadata": {
        "id": "Ji51Uc3ud4IM",
        "colab_type": "text"
      },
      "source": [
        "### Exercício\n",
        "\n",
        "Implementar uma função em Python que\n",
        "recebe uma matriz bidimensional e retorna\n",
        "sua correspondente transposta."
      ]
    },
    {
      "cell_type": "code",
      "metadata": {
        "id": "0Z_8a5cKd3P9",
        "colab_type": "code",
        "colab": {}
      },
      "source": [
        "def transposta(l):\n",
        "  tam = len(l)\n",
        "  lt = [[0,0],[0,0]]\n",
        "  for i in range(tam):\n",
        "    for j in range(tam):\n",
        "      lt[i][j] =l[j][i]\n",
        "  return lt\n",
        "m = [[1,2],[3,4]]\n",
        "t = transposta(m)\n",
        "for linha in t: \n",
        "  print(linha) "
      ],
      "execution_count": null,
      "outputs": []
    },
    {
      "cell_type": "markdown",
      "metadata": {
        "id": "Nc_mx0qJd87e",
        "colab_type": "text"
      },
      "source": [
        "## Exercício de Apoio - Semana 7\n",
        "\n",
        "Problema Prático 4.1 \n",
        "\n",
        "Comece executando a atribuição: s = '0123456789' Agora, escreva expressões (usando s e o operador de indexação) que sejam avaliadas como: \n",
        "\n",
        "(a)'234' \n",
        "\n",
        "(b)'78' \n",
        "\n",
        "(c)'1234567' \n",
        "\n",
        "(d)'0123' \n",
        "\n",
        "(e)'789'\n"
      ]
    },
    {
      "cell_type": "code",
      "metadata": {
        "id": "BowLsgFKezoa",
        "colab_type": "code",
        "colab": {}
      },
      "source": [
        "s = '0123456789'\n",
        "print('a)\\n\\n',s[2:5])\n",
        "print('b)\\n\\n',s[7:9])\n",
        "print('c)\\n\\n', s[1:8])\n",
        "print('d)\\n\\n',s[:4])\n",
        "print('e)\\n\\n',s[7:])\n",
        "print('f)\\n\\n', s[-3:1])"
      ],
      "execution_count": null,
      "outputs": []
    },
    {
      "cell_type": "markdown",
      "metadata": {
        "id": "pB6Ff16je1Cb",
        "colab_type": "text"
      },
      "source": [
        "Problema Prático 4.2 \n",
        "\n",
        "Supondo que a variável previsão tenha recebido a string 'It will be a sunny day today' escreva instruções Python correspondentes a estas atribuições: \n",
        "\n",
        "(a)À variável cont, a quantidade de ocorrências da string 'day' na string previsão. \n",
        "\n",
        "(b)À variável clima, o índice em que a substring 'sunny' começa. \n",
        "\n",
        "(c)À variável troca, uma cópia de previsão na qual cada ocorrência da substring 'sunny' é substituída por 'cloudy'."
      ]
    },
    {
      "cell_type": "code",
      "metadata": {
        "id": "YPC-IsUbfCqc",
        "colab_type": "code",
        "colab": {}
      },
      "source": [
        "def problema_4_2():\n",
        "    forecast = 'It will be a sunny day today'\n",
        "    cont = forecast.count('day')\n",
        "    print ('a)\\n\\n',cont)\n",
        "    clima = forecast.find('sunny')\n",
        "    print ('b)\\n\\n',clima)\n",
        "    troca = forecast.replace('sunny', 'cloudy')\n",
        "    print ('c)\\n\\n',troca)\n",
        "problema_4_2()"
      ],
      "execution_count": null,
      "outputs": []
    },
    {
      "cell_type": "markdown",
      "metadata": {
        "id": "Fzd9jU0MfDdH",
        "colab_type": "text"
      },
      "source": [
        "Problema Prático 5.9 \n",
        "\n",
        "Escreva uma função soma2D() que aceita duas listas bidimensionais do mesmo tamanho (ou seja, o mesmo número de linhas e colunas) como argumentos de entrada e incrementa cada entrada na primeira lista com o valor da entrada correspondente na segunda lista. \n",
        "\n",
        "```\n",
        "t = [[4, 7, 2, 5], [5, 1, 9, 2], [8, 3, 6, 6]] \n",
        "s = [[0, 1, 2, 0], [0, 1, 1, 1], [0, 1, 0, 0]] \n",
        "soma2D(t,s)\n",
        "for linha in t: \n",
        "  print(linha) \n",
        "```\n",
        "[4, 8, 4, 5] [5, 2, 10, 3] [8, 4, 6, 6]"
      ]
    },
    {
      "cell_type": "code",
      "metadata": {
        "id": "bDIN_lusfmD1",
        "colab_type": "code",
        "colab": {}
      },
      "source": [
        "def soma2D(t1,t2):\n",
        "    '''\n",
        "    t1 e t2 são listas 2D com o mesmo número de linhas e mesmo número de colunas de \n",
        "    tamanho igual add2D incrementa cada item t1[i][j[ por t2[i][j]\n",
        "    ''' \n",
        "    nlinhas = len(t1) # número de linhas \n",
        "    ncolunas = len(t1[0]) # número de colunas \n",
        "    for i in range(nlinhas): # para cada índice de linha i \n",
        "        for j in range(ncolunas): # para cada índice de coluna j \n",
        "            \n",
        "            t1[i][j] += t2[i][j]\n",
        "    return t1\n"
      ],
      "execution_count": null,
      "outputs": []
    },
    {
      "cell_type": "markdown",
      "metadata": {
        "id": "u8b3iP6MmcBp",
        "colab_type": "text"
      },
      "source": [
        "## Extra Numpy"
      ]
    },
    {
      "cell_type": "code",
      "metadata": {
        "id": "UEcF11htVcG7",
        "colab_type": "code",
        "colab": {}
      },
      "source": [
        "import numpy as np\n",
        "\n",
        "v1 = [0,1,2,3]\n",
        "v2 = [4,5,6,7]\n",
        "a1 = np.array(v1)\n",
        "a2 = np.array(v2)\n",
        "print(type(a1),type(a2))"
      ],
      "execution_count": null,
      "outputs": []
    },
    {
      "cell_type": "code",
      "metadata": {
        "id": "-NOwSINEVcHD",
        "colab_type": "code",
        "colab": {}
      },
      "source": [
        "a1+a2"
      ],
      "execution_count": null,
      "outputs": []
    },
    {
      "cell_type": "code",
      "metadata": {
        "id": "cGDV--n3VcHL",
        "colab_type": "code",
        "colab": {}
      },
      "source": [
        "a2 - a1"
      ],
      "execution_count": null,
      "outputs": []
    },
    {
      "cell_type": "code",
      "metadata": {
        "id": "y6QxV-sxVcHS",
        "colab_type": "code",
        "colab": {}
      },
      "source": [
        "a1[1] = 'sim'"
      ],
      "execution_count": null,
      "outputs": []
    },
    {
      "cell_type": "code",
      "metadata": {
        "id": "M2aIX7w_VcHZ",
        "colab_type": "code",
        "colab": {}
      },
      "source": [
        "a1 ** 2"
      ],
      "execution_count": null,
      "outputs": []
    },
    {
      "cell_type": "code",
      "metadata": {
        "id": "Xt2Dv-b4VcHe",
        "colab_type": "code",
        "colab": {}
      },
      "source": [
        "type(a1)"
      ],
      "execution_count": null,
      "outputs": []
    },
    {
      "cell_type": "code",
      "metadata": {
        "id": "XkA8RTRfVcHi",
        "colab_type": "code",
        "colab": {}
      },
      "source": [
        "a1.shape"
      ],
      "execution_count": null,
      "outputs": []
    },
    {
      "cell_type": "code",
      "metadata": {
        "id": "rbys9WYzVcHn",
        "colab_type": "code",
        "colab": {}
      },
      "source": [
        "type(a1[0])"
      ],
      "execution_count": null,
      "outputs": []
    },
    {
      "cell_type": "code",
      "metadata": {
        "id": "seAN6FbUVcHq",
        "colab_type": "code",
        "colab": {}
      },
      "source": [
        "a1 = np.arange(4)\n",
        "a1"
      ],
      "execution_count": null,
      "outputs": []
    },
    {
      "cell_type": "code",
      "metadata": {
        "id": "XL9p3BzRVcHu",
        "colab_type": "code",
        "colab": {}
      },
      "source": [
        "a1.shape = (2,2)\n",
        "a1"
      ],
      "execution_count": null,
      "outputs": []
    },
    {
      "cell_type": "code",
      "metadata": {
        "id": "s7gbwk5mVcHx",
        "colab_type": "code",
        "colab": {}
      },
      "source": [
        "a1 = np.arange(4)\n",
        "a1.reshape(2,2)"
      ],
      "execution_count": null,
      "outputs": []
    },
    {
      "cell_type": "code",
      "metadata": {
        "id": "m2JJuIT0VcH0",
        "colab_type": "code",
        "colab": {}
      },
      "source": [
        "a1"
      ],
      "execution_count": null,
      "outputs": []
    },
    {
      "cell_type": "code",
      "metadata": {
        "id": "bSwC_fl6aK8l",
        "colab_type": "code",
        "colab": {}
      },
      "source": [
        "a1[-1::-1]"
      ],
      "execution_count": null,
      "outputs": []
    },
    {
      "cell_type": "code",
      "metadata": {
        "id": "CyIJhw-7VcH3",
        "colab_type": "code",
        "colab": {}
      },
      "source": [
        "a1.resize(2,2)\n",
        "a1"
      ],
      "execution_count": null,
      "outputs": []
    },
    {
      "cell_type": "code",
      "metadata": {
        "id": "pP4gRI2vVcH6",
        "colab_type": "code",
        "colab": {}
      },
      "source": [
        "a1.flatten()"
      ],
      "execution_count": null,
      "outputs": []
    },
    {
      "cell_type": "code",
      "metadata": {
        "id": "oYkr3-Yuazzt",
        "colab_type": "code",
        "colab": {}
      },
      "source": [
        "a1"
      ],
      "execution_count": null,
      "outputs": []
    },
    {
      "cell_type": "code",
      "metadata": {
        "id": "ctxnnns4awC2",
        "colab_type": "code",
        "colab": {}
      },
      "source": [
        "a1 = a1.flatten()\n",
        "a1"
      ],
      "execution_count": null,
      "outputs": []
    },
    {
      "cell_type": "code",
      "metadata": {
        "id": "Yrnpon3xVcH9",
        "colab_type": "code",
        "colab": {}
      },
      "source": [
        "a1.resize(2,2)"
      ],
      "execution_count": null,
      "outputs": []
    },
    {
      "cell_type": "code",
      "metadata": {
        "id": "MjP-0kyyVcIA",
        "colab_type": "code",
        "colab": {}
      },
      "source": [
        "a2.resize(2,2)\n",
        "a2"
      ],
      "execution_count": null,
      "outputs": []
    },
    {
      "cell_type": "code",
      "metadata": {
        "id": "dqjQcL9XVcID",
        "colab_type": "code",
        "colab": {}
      },
      "source": [
        "a1*a2"
      ],
      "execution_count": null,
      "outputs": []
    },
    {
      "cell_type": "code",
      "metadata": {
        "id": "4U5qPBxZVcIG",
        "colab_type": "code",
        "colab": {}
      },
      "source": [
        "np.dot(a1,a2)"
      ],
      "execution_count": null,
      "outputs": []
    },
    {
      "cell_type": "code",
      "metadata": {
        "id": "gy75yvxSopNm",
        "colab_type": "code",
        "colab": {}
      },
      "source": [
        "a1"
      ],
      "execution_count": null,
      "outputs": []
    },
    {
      "cell_type": "code",
      "metadata": {
        "id": "zEPtqgkjVcIM",
        "colab_type": "code",
        "colab": {}
      },
      "source": [
        "np.concatenate((a1,a2), axis=1)"
      ],
      "execution_count": null,
      "outputs": []
    },
    {
      "cell_type": "code",
      "metadata": {
        "id": "BBBs3VeOVcIP",
        "colab_type": "code",
        "colab": {}
      },
      "source": [
        "a3 = np.concatenate((a1,a2), axis=1)\n",
        "a4 = np.hstack((a1,a2))\n",
        "a4"
      ],
      "execution_count": null,
      "outputs": []
    },
    {
      "cell_type": "code",
      "metadata": {
        "id": "iCKmUmHgVcIS",
        "colab_type": "code",
        "colab": {}
      },
      "source": [
        "a3 == a4"
      ],
      "execution_count": null,
      "outputs": []
    },
    {
      "cell_type": "code",
      "metadata": {
        "id": "9F4QwENZVcIV",
        "colab_type": "code",
        "colab": {}
      },
      "source": [
        "a3.dtype"
      ],
      "execution_count": null,
      "outputs": []
    },
    {
      "cell_type": "code",
      "metadata": {
        "id": "bThbgaWMVcIZ",
        "colab_type": "code",
        "colab": {}
      },
      "source": [
        "a3.size"
      ],
      "execution_count": null,
      "outputs": []
    },
    {
      "cell_type": "code",
      "metadata": {
        "id": "hruIh2-ZVcIb",
        "colab_type": "code",
        "colab": {}
      },
      "source": [
        "len(a3)"
      ],
      "execution_count": null,
      "outputs": []
    },
    {
      "cell_type": "code",
      "metadata": {
        "id": "cMZoFABgVcIf",
        "colab_type": "code",
        "colab": {}
      },
      "source": [
        "a1"
      ],
      "execution_count": null,
      "outputs": []
    },
    {
      "cell_type": "code",
      "metadata": {
        "id": "FGGM-GwWVcIi",
        "colab_type": "code",
        "colab": {}
      },
      "source": [
        "a1.T"
      ],
      "execution_count": null,
      "outputs": []
    },
    {
      "cell_type": "code",
      "metadata": {
        "id": "VhXCD9sVVcIl",
        "colab_type": "code",
        "colab": {}
      },
      "source": [
        "a1.tolist()"
      ],
      "execution_count": null,
      "outputs": []
    },
    {
      "cell_type": "code",
      "metadata": {
        "id": "U_UkNlFgVcIp",
        "colab_type": "code",
        "colab": {}
      },
      "source": [
        "type(a1)"
      ],
      "execution_count": null,
      "outputs": []
    },
    {
      "cell_type": "code",
      "metadata": {
        "id": "i45gP4h2VcIs",
        "colab_type": "code",
        "colab": {}
      },
      "source": [
        "a3 = np.arange(25).reshape(5,5)\n",
        "a3"
      ],
      "execution_count": null,
      "outputs": []
    },
    {
      "cell_type": "code",
      "metadata": {
        "id": "2YQCjyl6VcIu",
        "colab_type": "code",
        "colab": {}
      },
      "source": [
        "import matplotlib.pyplot as plt\n",
        "\n",
        "plt.imshow(a3)"
      ],
      "execution_count": null,
      "outputs": []
    },
    {
      "cell_type": "code",
      "metadata": {
        "id": "BmaFOw-6VcIx",
        "colab_type": "code",
        "colab": {}
      },
      "source": [
        "a3[4][4] = a3[0][0]\n",
        "plt.imshow(a3,cmap='hot')\n",
        "plt.colorbar()"
      ],
      "execution_count": null,
      "outputs": []
    }
  ]
}