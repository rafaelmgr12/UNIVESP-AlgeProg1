{
  "nbformat": 4,
  "nbformat_minor": 0,
  "metadata": {
    "colab": {
      "name": "Semana_5.ipynb",
      "provenance": [],
      "private_outputs": true,
      "collapsed_sections": [],
      "toc_visible": true,
      "authorship_tag": "ABX9TyNal/E3Hmbujwl34DWpSAwk",
      "include_colab_link": true
    },
    "kernelspec": {
      "name": "python3",
      "display_name": "Python 3"
    }
  },
  "cells": [
    {
      "cell_type": "markdown",
      "metadata": {
        "id": "view-in-github",
        "colab_type": "text"
      },
      "source": [
        "<a href=\"https://colab.research.google.com/github/rafaelmgr12/UNIVESP-AlgeProg1/blob/master/Semana_5.ipynb\" target=\"_parent\"><img src=\"https://colab.research.google.com/assets/colab-badge.svg\" alt=\"Open In Colab\"/></a>"
      ]
    },
    {
      "cell_type": "markdown",
      "metadata": {
        "id": "j5FjSO4W7AyZ",
        "colab_type": "text"
      },
      "source": [
        "# Semana 5 - Estruturas de condição\n",
        "\n",
        "\n",
        "\n"
      ]
    },
    {
      "cell_type": "markdown",
      "metadata": {
        "id": "kD9Xhbz81zDj",
        "colab_type": "text"
      },
      "source": [
        "# Setup Google Collab\n"
      ]
    },
    {
      "cell_type": "code",
      "metadata": {
        "id": "fuV9Na4j113s",
        "colab_type": "code",
        "colab": {}
      },
      "source": [
        "try:\n",
        "    import google.colab\n",
        "    IN_COLAB = True\n",
        "except:\n",
        "    IN_COLAB = False\n",
        "if IN_COLAB:\n",
        "    print(\"Baixando Funções que serão usadas nesse notebook\")\n",
        "    ! shred -u funcoes.py\n",
        "    ! wget https://raw.githubusercontent.com/rafaelmgr12/UNIVESP-AlgeProg1/master/funcoes/funcoes.py -O funcoes.py\n",
        "    import funcoes as func\n",
        "    "
      ],
      "execution_count": null,
      "outputs": []
    },
    {
      "cell_type": "code",
      "metadata": {
        "id": "_yBEeR222Ldi",
        "colab_type": "code",
        "colab": {}
      },
      "source": [
        ""
      ],
      "execution_count": null,
      "outputs": []
    },
    {
      "cell_type": "markdown",
      "metadata": {
        "id": "IQgz-wvB7CSK",
        "colab_type": "text"
      },
      "source": [
        "## Estruturas de condição de uma ou duas vias\n",
        "\n",
        "Permitem escolher um conjunto de ações –\n",
        "bloco\n",
        "- Blocos são delimitados por identação\n",
        "\n",
        "A escolha depende de uma condição ser ou\n",
        "não satisfeita\n",
        "\n",
        "A condição é representada por expressões\n",
        "lógicas ou relacionais"
      ]
    },
    {
      "cell_type": "markdown",
      "metadata": {
        "id": "dHqILgFX7Cd2",
        "colab_type": "text"
      },
      "source": [
        "### ESTRUTURAS DE SELEÇÃO\n",
        "As estruturas de seleção podem ser:\n",
        "\n",
        "- seleção de uma via\n",
        "- seleção de duas vias\n",
        "- seleção de três ou mais vias"
      ]
    },
    {
      "cell_type": "markdown",
      "metadata": {
        "id": "9vRdrwKj7DBU",
        "colab_type": "text"
      },
      "source": [
        "#### SELEÇÃO DE UMA VIA\n",
        "\n",
        "Objetivo: testar uma condição antes de\n",
        "executar uma instrução\n",
        "```\n",
        "if <condição>:\n",
        "  <bloco de instruções identado>\n",
        "<bloco de instruções não identado>\n",
        "```"
      ]
    },
    {
      "cell_type": "markdown",
      "metadata": {
        "id": "kNMdGag-7C-z",
        "colab_type": "text"
      },
      "source": [
        "### SELEÇÃO DE DUAS VIAS\n",
        "\n",
        "Dois blocos alternativos dependendo da\n",
        "condição:\n",
        "\n",
        "\n",
        "\n",
        "```\n",
        "if <condição>:\n",
        "  <bloco 1 de instruções identado>\n",
        "else:\n",
        "  <bloco 2 de instruções identado>\n",
        "<bloco de instruções não identado>\n",
        "```\n",
        "\n"
      ]
    },
    {
      "cell_type": "markdown",
      "metadata": {
        "id": "xC9aQ4bM7C7W",
        "colab_type": "text"
      },
      "source": [
        "### EXEMPLO\n",
        "\n",
        "Tendo como dados de entrada a altura e o\n",
        "sexo de uma pessoa, construa um\n",
        "programa em Python que calcule seu peso\n",
        "ideal, utilizando para isso as seguintes\n",
        "fórmulas:\n",
        "\n",
        "- Para homens: (72.7 * altura) – 58\n",
        "- Para mulheres: (62.1 * altura) – 44.7"
      ]
    },
    {
      "cell_type": "code",
      "metadata": {
        "id": "zskfsVducDpF",
        "colab_type": "code",
        "colab": {}
      },
      "source": [
        "def peso_ideal(altura,sexo):\n",
        "  if sexo == 'homem':\n",
        "    return (72.7*altura)-58\n",
        "  if sexo == 'mulher':\n",
        "    return (62.1 * altura)-44.7\n",
        "\n",
        "print (peso_ideal(1.80,'homem'))\n",
        "print (peso_ideal(1.60,'mulher'))"
      ],
      "execution_count": null,
      "outputs": []
    },
    {
      "cell_type": "markdown",
      "metadata": {
        "id": "3rIbN8Wz7Cbf",
        "colab_type": "text"
      },
      "source": [
        "### Exercício \n",
        "\n",
        "Faça um programa em Python que leia duas\n",
        "notas N1 e N2 de um aluno, e informe se ele\n",
        "foi aprovado ou não numa disciplina.\n",
        "Considere que a média final é dada pela\n",
        "equação:\n",
        "média = 0.4 * N1 + 0.6 * N2\n",
        "E que o aluno está aprovado se a média for\n",
        "maior ou igual a 5.0, e reprovado caso\n",
        "contrário."
      ]
    },
    {
      "cell_type": "code",
      "metadata": {
        "id": "5T3BhX0Lgu69",
        "colab_type": "code",
        "colab": {}
      },
      "source": [
        "def nota_final(n1,n2):\n",
        "  media = 0.4*n1+0.8*n2\n",
        "  if media >= 5:\n",
        "    print(\"Aprovado\")\n",
        "  else :\n",
        "    print(\"Reprovado\")\n",
        "\n",
        "nota_final(6,8)\n",
        "nota_final(4,4)"
      ],
      "execution_count": null,
      "outputs": []
    },
    {
      "cell_type": "markdown",
      "metadata": {
        "id": "8H0NR7Kq7CZy",
        "colab_type": "text"
      },
      "source": [
        "## Estruturas de condição de três ou mais vias"
      ]
    },
    {
      "cell_type": "markdown",
      "metadata": {
        "id": "PAYo92087CXG",
        "colab_type": "text"
      },
      "source": [
        "### SELEÇÃO DE TRÊS OU MAIS VIAS\n",
        "\n",
        "Decisões de três ou mais vias têm o seguinte\n",
        "formato:\n",
        "```\n",
        "if <condição 1>:\n",
        "  <bloco de instruções identado 1>\n",
        "elif <condição 2>:\n",
        "  <bloco de instruções identado 2>\n",
        "elif <condição 3>:\n",
        "  <bloco de instruções identado 3>\n",
        "else:\n",
        "  <último bloco de instruções identado>\n",
        "<bloco de instruções não identado>\n",
        "```"
      ]
    },
    {
      "cell_type": "markdown",
      "metadata": {
        "id": "URuXRZ0P7CVa",
        "colab_type": "text"
      },
      "source": [
        "Se <condição 1> é verdadeira, então <bloco de\n",
        "instruções identado 1> é executado\n",
        "\n",
        "Se <condição 1> é falsa e <condição 2> é verdadeira,\n",
        "então <bloco de instruções identado 2> é executado\n",
        "\n",
        "Se <condição 1> e <condição 2> são falsas mas\n",
        "<condição 3> é verdadeira, então <bloco de instruções\n",
        "identado 3> é executado\n",
        "\n",
        "Se nenhuma condição for verdadeira, então <último\n",
        "bloco de instruções> é executado\n",
        "\n",
        "Em todos os casos, o programa irá prosseguir com\n",
        "<bloco de instruções não identado>"
      ]
    },
    {
      "cell_type": "markdown",
      "metadata": {
        "id": "13htewsaigRB",
        "colab_type": "text"
      },
      "source": [
        "### ORDEM DAS CONDIÇÕES\n",
        "No caso de condições com três ou mais vias, é\n",
        "necessário verificar a ordem em que as\n",
        "condições são definidas:\n",
        "```\n",
        "def temperatura(t):\n",
        "  if t > 32:\n",
        "    print('Frio!')\n",
        "  elif t > 86:\n",
        "    print('Quente!')\n",
        "else:\n",
        "  print('Congelando!')\n",
        "```\n",
        "\n",
        "**Como Corrigir?**"
      ]
    },
    {
      "cell_type": "code",
      "metadata": {
        "id": "yaH09O4rixm4",
        "colab_type": "code",
        "colab": {}
      },
      "source": [
        "def temperatura(t):\n",
        "  if t > 32 and t  < 86:\n",
        "    print('Frio!')\n",
        "  elif t > 86:\n",
        "    print('Quente!')\n",
        "  else:\n",
        "    print('Congelando!')\n",
        "\n",
        "def temperatura_2(t):\n",
        "  if t > 86:\n",
        "    print('Quente!')\n",
        "  elif t > 32:\n",
        "    print('Frio!')\n",
        "  else:\n",
        "    print('Congelando!')"
      ],
      "execution_count": null,
      "outputs": []
    },
    {
      "cell_type": "markdown",
      "metadata": {
        "id": "weEt2fBY7CP5",
        "colab_type": "text"
      },
      "source": [
        "## Exercício de apoio - Semana 5\n"
      ]
    },
    {
      "cell_type": "markdown",
      "metadata": {
        "id": "SnvYc3bO79vI",
        "colab_type": "text"
      },
      "source": [
        "Problema Prático 3.2\n",
        "\n",
        "Traduza estas instruções condicionais em instruções if do Python:\n",
        "\n",
        "(a)Se idade é maior que 62, exiba 'Você pode obter benefícios de pensão'.\n",
        "\n",
        "(b)Se o nome está na lista ['Musial', 'Aaraon', 'Williams', 'Gehrig', 'Ruth'], exiba 'Um dos 5 maiores jogadores de beisebol de todos os tempos!'.\n",
        "\n",
        "(c)Se golpes é maior que 10 e defesas é 0, exiba 'Você está morto…'.\n",
        "\n",
        "(d)Se pelo menos uma das variáveis booleanas norte, sul, leste e oeste for True, exiba 'Posso escapar.'."
      ]
    },
    {
      "cell_type": "code",
      "metadata": {
        "id": "EK5P3krh78aD",
        "colab_type": "code",
        "colab": {}
      },
      "source": [
        "#a)\n",
        "idade = eval(input(\"Digite sua Idade\\n\"))\n",
        "if idade > 62:\n",
        "  print(\"Você pode obter benefícios de pensão\\n\")\n",
        "#b)\n",
        "    \n",
        "jogadores = ['Musial', 'Aaraon', 'Williams', 'Gehrig', 'Ruth']\n",
        "nome = input(\"Digite um nome\\n\")\n",
        "if nome in jogadores:\n",
        "  print(\"Um dos 5 maiores jogadores de beisebol de todos os tempos!\\n\")\n",
        "\n",
        "golpes = eval(input(\"O valor do golpe\\n\"))\n",
        "defesas = eval(input(\"O valor da defesa\\n\"))\n",
        "if golpes > 10 and defesas == 0:\n",
        "  print(\"Você está morto\\n\")\n",
        "norte = True\n",
        "sul = False\n",
        "leste = False\n",
        "oeste = True\n",
        "if norte or sul or leste or oeste == True:\n",
        "  print('Posso escapar.\\n')"
      ],
      "execution_count": null,
      "outputs": []
    },
    {
      "cell_type": "markdown",
      "metadata": {
        "id": "1y3AzrQg8H_0",
        "colab_type": "text"
      },
      "source": [
        "Problema Prático 3.3\n",
        "\n",
        "Traduza estas declarações em instruções if/else do Python:\n",
        "\n",
        "(a)Se ano é divisível por 4, exiba 'Pode ser um ano bissexto.'; caso contrário, exiba 'Definitivamente não é um ano bissexto.'\n",
        "\n",
        "(b)Se a lista bilhete é igual à lista loteria, exiba 'Você ganhou!'; se não, exiba 'Melhor sorte da próxima vez…'.\n",
        "\n"
      ]
    },
    {
      "cell_type": "code",
      "metadata": {
        "id": "FLv7eoP38XEg",
        "colab_type": "code",
        "colab": {}
      },
      "source": [
        "#a)\n",
        "ano = eval(input(\"Digite um ano\\n\"))\n",
        "if ano % 4 == 0:\n",
        "  print('Pode ser um ano bissexto.\\n')\n",
        "else:\n",
        "  print('Nãe é um ano bissexto.\\n')\n",
        "\n",
        "#b) \n",
        "import numpy as np\n",
        "print(\"O números da loteria é 1 número inteiro de 0 a 100\\n\\n--------------------------------\\n\\n\")\n",
        "bilhete = eval(input(\"Digite os numeros do bilhete da seguinte forma:\\n 15\\n\"))\n",
        "np.random.seed(10)\n",
        "loteria = np.random.randint(0,100,1)\n",
        "if bilhete == loteria[0]:\n",
        "  print('Você ganhou!\\n')\n",
        "else:\n",
        "  print('Melhor sorte da próxima vez...\\n')"
      ],
      "execution_count": null,
      "outputs": []
    },
    {
      "cell_type": "markdown",
      "metadata": {
        "id": "Ld3gc7yu8ZsU",
        "colab_type": "text"
      },
      "source": [
        "Problema Prático 3.4\n",
        "\n",
        "Implemente um programa que comece pedindo ao usuário para digitar uma identificação de login (ou seja, uma string). O programa, então, verifica se a identificação informada pelo usuário está na lista ['joe', 'sue', ' hani', 'sophie' ] de usuários válidos. Dependendo do resultado, uma mensagem apropriada deverá ser impressa. Não importando o resultado, sua função deverá exibir 'Fim.' antes de terminar. Aqui está um exemplo de um login bem-sucedido:\n",
        "```\n",
        "Login: joe\n",
        "\n",
        "Você entrou!\n",
        "\n",
        "Fim.\n",
        "```\n",
        "E aqui está um que não tem sucesso:\n",
        "\n",
        "```\n",
        "Login: john\n",
        "\n",
        "Usuário desconhecido.\n",
        "\n",
        "Fim.\n",
        "```"
      ]
    },
    {
      "cell_type": "code",
      "metadata": {
        "id": "vIB12RDB8pe5",
        "colab_type": "code",
        "colab": {}
      },
      "source": [
        " usuários = ['joe', 'sue', 'hani', 'sophie']\n",
        "id = input('Login: ')\n",
        "if id in usuários:\n",
        "  print('Você entrou! \\n')\n",
        "else:\n",
        "  print('Usuário desconhecido. \\n')\n",
        "  \n",
        "print('Fim.\\n\\n')"
      ],
      "execution_count": null,
      "outputs": []
    },
    {
      "cell_type": "markdown",
      "metadata": {
        "id": "5O-LUGBK8vbN",
        "colab_type": "text"
      },
      "source": [
        "Problema Prático 5.1\n",
        "\n",
        "Implemente a função meuIMC(), que aceita como entrada a altura de uma pessoa (em metros) e o peso (em quilos) e calcula o Índice de Massa Corporal (IMC) dessa pessoa. A fórmula do IMC é:\n",
        "\n",
        "$$IMC = \\frac{peso}{altura^2}$$\n",
        "\n",
        "Sua função deverá exibir a string 'Abaixo do peso' se o imc < 18.5, 'Normal' se 18,5 <= imc < 25, e 'Sobrepeso' se imc >= 25.\n",
        "\n",
        "```\n",
        "meuIMC *86, 1.90)\n",
        "```\n",
        "Normal\n",
        "```\n",
        "meuIMC (63, 1.90)\n",
        "```\n",
        "Abaixo do peso"
      ]
    },
    {
      "cell_type": "code",
      "metadata": {
        "id": "EZSwoIym9AeT",
        "colab_type": "code",
        "colab": {}
      },
      "source": [
        "def meuIMC(peso, altura):\n",
        "  'exibe relatório do IMC '\n",
        "  imc = peso / altura**2\n",
        "  if imc < 18.5:\n",
        "    print('Abaixo do peso\\n')\n",
        "  elif imc < 25:\n",
        "    print('Normal\\n')\n",
        "  else:                       # pode ser elif imc >= 25\n",
        "    print('Sobrepeso\\n')\n"
      ],
      "execution_count": null,
      "outputs": []
    }
  ]
}