{
  "nbformat": 4,
  "nbformat_minor": 0,
  "metadata": {
    "colab": {
      "name": "Semana_3.ipynb",
      "provenance": [],
      "private_outputs": true,
      "collapsed_sections": [],
      "authorship_tag": "ABX9TyPONAWXrsGr1v9/hBGtuyyg",
      "include_colab_link": true
    },
    "kernelspec": {
      "name": "python3",
      "display_name": "Python 3"
    }
  },
  "cells": [
    {
      "cell_type": "markdown",
      "metadata": {
        "id": "view-in-github",
        "colab_type": "text"
      },
      "source": [
        "<a href=\"https://colab.research.google.com/github/rafaelmgr12/UNIVESP-AlgeProg1/blob/master/Semana_3.ipynb\" target=\"_parent\"><img src=\"https://colab.research.google.com/assets/colab-badge.svg\" alt=\"Open In Colab\"/></a>"
      ]
    },
    {
      "cell_type": "markdown",
      "metadata": {
        "id": "qUdFWPd8DER8",
        "colab_type": "text"
      },
      "source": [
        "# Semana 3\n",
        "\n",
        "## Listas, Tuplas e operadores "
      ]
    },
    {
      "cell_type": "markdown",
      "metadata": {
        "id": "fXCtohVbEamR",
        "colab_type": "text"
      },
      "source": [
        "### Listas\n",
        "\n",
        "Uma lista é uma sequência de objetos.\n",
        "\n",
        "Objetos podem ser de diferentes tipos:\n",
        "números, strings, outras listas, etc.\n",
        "\n",
        "Em Python, uma lista é representada por\n",
        "objetos separados por vírgula, envoltos\n",
        "por colchetes\n",
        "\n"
      ]
    },
    {
      "cell_type": "markdown",
      "metadata": {
        "id": "LoOba6JXFqLq",
        "colab_type": "text"
      },
      "source": [
        "#### Exemplos"
      ]
    },
    {
      "cell_type": "code",
      "metadata": {
        "id": "-qDwFMzQEaQH",
        "colab_type": "code",
        "colab": {}
      },
      "source": [
        "pets = ['cão','gato','peixe'] \n",
        "pets"
      ],
      "execution_count": null,
      "outputs": []
    },
    {
      "cell_type": "code",
      "metadata": {
        "id": "VWUz-88BCSgX",
        "colab_type": "code",
        "colab": {}
      },
      "source": [
        "l = [1, 'ab', [], [1, 2]]"
      ],
      "execution_count": null,
      "outputs": []
    },
    {
      "cell_type": "markdown",
      "metadata": {
        "id": "P8AizqCRGyqO",
        "colab_type": "text"
      },
      "source": [
        "### Operadores \n",
        "Alguns operadores que vimos com strings\n",
        "podem ser usados com listas também:"
      ]
    },
    {
      "cell_type": "code",
      "metadata": {
        "id": "75R7VUtyF0mt",
        "colab_type": "code",
        "colab": {}
      },
      "source": [
        "pets[0]"
      ],
      "execution_count": null,
      "outputs": []
    },
    {
      "cell_type": "code",
      "metadata": {
        "id": "gipPBhqAM9v-",
        "colab_type": "code",
        "colab": {}
      },
      "source": [
        "l[-1]"
      ],
      "execution_count": null,
      "outputs": []
    },
    {
      "cell_type": "markdown",
      "metadata": {
        "id": "wyU5TjObNEPd",
        "colab_type": "text"
      },
      "source": [
        "Outros operadores: in, not in, +, *, len(),\n",
        "min(), max(), sum()"
      ]
    },
    {
      "cell_type": "markdown",
      "metadata": {
        "id": "NOxjCYl6NHCb",
        "colab_type": "text"
      },
      "source": [
        "### Listas Mutáveis\n",
        "\n",
        "Uma diferença importante entre listas e\n",
        "strings é que listas são mutáveis, isto é,\n",
        "seu conteúdo pode variar.\n",
        "\n",
        "Exemplo:"
      ]
    },
    {
      "cell_type": "code",
      "metadata": {
        "id": "mHDVW3FPM_zR",
        "colab_type": "code",
        "colab": {}
      },
      "source": [
        "pets = ['cão', 'gato', 'peixe']\n",
        "pets[1] = 'galinha'\n",
        "pets"
      ],
      "execution_count": null,
      "outputs": []
    },
    {
      "cell_type": "markdown",
      "metadata": {
        "id": "WdrjViDGNgZu",
        "colab_type": "text"
      },
      "source": [
        "### Strings Mutáveis\n",
        "\n",
        "Já strings são imutáveis, ou seja, não\n",
        "podemos alterar caracteres isolados de\n",
        "uma string já criada."
      ]
    },
    {
      "cell_type": "markdown",
      "metadata": {
        "id": "WrK4UjOrNsl9",
        "colab_type": "text"
      },
      "source": [
        "## Tuplas\n",
        "\n",
        "Tuplas são iguais listas, mas imutáveis.\n",
        "Usamos parênteses (()) ao invés de\n",
        "colchetes ([]) para criá-las.\n",
        "\n"
      ]
    },
    {
      "cell_type": "code",
      "metadata": {
        "id": "LsdwOowDNbus",
        "colab_type": "code",
        "colab": {}
      },
      "source": [
        "dias = ('seg','ter','qua')\n",
        "dias"
      ],
      "execution_count": null,
      "outputs": []
    },
    {
      "cell_type": "code",
      "metadata": {
        "id": "xqW6WIrMN-TL",
        "colab_type": "code",
        "colab": {}
      },
      "source": [
        "dias[1] = 'qui'"
      ],
      "execution_count": null,
      "outputs": []
    },
    {
      "cell_type": "markdown",
      "metadata": {
        "id": "ndztFe-HOXha",
        "colab_type": "text"
      },
      "source": [
        "## MÉTODOS\n",
        "\n",
        "Listas em Python possuem métodos que\n",
        "podem ser chamados a partir de uma lista já criada:\n"
      ]
    },
    {
      "cell_type": "code",
      "metadata": {
        "id": "aCrwaLhzOBoI",
        "colab_type": "code",
        "colab": {}
      },
      "source": [
        "pets.append('cão')\n",
        "pets"
      ],
      "execution_count": null,
      "outputs": []
    },
    {
      "cell_type": "markdown",
      "metadata": {
        "id": "nbH1E2-IO42q",
        "colab_type": "text"
      },
      "source": [
        "Outros métodos: count(), index(), insert(),\n",
        "pop(), remove(), reverse(), sort()"
      ]
    },
    {
      "cell_type": "markdown",
      "metadata": {
        "id": "zK1oSYnoPJrv",
        "colab_type": "text"
      },
      "source": [
        "## Tipos de dados\n",
        "\n",
        "Até o momento, vimos os seguintes tipos de\n",
        "dados suportados pela linguagem Python:\n",
        "int, float, bool, str, list e tuple.\n",
        "Cada dado é armazenado na memória na\n",
        "forma de objetos.\n",
        "\n",
        "Todo objeto possui um tipo e um valor.\n",
        "\n",
        "O tipo de um objeto indica quais valores ele\n",
        "pode armazenar e quais operações podem ser\n",
        "executadas.\n",
        "\n",
        "A função type() pode ser usada para verificar o\n",
        "tipo de um objeto:"
      ]
    },
    {
      "cell_type": "code",
      "metadata": {
        "id": "BE7-ELm0OtNK",
        "colab_type": "code",
        "colab": {}
      },
      "source": [
        "type(3)"
      ],
      "execution_count": null,
      "outputs": []
    },
    {
      "cell_type": "code",
      "metadata": {
        "id": "LMZFzGJaPY1I",
        "colab_type": "code",
        "colab": {}
      },
      "source": [
        "type('teste')"
      ],
      "execution_count": null,
      "outputs": []
    },
    {
      "cell_type": "code",
      "metadata": {
        "id": "XtBKa84vPaTO",
        "colab_type": "code",
        "colab": {}
      },
      "source": [
        "l = [1,2,3,]\n",
        "type(l)"
      ],
      "execution_count": null,
      "outputs": []
    },
    {
      "cell_type": "markdown",
      "metadata": {
        "id": "2T32KKvxPfF5",
        "colab_type": "text"
      },
      "source": [
        "### Valores para tipos\n",
        "\n",
        "Dado o tipo do objeto, há um conjunto de\n",
        "valores que esse objeto pode armazenar.\n",
        "Inteiros podem conter valores arbitrariamente\n",
        "altos (depende da disponibilidade de memória\n",
        "do computador):"
      ]
    },
    {
      "cell_type": "code",
      "metadata": {
        "id": "CdeikCNEPiZ5",
        "colab_type": "code",
        "colab": {}
      },
      "source": [
        "2**(1024)"
      ],
      "execution_count": null,
      "outputs": []
    },
    {
      "cell_type": "code",
      "metadata": {
        "id": "lqAJb8BOPtVC",
        "colab_type": "code",
        "colab": {}
      },
      "source": [
        "# float é limitado \n",
        "2.0**(1024)\n"
      ],
      "execution_count": null,
      "outputs": []
    },
    {
      "cell_type": "markdown",
      "metadata": {
        "id": "1I33quDwP7DT",
        "colab_type": "text"
      },
      "source": [
        "No caso de float's, os valores também\n",
        "são aproximados:"
      ]
    },
    {
      "cell_type": "code",
      "metadata": {
        "id": "xMgyfZUSP072",
        "colab_type": "code",
        "colab": {}
      },
      "source": [
        "2**100"
      ],
      "execution_count": null,
      "outputs": []
    },
    {
      "cell_type": "code",
      "metadata": {
        "id": "uY06qqZOP8en",
        "colab_type": "code",
        "colab": {}
      },
      "source": [
        "2.0**100"
      ],
      "execution_count": null,
      "outputs": []
    },
    {
      "cell_type": "code",
      "metadata": {
        "id": "Usvx2LuiP-q1",
        "colab_type": "code",
        "colab": {}
      },
      "source": [
        "2.0**-1075"
      ],
      "execution_count": null,
      "outputs": []
    },
    {
      "cell_type": "markdown",
      "metadata": {
        "id": "Zi8NsGPYQG0b",
        "colab_type": "text"
      },
      "source": [
        "### Criando Objetos\n",
        "Para criar um objeto int com valor 3,\n",
        "fazemos:\n"
      ]
    },
    {
      "cell_type": "code",
      "metadata": {
        "id": "7sHdCsCBQC2R",
        "colab_type": "code",
        "colab": {}
      },
      "source": [
        "x = 3"
      ],
      "execution_count": null,
      "outputs": []
    },
    {
      "cell_type": "markdown",
      "metadata": {
        "id": "8tQT8BPuQSJk",
        "colab_type": "text"
      },
      "source": [
        "Ou então"
      ]
    },
    {
      "cell_type": "code",
      "metadata": {
        "id": "mSdUj5bWQQWU",
        "colab_type": "code",
        "colab": {}
      },
      "source": [
        "x = int(3)"
      ],
      "execution_count": null,
      "outputs": []
    },
    {
      "cell_type": "markdown",
      "metadata": {
        "id": "4AGAe-fNQaP-",
        "colab_type": "text"
      },
      "source": [
        "A função int() é chamada de construtor, e\n",
        "é usada para instanciar um objeto int\n",
        "explicitamente.\n",
        "\n",
        "O número entre parênteses é o valor que\n",
        "será associado ao objeto."
      ]
    },
    {
      "cell_type": "markdown",
      "metadata": {
        "id": "b_3TfH5eQkxC",
        "colab_type": "text"
      },
      "source": [
        "Outros construtores: float(), str() e list().\n",
        "Valores padrão para int, float, str e list: 0, 0.0, ''\n",
        "e []."
      ]
    },
    {
      "cell_type": "code",
      "metadata": {
        "id": "6Z6tFWd3QWdY",
        "colab_type": "code",
        "colab": {}
      },
      "source": [
        "x = int()\n",
        "x"
      ],
      "execution_count": null,
      "outputs": []
    },
    {
      "cell_type": "code",
      "metadata": {
        "id": "Oroc66vhQmk4",
        "colab_type": "code",
        "colab": {}
      },
      "source": [
        "y = str()\n",
        "y"
      ],
      "execution_count": null,
      "outputs": []
    },
    {
      "cell_type": "markdown",
      "metadata": {
        "id": "aN_-9tSnQsfW",
        "colab_type": "text"
      },
      "source": [
        "### Conversão Implícita\n",
        "\n",
        "Se em uma expressão há operandos de\n",
        "diferentes tipos, Python irá converter\n",
        "cada operando para o tipo que contém os\n",
        "outros"
      ]
    },
    {
      "cell_type": "code",
      "metadata": {
        "id": "kUZDxjd8QqxH",
        "colab_type": "code",
        "colab": {}
      },
      "source": [
        "True + 5"
      ],
      "execution_count": null,
      "outputs": []
    },
    {
      "cell_type": "code",
      "metadata": {
        "id": "1zoQRLPQQ199",
        "colab_type": "code",
        "colab": {}
      },
      "source": [
        "False + 5"
      ],
      "execution_count": null,
      "outputs": []
    },
    {
      "cell_type": "code",
      "metadata": {
        "id": "6hrtCYllQ6Yu",
        "colab_type": "code",
        "colab": {}
      },
      "source": [
        "3 + 0.35"
      ],
      "execution_count": null,
      "outputs": []
    },
    {
      "cell_type": "markdown",
      "metadata": {
        "id": "dUUbQNM9RKXq",
        "colab_type": "text"
      },
      "source": [
        "### Conversão explícita\n",
        "\n",
        "Podemos usar os construtores para fazer\n",
        "a conversão explícita entre tipos:\n",
        "\n"
      ]
    },
    {
      "cell_type": "code",
      "metadata": {
        "id": "MSrVtrxUQ-fG",
        "colab_type": "code",
        "colab": {}
      },
      "source": [
        "int(3.4)"
      ],
      "execution_count": null,
      "outputs": []
    },
    {
      "cell_type": "code",
      "metadata": {
        "id": "84uGxpPRRTrc",
        "colab_type": "code",
        "colab": {}
      },
      "source": [
        "str(2.74)"
      ],
      "execution_count": null,
      "outputs": []
    },
    {
      "cell_type": "code",
      "metadata": {
        "id": "JN7GIhXwRVwO",
        "colab_type": "code",
        "colab": {}
      },
      "source": [
        "float(4)"
      ],
      "execution_count": null,
      "outputs": []
    },
    {
      "cell_type": "markdown",
      "metadata": {
        "id": "StGH9WrOR23l",
        "colab_type": "text"
      },
      "source": [
        "## Bibliotecas Padrão no Python\n",
        "\n",
        "Vimos até o momento algumas funções e\n",
        "classes que a linguagem Python oferece:\n",
        "sum(), max(), int, float, etc.\n",
        "\n",
        "A biblioteca padrão Python contém muitas\n",
        "outras funções e classes, as quais estão\n",
        "organizadas em módulos.\n",
        "\n",
        "Cada módulo contém funções e classes\n",
        "específicas para um domínio de aplicação.\n",
        "Mais de 200 módulos formam a bilioteca\n",
        "padrão Python.\n",
        "\n",
        "Alguns exemplos de aplicações que contêm\n",
        "módulos predefinidos:\n",
        "\n",
        "<ul>\n",
        "<li>Programação para redes de computadores</li>\n",
        "<li>Programação de Web</li>\n",
        "<li>Desenvolvimento de interfaces gráficas</li>\n",
        "<li>Banco de dados</li>\n",
        "<li>Funções matemáticas</li>\n",
        "<li>Geradores de números pseudoaleatórios</li>\n",
        "</ul>\n"
      ]
    },
    {
      "cell_type": "markdown",
      "metadata": {
        "id": "oSUEpzk2S-Gb",
        "colab_type": "text"
      },
      "source": [
        "### Módulo Math\n",
        "Para usar o modulo temos"
      ]
    },
    {
      "cell_type": "code",
      "metadata": {
        "id": "xSNpVjAFRZsm",
        "colab_type": "code",
        "colab": {}
      },
      "source": [
        "import math\n",
        "\n",
        "math.sqrt(4)"
      ],
      "execution_count": null,
      "outputs": []
    },
    {
      "cell_type": "code",
      "metadata": {
        "id": "gsZM0Mq7TMHF",
        "colab_type": "code",
        "colab": {}
      },
      "source": [
        "math.log(8,2)"
      ],
      "execution_count": null,
      "outputs": []
    },
    {
      "cell_type": "markdown",
      "metadata": {
        "id": "XpWYeBmZTbsP",
        "colab_type": "text"
      },
      "source": [
        "Para mais funções e constante leia a [documentação](https://docs.python.org/3/library/math.html#module-math)"
      ]
    },
    {
      "cell_type": "markdown",
      "metadata": {
        "id": "luw2fwH1T0fb",
        "colab_type": "text"
      },
      "source": [
        "### Modulo Fractions\n",
        "\n",
        "O tipo fraction é para representar frações e realizar operações com números racionais.\n",
        "\n",
        "Exemplo:\n",
        "\n",
        "$$\\frac{1}{2}+\\frac{3}{4} = \\frac{5}{4}$$"
      ]
    },
    {
      "cell_type": "code",
      "metadata": {
        "id": "yD6MHeC7TPVE",
        "colab_type": "code",
        "colab": {}
      },
      "source": [
        "import fractions\n",
        "a = fractions.Fraction(1,2)\n",
        "b = fractions.Fraction(3,4)\n",
        "a+b"
      ],
      "execution_count": null,
      "outputs": []
    },
    {
      "cell_type": "markdown",
      "metadata": {
        "id": "ottrFGarU1ES",
        "colab_type": "text"
      },
      "source": [
        "Uma particularidade do tipo Fraction é que ele\n",
        "permite representar números muito maiores,\n",
        "quando comparado com o tipo float: "
      ]
    },
    {
      "cell_type": "code",
      "metadata": {
        "id": "Ia8prOF3UstJ",
        "colab_type": "code",
        "colab": {}
      },
      "source": [
        "0.5**1075"
      ],
      "execution_count": null,
      "outputs": []
    },
    {
      "cell_type": "code",
      "metadata": {
        "id": "QL1hlRErU5of",
        "colab_type": "code",
        "colab": {}
      },
      "source": [
        "fractions.Fraction(1, 2) ** 1075"
      ],
      "execution_count": null,
      "outputs": []
    },
    {
      "cell_type": "markdown",
      "metadata": {
        "id": "2Axq0ckzVT1S",
        "colab_type": "text"
      },
      "source": [
        "Obs. Por outro lado, usar o tipo float em\n",
        "expressões é muito mais rápido do que o tipo\n",
        "Fraction."
      ]
    },
    {
      "cell_type": "markdown",
      "metadata": {
        "id": "5GLjDNEQVWdb",
        "colab_type": "text"
      },
      "source": [
        "## Exercício de apoio - Semana 3\n",
        "\n",
        "Problema Prático 2.6\n",
        "\n",
        "Primeiro, execute a atribuição\n",
        "\n",
        "palavras = ['taco', 'bola', 'celeiro', 'cesta', 'peteca']\n",
        "\n",
        "Agora, escreva duas expressões Python que são avaliadas, respectivamente, como a primeiro e a última palavras em palavras, na ordem do dicionário."
      ]
    },
    {
      "cell_type": "code",
      "metadata": {
        "id": "VwkW_nLWU9DU",
        "colab_type": "code",
        "colab": {}
      },
      "source": [
        "palavras = ['taco', 'bola', 'celeiro', 'cesta', 'peteca']"
      ],
      "execution_count": null,
      "outputs": []
    },
    {
      "cell_type": "code",
      "metadata": {
        "id": "4ktoy-g4Vlb_",
        "colab_type": "code",
        "colab": {}
      },
      "source": [
        "min(palavras)"
      ],
      "execution_count": null,
      "outputs": []
    },
    {
      "cell_type": "code",
      "metadata": {
        "id": "6HI3UDycWERs",
        "colab_type": "code",
        "colab": {}
      },
      "source": [
        "max(palavras)"
      ],
      "execution_count": null,
      "outputs": []
    },
    {
      "cell_type": "markdown",
      "metadata": {
        "id": "vvlLpakQWKXv",
        "colab_type": "text"
      },
      "source": [
        "Problema Prático 2.7\n",
        "\n",
        "Dada a lista de notas de trabalho de casa dos alunos\n",
        "\n",
        ">>> notas = [9, 7, 7, 10, 3, 9, 6, 6, 2]\n",
        "\n",
        "escreva:\n",
        "\n",
        "(a)Uma expressão que avalia para o número de 7 notas.\n",
        "\n",
        "(b)Uma instrução que muda a última nota para 4.\n",
        "\n",
        "(c)Uma expressão que avalia para a nota mais alta.\n",
        "\n",
        "(d)Uma instrução que classifica as notas da lista.\n",
        "\n",
        "(e)Uma expressão que avalia para a média das notas."
      ]
    },
    {
      "cell_type": "code",
      "metadata": {
        "id": "6MtXSJ_LWFhP",
        "colab_type": "code",
        "colab": {}
      },
      "source": [
        "notas = [9, 7, 7, 10, 3, 9, 6, 6, 2]\n",
        "notas"
      ],
      "execution_count": null,
      "outputs": []
    },
    {
      "cell_type": "code",
      "metadata": {
        "id": "27pWhq-1WRCF",
        "colab_type": "code",
        "colab": {}
      },
      "source": [
        "#a)\n",
        "notas.count(7)"
      ],
      "execution_count": null,
      "outputs": []
    },
    {
      "cell_type": "code",
      "metadata": {
        "id": "V_uacJk3WYgM",
        "colab_type": "code",
        "colab": {}
      },
      "source": [
        "#b)\n",
        "notas[-1] = 4 \n",
        "notas"
      ],
      "execution_count": null,
      "outputs": []
    },
    {
      "cell_type": "code",
      "metadata": {
        "id": "akb0dT7EWiWA",
        "colab_type": "code",
        "colab": {}
      },
      "source": [
        "#c)\n",
        "max(notas)"
      ],
      "execution_count": null,
      "outputs": []
    },
    {
      "cell_type": "code",
      "metadata": {
        "id": "K3NPzA5KWscw",
        "colab_type": "code",
        "colab": {}
      },
      "source": [
        "#d)\n",
        "notas.sort()\n",
        "notas"
      ],
      "execution_count": null,
      "outputs": []
    },
    {
      "cell_type": "code",
      "metadata": {
        "id": "qR_3axIyWy4I",
        "colab_type": "code",
        "colab": {}
      },
      "source": [
        "#e)\n",
        "sum(notas)/len(notas)"
      ],
      "execution_count": null,
      "outputs": []
    },
    {
      "cell_type": "markdown",
      "metadata": {
        "id": "C7D-FBPnXB8S",
        "colab_type": "text"
      },
      "source": [
        "Problema Prático 2.8\n",
        "\n",
        "Em que ordem os operadores nas expressões a seguir são avaliados?\n",
        "\n",
        "(a)2 + 3 == 4 or a >= 5\n",
        "\n",
        "(b)lst[1] * -3 < -10 == 0\n",
        "\n",
        "(c)(lst[1] * -3 < -10) in [0, True]\n",
        "\n",
        "(d)2 * 3**2\n",
        "\n",
        "(e)4 / 2 in [1, 2, 3]\n",
        "\n"
      ]
    },
    {
      "cell_type": "markdown",
      "metadata": {
        "id": "qAGgs8hlXb2S",
        "colab_type": "text"
      },
      "source": [
        "Reposta:\n",
        "\n",
        "(a)((2 + 3) == 4) or (a >= 5)\n",
        "\n",
        "(b)(((lst[1]) * (-3)) < (-10)) == 0\n",
        "\n",
        "(c)(((lst[1]) * (-3)) < (-10)) in [0, True]\n",
        "\n",
        "(d)2 * (3**2)\n",
        "\n",
        "(e)(4 / 2) in [1, 2, 3]"
      ]
    },
    {
      "cell_type": "markdown",
      "metadata": {
        "id": "7DYyFbcUXsjv",
        "colab_type": "text"
      },
      "source": [
        "Problema Prático 2.9\n",
        "\n",
        "Qual é o tipo do objeto ao qual essas expressões são avaliadas?\n",
        "\n",
        "(a)False + False\n",
        "\n",
        "(b)2 * 3**2.0\n",
        "\n",
        "(c)4 // 2 + 4 % 2\n",
        "\n",
        "(d)2 + 3 == 4 or 5 >= 5"
      ]
    },
    {
      "cell_type": "code",
      "metadata": {
        "id": "zdM6toSDXmLW",
        "colab_type": "code",
        "colab": {}
      },
      "source": [
        "#a)\n",
        "False + False"
      ],
      "execution_count": null,
      "outputs": []
    },
    {
      "cell_type": "code",
      "metadata": {
        "id": "BobiY9g4X-u9",
        "colab_type": "code",
        "colab": {}
      },
      "source": [
        "#b)\n",
        "2*3**2.0"
      ],
      "execution_count": null,
      "outputs": []
    },
    {
      "cell_type": "code",
      "metadata": {
        "id": "W_Guq47rYCS8",
        "colab_type": "code",
        "colab": {}
      },
      "source": [
        "#c)\n",
        "4//2 + 4%2"
      ],
      "execution_count": null,
      "outputs": []
    },
    {
      "cell_type": "code",
      "metadata": {
        "id": "dQv5YDwUYHBb",
        "colab_type": "code",
        "colab": {}
      },
      "source": [
        "#d)\n",
        "2+3 == 4 or 5>=5"
      ],
      "execution_count": null,
      "outputs": []
    },
    {
      "cell_type": "markdown",
      "metadata": {
        "id": "rp4NlyTHYWMG",
        "colab_type": "text"
      },
      "source": [
        "Problema Prático 2.9\n",
        "\n",
        "Qual é o tipo do objeto ao qual essas expressões são avaliadas?\n",
        "\n",
        "(a)False + False\n",
        "\n",
        "(b)2 * 3**2.0\n",
        "\n",
        "(c)4 // 2 + 4 % 2\n",
        "\n",
        "(d)2 + 3 == 4 or 5 >= 5"
      ]
    },
    {
      "cell_type": "markdown",
      "metadata": {
        "id": "ixaVp1goYggT",
        "colab_type": "text"
      },
      "source": [
        "Problema Prático 2.10\n",
        "\n",
        "Escreva expressões Python correspondentes ao seguinte:\n",
        "\n",
        "(a)O comprimento da hipotenusa em um triângulo retângulo cujos dois outros lados têm comprimentos a e b\n",
        "\n",
        "(b)O valor da expressão que avalia se o comprimento da hipotenusa acima é 5\n",
        "\n",
        "(c)A área de um disco com raio a\n",
        "\n",
        "(d)O valor da expressão Booleana que verifica se um ponto com coordenadas x e y está dentro de um círculo com centro (a, b) e raio r\n",
        "\n"
      ]
    },
    {
      "cell_type": "markdown",
      "metadata": {
        "id": "8MoQf_n3aM8g",
        "colab_type": "text"
      },
      "source": [
        "Respostas:\n",
        "\n",
        "a) A hipotenusa é dado por\n",
        "$$h = \\sqrt{a^2 + b^2}$$"
      ]
    },
    {
      "cell_type": "code",
      "metadata": {
        "id": "4ly5KvyhYeU6",
        "colab_type": "code",
        "colab": {}
      },
      "source": [
        "#a)\n",
        "import math\n",
        "a = 3\n",
        "b = 4\n",
        "\n",
        "h = math.sqrt(a**2 + b**2)\n",
        "h"
      ],
      "execution_count": null,
      "outputs": []
    },
    {
      "cell_type": "code",
      "metadata": {
        "id": "jZO-SPIYaiDY",
        "colab_type": "code",
        "colab": {}
      },
      "source": [
        "# b)\n",
        "h == 5"
      ],
      "execution_count": null,
      "outputs": []
    },
    {
      "cell_type": "markdown",
      "metadata": {
        "id": "N2kOOJCMazIo",
        "colab_type": "text"
      },
      "source": [
        "c)\n",
        "A área de disco é dado por\n",
        "$$A = \\pi r^2$$"
      ]
    },
    {
      "cell_type": "code",
      "metadata": {
        "id": "dYr_WwiVauIr",
        "colab_type": "code",
        "colab": {}
      },
      "source": [
        "r = 2\n",
        "A = math.pi * r**2\n",
        "A"
      ],
      "execution_count": null,
      "outputs": []
    },
    {
      "cell_type": "code",
      "metadata": {
        "id": "EfEPP24rbH8R",
        "colab_type": "code",
        "colab": {}
      },
      "source": [
        "#d)\n",
        "# parametros do circulo\n",
        "a = 0\n",
        "b = 0\n",
        "x = 0.5\n",
        "y = 1\n",
        "\n",
        "# Equação do circulo\n",
        "R = (x - a)**2 + (y - b)**2\n",
        "R < r**2"
      ],
      "execution_count": null,
      "outputs": []
    }
  ]
}